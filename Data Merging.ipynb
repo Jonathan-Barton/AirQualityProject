{
 "cells": [
  {
   "cell_type": "markdown",
   "metadata": {},
   "source": [
    "# Data Merging "
   ]
  },
  {
   "cell_type": "markdown",
   "metadata": {},
   "source": [
    "## Reading in Datasets"
   ]
  },
  {
   "cell_type": "markdown",
   "metadata": {},
   "source": [
    "* Read the datasets in and add a merge column, which is comprised of date, county, and state. Headers printed to ensure correct loading and modification of data. Columns were renamed in excel to a python-friendly name (i.e. _ instead of spaces) "
   ]
  },
  {
   "cell_type": "code",
   "execution_count": 1,
   "metadata": {},
   "outputs": [],
   "source": [
    "import pandas as pd\n",
    "import csv\n",
    "import statsmodels.formula.api as sm\n",
    "from sklearn import linear_model"
   ]
  },
  {
   "cell_type": "code",
   "execution_count": 2,
   "metadata": {},
   "outputs": [],
   "source": [
    "\n",
    "AQData = pd.read_csv('AQData.csv')\n",
    "AQData = AQData.drop(['Unnamed: 0'], axis=1)\n",
    "covidData = pd.read_csv('cleanedCovidData.csv')\n",
    "covidData = covidData.drop(['Unnamed: 0'], axis=1)"
   ]
  },
  {
   "cell_type": "code",
   "execution_count": 3,
   "metadata": {},
   "outputs": [
    {
     "data": {
      "text/html": [
       "<div>\n",
       "<style scoped>\n",
       "    .dataframe tbody tr th:only-of-type {\n",
       "        vertical-align: middle;\n",
       "    }\n",
       "\n",
       "    .dataframe tbody tr th {\n",
       "        vertical-align: top;\n",
       "    }\n",
       "\n",
       "    .dataframe thead th {\n",
       "        text-align: right;\n",
       "    }\n",
       "</style>\n",
       "<table border=\"1\" class=\"dataframe\">\n",
       "  <thead>\n",
       "    <tr style=\"text-align: right;\">\n",
       "      <th></th>\n",
       "      <th>Date_Local</th>\n",
       "      <th>State_Name</th>\n",
       "      <th>County_Name</th>\n",
       "      <th>Arithmetic_Mean_ppb</th>\n",
       "      <th>AQI_ozone</th>\n",
       "      <th>Arithmetic_Mean_cleaned</th>\n",
       "      <th>AQI_no2</th>\n",
       "      <th>Arithmetic_Mean</th>\n",
       "      <th>AQI</th>\n",
       "      <th>uniqueID</th>\n",
       "    </tr>\n",
       "  </thead>\n",
       "  <tbody>\n",
       "    <tr>\n",
       "      <th>0</th>\n",
       "      <td>5/1/2020</td>\n",
       "      <td>Alabama</td>\n",
       "      <td>Baldwin</td>\n",
       "      <td>35.000000</td>\n",
       "      <td>50.000000</td>\n",
       "      <td>NaN</td>\n",
       "      <td>NaN</td>\n",
       "      <td>NaN</td>\n",
       "      <td>NaN</td>\n",
       "      <td>Baldwin, Alabama</td>\n",
       "    </tr>\n",
       "    <tr>\n",
       "      <th>1</th>\n",
       "      <td>5/1/2020</td>\n",
       "      <td>Alabama</td>\n",
       "      <td>DeKalb</td>\n",
       "      <td>47.000000</td>\n",
       "      <td>58.000000</td>\n",
       "      <td>NaN</td>\n",
       "      <td>NaN</td>\n",
       "      <td>NaN</td>\n",
       "      <td>NaN</td>\n",
       "      <td>DeKalb, Alabama</td>\n",
       "    </tr>\n",
       "    <tr>\n",
       "      <th>2</th>\n",
       "      <td>5/1/2020</td>\n",
       "      <td>Alabama</td>\n",
       "      <td>Elmore</td>\n",
       "      <td>28.000000</td>\n",
       "      <td>44.000000</td>\n",
       "      <td>NaN</td>\n",
       "      <td>NaN</td>\n",
       "      <td>NaN</td>\n",
       "      <td>NaN</td>\n",
       "      <td>Elmore, Alabama</td>\n",
       "    </tr>\n",
       "    <tr>\n",
       "      <th>3</th>\n",
       "      <td>5/1/2020</td>\n",
       "      <td>Alabama</td>\n",
       "      <td>Etowah</td>\n",
       "      <td>34.000000</td>\n",
       "      <td>51.000000</td>\n",
       "      <td>NaN</td>\n",
       "      <td>NaN</td>\n",
       "      <td>NaN</td>\n",
       "      <td>NaN</td>\n",
       "      <td>Etowah, Alabama</td>\n",
       "    </tr>\n",
       "    <tr>\n",
       "      <th>4</th>\n",
       "      <td>5/1/2020</td>\n",
       "      <td>Alabama</td>\n",
       "      <td>Jefferson</td>\n",
       "      <td>30.333333</td>\n",
       "      <td>47.666667</td>\n",
       "      <td>15.311553</td>\n",
       "      <td>32.0</td>\n",
       "      <td>11.0125</td>\n",
       "      <td>46.0</td>\n",
       "      <td>Jefferson, Alabama</td>\n",
       "    </tr>\n",
       "  </tbody>\n",
       "</table>\n",
       "</div>"
      ],
      "text/plain": [
       "  Date_Local State_Name County_Name  Arithmetic_Mean_ppb  AQI_ozone  \\\n",
       "0   5/1/2020    Alabama     Baldwin            35.000000  50.000000   \n",
       "1   5/1/2020    Alabama      DeKalb            47.000000  58.000000   \n",
       "2   5/1/2020    Alabama      Elmore            28.000000  44.000000   \n",
       "3   5/1/2020    Alabama      Etowah            34.000000  51.000000   \n",
       "4   5/1/2020    Alabama   Jefferson            30.333333  47.666667   \n",
       "\n",
       "   Arithmetic_Mean_cleaned  AQI_no2  Arithmetic_Mean   AQI            uniqueID  \n",
       "0                      NaN      NaN              NaN   NaN    Baldwin, Alabama  \n",
       "1                      NaN      NaN              NaN   NaN     DeKalb, Alabama  \n",
       "2                      NaN      NaN              NaN   NaN     Elmore, Alabama  \n",
       "3                      NaN      NaN              NaN   NaN     Etowah, Alabama  \n",
       "4                15.311553     32.0          11.0125  46.0  Jefferson, Alabama  "
      ]
     },
     "execution_count": 3,
     "metadata": {},
     "output_type": "execute_result"
    }
   ],
   "source": [
    "AQData.head()"
   ]
  },
  {
   "cell_type": "code",
   "execution_count": 4,
   "metadata": {},
   "outputs": [
    {
     "data": {
      "text/html": [
       "<div>\n",
       "<style scoped>\n",
       "    .dataframe tbody tr th:only-of-type {\n",
       "        vertical-align: middle;\n",
       "    }\n",
       "\n",
       "    .dataframe tbody tr th {\n",
       "        vertical-align: top;\n",
       "    }\n",
       "\n",
       "    .dataframe thead th {\n",
       "        text-align: right;\n",
       "    }\n",
       "</style>\n",
       "<table border=\"1\" class=\"dataframe\">\n",
       "  <thead>\n",
       "    <tr style=\"text-align: right;\">\n",
       "      <th></th>\n",
       "      <th>date</th>\n",
       "      <th>county</th>\n",
       "      <th>state</th>\n",
       "      <th>fips</th>\n",
       "      <th>cases</th>\n",
       "      <th>deaths</th>\n",
       "      <th>uniqueId</th>\n",
       "      <th>daily cases</th>\n",
       "      <th>daily deaths</th>\n",
       "    </tr>\n",
       "  </thead>\n",
       "  <tbody>\n",
       "    <tr>\n",
       "      <th>0</th>\n",
       "      <td>5/1/2020</td>\n",
       "      <td>Snohomish</td>\n",
       "      <td>Washington</td>\n",
       "      <td>53061</td>\n",
       "      <td>2466</td>\n",
       "      <td>108</td>\n",
       "      <td>Snohomish, Washington</td>\n",
       "      <td>20</td>\n",
       "      <td>0</td>\n",
       "    </tr>\n",
       "    <tr>\n",
       "      <th>1</th>\n",
       "      <td>5/2/2020</td>\n",
       "      <td>Snohomish</td>\n",
       "      <td>Washington</td>\n",
       "      <td>53061</td>\n",
       "      <td>2492</td>\n",
       "      <td>108</td>\n",
       "      <td>Snohomish, Washington</td>\n",
       "      <td>26</td>\n",
       "      <td>0</td>\n",
       "    </tr>\n",
       "    <tr>\n",
       "      <th>2</th>\n",
       "      <td>5/3/2020</td>\n",
       "      <td>Snohomish</td>\n",
       "      <td>Washington</td>\n",
       "      <td>53061</td>\n",
       "      <td>2737</td>\n",
       "      <td>108</td>\n",
       "      <td>Snohomish, Washington</td>\n",
       "      <td>245</td>\n",
       "      <td>0</td>\n",
       "    </tr>\n",
       "    <tr>\n",
       "      <th>3</th>\n",
       "      <td>5/4/2020</td>\n",
       "      <td>Snohomish</td>\n",
       "      <td>Washington</td>\n",
       "      <td>53061</td>\n",
       "      <td>2784</td>\n",
       "      <td>110</td>\n",
       "      <td>Snohomish, Washington</td>\n",
       "      <td>47</td>\n",
       "      <td>2</td>\n",
       "    </tr>\n",
       "    <tr>\n",
       "      <th>4</th>\n",
       "      <td>5/5/2020</td>\n",
       "      <td>Snohomish</td>\n",
       "      <td>Washington</td>\n",
       "      <td>53061</td>\n",
       "      <td>2807</td>\n",
       "      <td>110</td>\n",
       "      <td>Snohomish, Washington</td>\n",
       "      <td>23</td>\n",
       "      <td>0</td>\n",
       "    </tr>\n",
       "  </tbody>\n",
       "</table>\n",
       "</div>"
      ],
      "text/plain": [
       "       date     county       state   fips  cases  deaths  \\\n",
       "0  5/1/2020  Snohomish  Washington  53061   2466     108   \n",
       "1  5/2/2020  Snohomish  Washington  53061   2492     108   \n",
       "2  5/3/2020  Snohomish  Washington  53061   2737     108   \n",
       "3  5/4/2020  Snohomish  Washington  53061   2784     110   \n",
       "4  5/5/2020  Snohomish  Washington  53061   2807     110   \n",
       "\n",
       "                uniqueId  daily cases  daily deaths  \n",
       "0  Snohomish, Washington           20             0  \n",
       "1  Snohomish, Washington           26             0  \n",
       "2  Snohomish, Washington          245             0  \n",
       "3  Snohomish, Washington           47             2  \n",
       "4  Snohomish, Washington           23             0  "
      ]
     },
     "execution_count": 4,
     "metadata": {},
     "output_type": "execute_result"
    }
   ],
   "source": [
    "covidData.head()"
   ]
  },
  {
   "cell_type": "code",
   "execution_count": 5,
   "metadata": {},
   "outputs": [],
   "source": [
    "AQData['mergeID'] = AQData['County_Name'] + ', ' + AQData['State_Name'] + ', ' + AQData['Date_Local']\n",
    "covidData['mergeID'] = covidData['county'] + ', ' + covidData['state'] + ', ' + covidData['date']"
   ]
  },
  {
   "cell_type": "code",
   "execution_count": 6,
   "metadata": {},
   "outputs": [
    {
     "data": {
      "text/html": [
       "<div>\n",
       "<style scoped>\n",
       "    .dataframe tbody tr th:only-of-type {\n",
       "        vertical-align: middle;\n",
       "    }\n",
       "\n",
       "    .dataframe tbody tr th {\n",
       "        vertical-align: top;\n",
       "    }\n",
       "\n",
       "    .dataframe thead th {\n",
       "        text-align: right;\n",
       "    }\n",
       "</style>\n",
       "<table border=\"1\" class=\"dataframe\">\n",
       "  <thead>\n",
       "    <tr style=\"text-align: right;\">\n",
       "      <th></th>\n",
       "      <th>Date_Local</th>\n",
       "      <th>State_Name</th>\n",
       "      <th>County_Name</th>\n",
       "      <th>Arithmetic_Mean_ppb</th>\n",
       "      <th>AQI_ozone</th>\n",
       "      <th>Arithmetic_Mean_cleaned</th>\n",
       "      <th>AQI_no2</th>\n",
       "      <th>Arithmetic_Mean</th>\n",
       "      <th>AQI</th>\n",
       "      <th>uniqueID</th>\n",
       "      <th>mergeID</th>\n",
       "    </tr>\n",
       "  </thead>\n",
       "  <tbody>\n",
       "    <tr>\n",
       "      <th>0</th>\n",
       "      <td>5/1/2020</td>\n",
       "      <td>Alabama</td>\n",
       "      <td>Baldwin</td>\n",
       "      <td>35.000000</td>\n",
       "      <td>50.000000</td>\n",
       "      <td>NaN</td>\n",
       "      <td>NaN</td>\n",
       "      <td>NaN</td>\n",
       "      <td>NaN</td>\n",
       "      <td>Baldwin, Alabama</td>\n",
       "      <td>Baldwin, Alabama, 5/1/2020</td>\n",
       "    </tr>\n",
       "    <tr>\n",
       "      <th>1</th>\n",
       "      <td>5/1/2020</td>\n",
       "      <td>Alabama</td>\n",
       "      <td>DeKalb</td>\n",
       "      <td>47.000000</td>\n",
       "      <td>58.000000</td>\n",
       "      <td>NaN</td>\n",
       "      <td>NaN</td>\n",
       "      <td>NaN</td>\n",
       "      <td>NaN</td>\n",
       "      <td>DeKalb, Alabama</td>\n",
       "      <td>DeKalb, Alabama, 5/1/2020</td>\n",
       "    </tr>\n",
       "    <tr>\n",
       "      <th>2</th>\n",
       "      <td>5/1/2020</td>\n",
       "      <td>Alabama</td>\n",
       "      <td>Elmore</td>\n",
       "      <td>28.000000</td>\n",
       "      <td>44.000000</td>\n",
       "      <td>NaN</td>\n",
       "      <td>NaN</td>\n",
       "      <td>NaN</td>\n",
       "      <td>NaN</td>\n",
       "      <td>Elmore, Alabama</td>\n",
       "      <td>Elmore, Alabama, 5/1/2020</td>\n",
       "    </tr>\n",
       "    <tr>\n",
       "      <th>3</th>\n",
       "      <td>5/1/2020</td>\n",
       "      <td>Alabama</td>\n",
       "      <td>Etowah</td>\n",
       "      <td>34.000000</td>\n",
       "      <td>51.000000</td>\n",
       "      <td>NaN</td>\n",
       "      <td>NaN</td>\n",
       "      <td>NaN</td>\n",
       "      <td>NaN</td>\n",
       "      <td>Etowah, Alabama</td>\n",
       "      <td>Etowah, Alabama, 5/1/2020</td>\n",
       "    </tr>\n",
       "    <tr>\n",
       "      <th>4</th>\n",
       "      <td>5/1/2020</td>\n",
       "      <td>Alabama</td>\n",
       "      <td>Jefferson</td>\n",
       "      <td>30.333333</td>\n",
       "      <td>47.666667</td>\n",
       "      <td>15.311553</td>\n",
       "      <td>32.0</td>\n",
       "      <td>11.0125</td>\n",
       "      <td>46.0</td>\n",
       "      <td>Jefferson, Alabama</td>\n",
       "      <td>Jefferson, Alabama, 5/1/2020</td>\n",
       "    </tr>\n",
       "  </tbody>\n",
       "</table>\n",
       "</div>"
      ],
      "text/plain": [
       "  Date_Local State_Name County_Name  Arithmetic_Mean_ppb  AQI_ozone  \\\n",
       "0   5/1/2020    Alabama     Baldwin            35.000000  50.000000   \n",
       "1   5/1/2020    Alabama      DeKalb            47.000000  58.000000   \n",
       "2   5/1/2020    Alabama      Elmore            28.000000  44.000000   \n",
       "3   5/1/2020    Alabama      Etowah            34.000000  51.000000   \n",
       "4   5/1/2020    Alabama   Jefferson            30.333333  47.666667   \n",
       "\n",
       "   Arithmetic_Mean_cleaned  AQI_no2  Arithmetic_Mean   AQI  \\\n",
       "0                      NaN      NaN              NaN   NaN   \n",
       "1                      NaN      NaN              NaN   NaN   \n",
       "2                      NaN      NaN              NaN   NaN   \n",
       "3                      NaN      NaN              NaN   NaN   \n",
       "4                15.311553     32.0          11.0125  46.0   \n",
       "\n",
       "             uniqueID                       mergeID  \n",
       "0    Baldwin, Alabama    Baldwin, Alabama, 5/1/2020  \n",
       "1     DeKalb, Alabama     DeKalb, Alabama, 5/1/2020  \n",
       "2     Elmore, Alabama     Elmore, Alabama, 5/1/2020  \n",
       "3     Etowah, Alabama     Etowah, Alabama, 5/1/2020  \n",
       "4  Jefferson, Alabama  Jefferson, Alabama, 5/1/2020  "
      ]
     },
     "execution_count": 6,
     "metadata": {},
     "output_type": "execute_result"
    }
   ],
   "source": [
    "AQData.head()"
   ]
  },
  {
   "cell_type": "code",
   "execution_count": 7,
   "metadata": {},
   "outputs": [
    {
     "data": {
      "text/html": [
       "<div>\n",
       "<style scoped>\n",
       "    .dataframe tbody tr th:only-of-type {\n",
       "        vertical-align: middle;\n",
       "    }\n",
       "\n",
       "    .dataframe tbody tr th {\n",
       "        vertical-align: top;\n",
       "    }\n",
       "\n",
       "    .dataframe thead th {\n",
       "        text-align: right;\n",
       "    }\n",
       "</style>\n",
       "<table border=\"1\" class=\"dataframe\">\n",
       "  <thead>\n",
       "    <tr style=\"text-align: right;\">\n",
       "      <th></th>\n",
       "      <th>date</th>\n",
       "      <th>county</th>\n",
       "      <th>state</th>\n",
       "      <th>fips</th>\n",
       "      <th>cases</th>\n",
       "      <th>deaths</th>\n",
       "      <th>uniqueId</th>\n",
       "      <th>daily cases</th>\n",
       "      <th>daily deaths</th>\n",
       "      <th>mergeID</th>\n",
       "    </tr>\n",
       "  </thead>\n",
       "  <tbody>\n",
       "    <tr>\n",
       "      <th>0</th>\n",
       "      <td>5/1/2020</td>\n",
       "      <td>Snohomish</td>\n",
       "      <td>Washington</td>\n",
       "      <td>53061</td>\n",
       "      <td>2466</td>\n",
       "      <td>108</td>\n",
       "      <td>Snohomish, Washington</td>\n",
       "      <td>20</td>\n",
       "      <td>0</td>\n",
       "      <td>Snohomish, Washington, 5/1/2020</td>\n",
       "    </tr>\n",
       "    <tr>\n",
       "      <th>1</th>\n",
       "      <td>5/2/2020</td>\n",
       "      <td>Snohomish</td>\n",
       "      <td>Washington</td>\n",
       "      <td>53061</td>\n",
       "      <td>2492</td>\n",
       "      <td>108</td>\n",
       "      <td>Snohomish, Washington</td>\n",
       "      <td>26</td>\n",
       "      <td>0</td>\n",
       "      <td>Snohomish, Washington, 5/2/2020</td>\n",
       "    </tr>\n",
       "    <tr>\n",
       "      <th>2</th>\n",
       "      <td>5/3/2020</td>\n",
       "      <td>Snohomish</td>\n",
       "      <td>Washington</td>\n",
       "      <td>53061</td>\n",
       "      <td>2737</td>\n",
       "      <td>108</td>\n",
       "      <td>Snohomish, Washington</td>\n",
       "      <td>245</td>\n",
       "      <td>0</td>\n",
       "      <td>Snohomish, Washington, 5/3/2020</td>\n",
       "    </tr>\n",
       "    <tr>\n",
       "      <th>3</th>\n",
       "      <td>5/4/2020</td>\n",
       "      <td>Snohomish</td>\n",
       "      <td>Washington</td>\n",
       "      <td>53061</td>\n",
       "      <td>2784</td>\n",
       "      <td>110</td>\n",
       "      <td>Snohomish, Washington</td>\n",
       "      <td>47</td>\n",
       "      <td>2</td>\n",
       "      <td>Snohomish, Washington, 5/4/2020</td>\n",
       "    </tr>\n",
       "    <tr>\n",
       "      <th>4</th>\n",
       "      <td>5/5/2020</td>\n",
       "      <td>Snohomish</td>\n",
       "      <td>Washington</td>\n",
       "      <td>53061</td>\n",
       "      <td>2807</td>\n",
       "      <td>110</td>\n",
       "      <td>Snohomish, Washington</td>\n",
       "      <td>23</td>\n",
       "      <td>0</td>\n",
       "      <td>Snohomish, Washington, 5/5/2020</td>\n",
       "    </tr>\n",
       "  </tbody>\n",
       "</table>\n",
       "</div>"
      ],
      "text/plain": [
       "       date     county       state   fips  cases  deaths  \\\n",
       "0  5/1/2020  Snohomish  Washington  53061   2466     108   \n",
       "1  5/2/2020  Snohomish  Washington  53061   2492     108   \n",
       "2  5/3/2020  Snohomish  Washington  53061   2737     108   \n",
       "3  5/4/2020  Snohomish  Washington  53061   2784     110   \n",
       "4  5/5/2020  Snohomish  Washington  53061   2807     110   \n",
       "\n",
       "                uniqueId  daily cases  daily deaths  \\\n",
       "0  Snohomish, Washington           20             0   \n",
       "1  Snohomish, Washington           26             0   \n",
       "2  Snohomish, Washington          245             0   \n",
       "3  Snohomish, Washington           47             2   \n",
       "4  Snohomish, Washington           23             0   \n",
       "\n",
       "                           mergeID  \n",
       "0  Snohomish, Washington, 5/1/2020  \n",
       "1  Snohomish, Washington, 5/2/2020  \n",
       "2  Snohomish, Washington, 5/3/2020  \n",
       "3  Snohomish, Washington, 5/4/2020  \n",
       "4  Snohomish, Washington, 5/5/2020  "
      ]
     },
     "execution_count": 7,
     "metadata": {},
     "output_type": "execute_result"
    }
   ],
   "source": [
    "covidData.head()"
   ]
  },
  {
   "cell_type": "markdown",
   "metadata": {},
   "source": [
    "## Comparing Counties Present in Datasets "
   ]
  },
  {
   "cell_type": "markdown",
   "metadata": {},
   "source": [
    "* This below code tells us which counties are present in the AQData but not in the covidData (because covidData is the more comprehensive dataset). We convert the counties in both dataframes to a set, that may be subtracted easily. "
   ]
  },
  {
   "cell_type": "code",
   "execution_count": 8,
   "metadata": {},
   "outputs": [],
   "source": [
    "covidMergeSet = covidData['county'].to_list()\n",
    "AQMergeSet = AQData['County_Name'].to_list()"
   ]
  },
  {
   "cell_type": "code",
   "execution_count": 9,
   "metadata": {},
   "outputs": [],
   "source": [
    "AQMergeSet = set(AQMergeSet)\n",
    "covidMergeSet = set(covidMergeSet)"
   ]
  },
  {
   "cell_type": "code",
   "execution_count": 10,
   "metadata": {},
   "outputs": [],
   "source": [
    "differenceSet = AQMergeSet - covidMergeSet"
   ]
  },
  {
   "cell_type": "code",
   "execution_count": 11,
   "metadata": {},
   "outputs": [
    {
     "name": "stdout",
     "output_type": "stream",
     "text": [
      "List of counties in AQData but not in covidData: \n",
      "\n",
      "\n",
      " {'St. Louis City', 'Saint Charles', 'Suffolk City', 'Hampton City', 'New York', 'Sainte Genevieve', 'Queens', 'Fairbanks North Star ', 'Saint Clair', 'Denali ', 'Bronx', 'Saint Louis', 'Baltimore (City)'}\n"
     ]
    }
   ],
   "source": [
    "print('List of counties in AQData but not in covidData: \\n\\n\\n', differenceSet)"
   ]
  },
  {
   "cell_type": "markdown",
   "metadata": {},
   "source": [
    "## Cleaning up Discrepant Values"
   ]
  },
  {
   "cell_type": "code",
   "execution_count": 12,
   "metadata": {},
   "outputs": [],
   "source": [
    "# Sainte Genevieve (AQData county) is listed as Ste. Genevieve in covidData, this code changes that. The code changes\n",
    "#both the county name and uniqueID columns\n",
    "\n",
    "covidData.loc[covidData.county == \"Ste. Genevieve\", \"uniqueID\"] = \"Sainte Genevieve, Missouri\"\n",
    "covidData.loc[covidData.county == \"Ste. Genevieve\", \"county\"] = \"Sainte Genevieve\""
   ]
  },
  {
   "cell_type": "code",
   "execution_count": 13,
   "metadata": {},
   "outputs": [],
   "source": [
    "#Hampton City (AQData county) is a city in Washington county, New York. There is no data for Washington, New York. \n",
    "#We will change this county name to Washington, New York.  \n",
    "\n",
    "AQData.loc[AQData.County_Name == 'Hampton City', 'uniqueID'] = 'Washington, New York'\n",
    "AQData.loc[AQData.County_Name == 'Hampton City', 'County_Name'] = 'Washington'"
   ]
  },
  {
   "cell_type": "code",
   "execution_count": 14,
   "metadata": {},
   "outputs": [],
   "source": [
    "### this is to ignore an error we get on the next line of code\n",
    "pd.options.mode.chained_assignment = None  # default='warn'"
   ]
  },
  {
   "cell_type": "code",
   "execution_count": 15,
   "metadata": {},
   "outputs": [],
   "source": [
    "# New York has several burrows listed (AQData county), but only New York City, New York is listed on the covidData. \n",
    "# We will clone New York (have the same data four times), and change the county names to Bronx, Queens,\n",
    "#Richmond (equivalent to Staten Island), and New York.\n",
    "#This would allow it to merge with the AQData. \n",
    "\n",
    "bronxData = covidData[covidData['county'] == 'New York City']\n",
    "queensData = covidData[covidData['county'] == 'New York City']\n",
    "richmondNYData = covidData[covidData['county'] == 'New York City']\n",
    "\n",
    "bronxData['uniqueID'] = 'Bronx, New York'\n",
    "bronxData['county'] = 'Bronx'\n",
    "\n",
    "queensData['uniqueID'] = 'Queens, New York'\n",
    "queensData['county'] = 'Queens'\n",
    "\n",
    "richmondNYData['uniqueID'] = 'Richmond, New York'\n",
    "richmondNYData['county'] = 'Richmond'\n",
    "\n",
    "covidData.loc[covidData.county == 'New York City', 'county'] = 'New York'\n",
    "\n",
    "appendList = [covidData, bronxData, queensData, richmondNYData]\n",
    "covidData = pd.concat(appendList)"
   ]
  },
  {
   "cell_type": "code",
   "execution_count": 16,
   "metadata": {},
   "outputs": [],
   "source": [
    "# Baltimore City (AQData county) is a city within baltimore county, which we already have data for. For this reason,\n",
    "#data from baltimore city will be dropped \n",
    "AQData = AQData[AQData['County_Name'] != 'Baltimore (City)']"
   ]
  },
  {
   "cell_type": "code",
   "execution_count": 17,
   "metadata": {},
   "outputs": [],
   "source": [
    "#Fairbanks North Star Borough  (covidData) was listed as Fairbanks North Star in AQdata. We will change AQData to match\n",
    "AQData.loc[AQData.County_Name == 'Fairbanks North Star ', 'uniqueID'] = 'Fairbanks North Star Borough, Alaska'\n",
    "AQData.loc[AQData.County_Name == 'Fairbanks North Star ', 'County_Name'] = 'Fairbanks North Star Borough'\n"
   ]
  },
  {
   "cell_type": "code",
   "execution_count": 18,
   "metadata": {},
   "outputs": [],
   "source": [
    "#Changes St. Charles (covidData) to Saint Charles to match AQData\n",
    "covidData.loc[covidData.county == \"St. Charles\", \"uniqueID\"] = \"Saint Charles, Missouri\"\n",
    "covidData.loc[covidData.county == \"St. Charles\", \"county\"] = \"Saint Charles\""
   ]
  },
  {
   "cell_type": "code",
   "execution_count": 19,
   "metadata": {},
   "outputs": [],
   "source": [
    "# In covidData, St. Louis needs to be 'Saint Louis'. There is also duplicated\n",
    "#regions here, as St. Louis City and St. Louis County are the same area, so we will drop St Louis City from AQdata. \n",
    "\n",
    "covidData.loc[covidData.county == \"St. Louis\", \"uniqueID\"] = \"Saint Louis, Missouri\"\n",
    "covidData.loc[covidData.county == \"St. Louis\", \"county\"] = \"Saint Louis\"\n",
    "AQData = AQData[AQData['County_Name'] != 'St. Louis City']"
   ]
  },
  {
   "cell_type": "code",
   "execution_count": 20,
   "metadata": {},
   "outputs": [],
   "source": [
    "# Suffolk city (covidData) changed to Suffolk City to match with AQData\n",
    "covidData.loc[(covidData['county'] == \"Suffolk city\"), \"uniqueID\"] = \"Suffolk City, Virginia\"\n",
    "covidData.loc[(covidData['county'] == \"Suffolk city\"), \"county\"] = \"Suffolk City\""
   ]
  },
  {
   "cell_type": "code",
   "execution_count": 21,
   "metadata": {},
   "outputs": [],
   "source": [
    "# St. Clair (covidData) changed to Saint Claire to match with AQData\n",
    "covidData.loc[(covidData['county'] == 'St. Clair') & (covidData['state'] == 'Illinois'), \"uniqueID\"] = \"Saint Clair, Illinois\"\n",
    "covidData.loc[(covidData['county'] == 'St. Clair') & (covidData['state'] == 'Illinois'), \"county\"] = \"Saint Clair\""
   ]
  },
  {
   "cell_type": "code",
   "execution_count": 22,
   "metadata": {},
   "outputs": [],
   "source": [
    "# Denali Borough changed to Denali to match with AQData\n",
    "covidData.loc[covidData.county == \"Denali Borough\", \"uniqueID\"] = \"Denali, Alaska\"\n",
    "covidData.loc[covidData.county == \"Denali Borough\", \"county\"] = \"Denali \""
   ]
  },
  {
   "cell_type": "code",
   "execution_count": 23,
   "metadata": {},
   "outputs": [],
   "source": [
    "# Fairbanks North Star Borough changed to Fairbanks North Star to match with AQData\n",
    "covidData.loc[covidData.county == \"Fairbanks North Star Borough\", \"uniqueID\"] = \"Fairbanks North Star, Alaska\"\n",
    "covidData.loc[covidData.county == \"Fairbanks North Star Borough\", \"county\"] = \"Fairbanks North Star \""
   ]
  },
  {
   "cell_type": "code",
   "execution_count": 24,
   "metadata": {},
   "outputs": [],
   "source": [
    "# Charles City (covidData) changed to Charles to match with AQData\n",
    "covidData.loc[covidData.county == \"Charles City\", \"uniqueID\"] = \"Charles, Virginia\"\n",
    "covidData.loc[covidData.county == \"Charles City\", \"county\"] = \"Charles\""
   ]
  },
  {
   "cell_type": "code",
   "execution_count": 25,
   "metadata": {},
   "outputs": [],
   "source": [
    "# AQData states \"Hampton City\", capitalizing C in covidData \"Hampton city\" to match up\n",
    "covidData.loc[covidData.county == \"Hampton city\", \"uniqueID\"] = \"Hampton City, Virginia\"\n",
    "covidData.loc[covidData.county == \"Hampton city\", \"county\"] = \"Hampton City\""
   ]
  },
  {
   "cell_type": "code",
   "execution_count": 26,
   "metadata": {},
   "outputs": [
    {
     "name": "stdout",
     "output_type": "stream",
     "text": [
      "List of counties in AQData but not in covidData: \n",
      "\n",
      "\n",
      " {'Fairbanks North Star Borough'}\n"
     ]
    }
   ],
   "source": [
    "### checking success of cleaning\n",
    "covidMergeSet = covidData['county'].to_list()\n",
    "AQMergeSet = AQData['County_Name'].to_list()\n",
    "AQMergeSet = set(AQMergeSet)\n",
    "covidMergeSet = set(covidMergeSet)\n",
    "differenceSet = AQMergeSet - covidMergeSet\n",
    "print('List of counties in AQData but not in covidData: \\n\\n\\n', differenceSet)"
   ]
  },
  {
   "cell_type": "code",
   "execution_count": 27,
   "metadata": {},
   "outputs": [],
   "source": [
    "#No AQData available widely on 11/1 11/2 11/3 11/4\n",
    "AQData = AQData[AQData['Date_Local'] != '11/1/2020']\n",
    "AQData = AQData[AQData['Date_Local'] != '11/2/2020']\n",
    "AQData = AQData[AQData['Date_Local'] != '11/3/2020']\n",
    "AQData = AQData[AQData['Date_Local'] != '11/4/2020']\n"
   ]
  },
  {
   "cell_type": "markdown",
   "metadata": {},
   "source": [
    "* This shows us that all of our counties in the AQdata can also be found in the covidData dataset. This means our merge should be successful. "
   ]
  },
  {
   "cell_type": "markdown",
   "metadata": {},
   "source": [
    "## Comparing mergeIDs Present in Datasets"
   ]
  },
  {
   "cell_type": "code",
   "execution_count": 28,
   "metadata": {},
   "outputs": [
    {
     "name": "stdout",
     "output_type": "stream",
     "text": [
      "List of mergeIDs in AQData but not in covidData: \n",
      "\n",
      "\n",
      " {'Phillips, Montana, 7/30/2020', 'Lake, Minnesota, 5/2/2020', 'Jackson, South Dakota, 5/7/2020', 'Bell, Kentucky, 5/9/2020', 'Avery, North Carolina, 5/11/2020', 'Jackson, South Dakota, 5/5/2020', 'Taylor, Wisconsin, 5/1/2020', 'Powder River, Montana, 5/10/2020', 'Trego, Kansas, 5/13/2020', 'Fergus, Montana, 5/5/2020', 'Lake, Minnesota, 5/5/2020', 'Phillips, Montana, 5/2/2020', 'Butte, Idaho, 6/17/2020', 'Phillips, Montana, 6/30/2020', 'Monroe, Missouri, 5/10/2020', 'Butte, Idaho, 6/15/2020', 'Butte, Idaho, 6/24/2020', 'Powder River, Montana, 5/15/2020', 'Butte, Idaho, 7/7/2020', 'Rosebud, Montana, 5/14/2020', 'Denali , Alaska, 6/23/2020', 'Phillips, Montana, 7/28/2020', 'Monroe, Missouri, 5/24/2020', 'Butte, Idaho, 6/12/2020', 'Palo Alto, Iowa, 5/3/2020', 'Powder River, Montana, 6/11/2020', 'Monroe, Missouri, 5/23/2020', 'Butte, Idaho, 5/5/2020', 'Custer, South Dakota, 5/9/2020', 'Denali , Alaska, 5/19/2020', 'Butte, Idaho, 6/16/2020', 'Mercer, North Dakota, 5/1/2020', 'Powder River, Montana, 7/7/2020', 'Powder River, Montana, 6/19/2020', 'Powder River, Montana, 5/3/2020', 'Denali , Alaska, 5/29/2020', 'Butte, Idaho, 5/8/2020', 'Phillips, Montana, 7/17/2020', 'Fergus, Montana, 5/30/2020', 'Butte, Idaho, 5/15/2020', 'Denali , Alaska, 5/23/2020', 'Trego, Kansas, 5/16/2020', 'Rosebud, Montana, 5/15/2020', 'Jackson, South Dakota, 5/11/2020', 'Custer, South Dakota, 5/2/2020', 'Trego, Kansas, 5/19/2020', 'Trego, Kansas, 5/1/2020', 'Butte, Idaho, 5/3/2020', 'Jackson, South Dakota, 5/23/2020', 'Denali , Alaska, 5/1/2020', 'Powder River, Montana, 7/18/2020', 'Powder River, Montana, 6/1/2020', 'Powder River, Montana, 6/8/2020', 'Powder River, Montana, 5/6/2020', 'Phillips, Montana, 5/31/2020', 'Billings, North Dakota, 5/23/2020', 'Weston, Wyoming, 5/13/2020', 'Phillips, Montana, 7/16/2020', 'Phillips, Montana, 5/8/2020', 'Phillips, Montana, 7/5/2020', 'Butte, Idaho, 7/6/2020', 'Phillips, Montana, 7/8/2020', 'Powder River, Montana, 7/20/2020', 'Custer, South Dakota, 5/12/2020', 'Custer, South Dakota, 5/17/2020', 'Butte, Idaho, 6/6/2020', 'Denali , Alaska, 6/24/2020', 'Powder River, Montana, 5/12/2020', 'Butte, Idaho, 5/11/2020', 'Fergus, Montana, 6/12/2020', 'Fergus, Montana, 5/9/2020', 'Fergus, Montana, 6/2/2020', 'Billings, North Dakota, 5/19/2020', 'Butte, Idaho, 7/26/2020', 'Phillips, Montana, 6/24/2020', 'Butte, Idaho, 7/21/2020', 'Jackson, South Dakota, 5/22/2020', 'Fergus, Montana, 6/11/2020', 'Billings, North Dakota, 6/14/2020', 'Denali , Alaska, 6/6/2020', 'Bell, Kentucky, 5/8/2020', 'Butte, Idaho, 8/9/2020', 'Denali , Alaska, 5/3/2020', 'Taylor, Wisconsin, 5/2/2020', 'Denali , Alaska, 5/7/2020', 'Custer, South Dakota, 5/10/2020', 'Phillips, Montana, 5/17/2020', 'Bell, Kentucky, 5/15/2020', 'Phillips, Montana, 7/2/2020', 'Weston, Wyoming, 5/5/2020', 'Billings, North Dakota, 5/11/2020', 'Custer, South Dakota, 5/28/2020', 'Weston, Wyoming, 5/15/2020', 'Palo Alto, Iowa, 5/2/2020', 'Monroe, Missouri, 5/19/2020', 'Powder River, Montana, 7/14/2020', 'Billings, North Dakota, 6/9/2020', 'Powder River, Montana, 5/11/2020', 'Phillips, Montana, 6/2/2020', 'Trego, Kansas, 5/6/2020', 'Denali , Alaska, 6/21/2020', 'Mercer, North Dakota, 5/2/2020', 'Weston, Wyoming, 5/21/2020', 'Bell, Kentucky, 5/5/2020', 'Butte, Idaho, 5/31/2020', 'Jackson, South Dakota, 5/12/2020', 'Phillips, Montana, 6/19/2020', 'Phillips, Montana, 5/13/2020', 'Denali , Alaska, 5/31/2020', 'Denali , Alaska, 6/5/2020', 'Trego, Kansas, 5/4/2020', 'Taylor, Wisconsin, 5/16/2020', 'Billings, North Dakota, 6/18/2020', 'Billings, North Dakota, 6/12/2020', 'Billings, North Dakota, 6/15/2020', 'Butte, Idaho, 6/11/2020', 'Phillips, Montana, 5/16/2020', 'Denali , Alaska, 6/18/2020', 'Powder River, Montana, 7/21/2020', 'Butte, Idaho, 5/1/2020', 'Phillips, Montana, 6/20/2020', 'Powder River, Montana, 6/9/2020', 'Custer, South Dakota, 5/7/2020', 'Avery, North Carolina, 5/15/2020', 'Taylor, Wisconsin, 5/7/2020', 'Custer, South Dakota, 5/25/2020', 'Butte, Idaho, 8/8/2020', 'Avery, North Carolina, 5/6/2020', 'Billings, North Dakota, 5/1/2020', 'Taylor, Wisconsin, 5/11/2020', 'Fergus, Montana, 6/1/2020', 'Fergus, Montana, 5/2/2020', 'Monroe, Missouri, 5/13/2020', 'Fergus, Montana, 5/24/2020', 'Powder River, Montana, 5/17/2020', 'Butte, Idaho, 5/7/2020', 'Weston, Wyoming, 5/3/2020', 'Butte, Idaho, 5/6/2020', 'Butte, Idaho, 6/3/2020', 'Billings, North Dakota, 6/17/2020', 'Butte, Idaho, 5/17/2020', 'Monroe, Missouri, 5/7/2020', 'Phillips, Montana, 7/31/2020', 'Butte, Idaho, 7/2/2020', 'Billings, North Dakota, 5/5/2020', 'Denali , Alaska, 5/24/2020', 'Denali , Alaska, 5/25/2020', 'Denali , Alaska, 5/6/2020', 'Fergus, Montana, 5/18/2020', 'Jackson, South Dakota, 5/3/2020', 'Bell, Kentucky, 5/6/2020', 'Forest, Wisconsin, 5/5/2020', 'Trego, Kansas, 5/15/2020', 'Phillips, Montana, 7/10/2020', 'Denali , Alaska, 5/12/2020', 'Rosebud, Montana, 5/23/2020', 'Powder River, Montana, 6/22/2020', 'Phillips, Montana, 6/10/2020', 'Custer, South Dakota, 5/1/2020', 'Phillips, Montana, 6/29/2020', 'Butte, Idaho, 7/8/2020', 'Denali , Alaska, 5/4/2020', 'Fergus, Montana, 5/19/2020', 'Rosebud, Montana, 5/19/2020', 'Powder River, Montana, 7/2/2020', 'Butte, Idaho, 5/25/2020', 'Powder River, Montana, 6/24/2020', 'Denali , Alaska, 6/10/2020', 'Palo Alto, Iowa, 5/1/2020', 'Butte, Idaho, 7/17/2020', 'Phillips, Montana, 7/11/2020', 'Custer, South Dakota, 5/16/2020', 'Butte, Idaho, 7/11/2020', 'Butte, Idaho, 7/16/2020', 'Butte, Idaho, 6/7/2020', 'Fergus, Montana, 5/25/2020', 'Yancey, North Carolina, 5/1/2020', 'Monroe, Missouri, 5/5/2020', 'Denali , Alaska, 6/9/2020', 'Powder River, Montana, 5/19/2020', 'Powder River, Montana, 5/30/2020', 'Butte, Idaho, 6/30/2020', 'Denali , Alaska, 6/1/2020', 'Billings, North Dakota, 5/20/2020', 'Billings, North Dakota, 5/30/2020', 'Butte, Idaho, 5/19/2020', 'Trego, Kansas, 5/11/2020', 'Custer, South Dakota, 5/30/2020', 'Phillips, Montana, 7/29/2020', 'Butte, Idaho, 7/12/2020', 'Butte, Idaho, 7/20/2020', 'Butte, Idaho, 8/2/2020', 'Jackson, South Dakota, 5/6/2020', 'Rosebud, Montana, 5/6/2020', 'Fergus, Montana, 6/6/2020', 'Phillips, Montana, 7/19/2020', 'Bell, Kentucky, 5/17/2020', 'Powder River, Montana, 6/21/2020', 'Billings, North Dakota, 6/11/2020', 'Phillips, Montana, 5/20/2020', 'Weston, Wyoming, 5/19/2020', 'Yancey, North Carolina, 5/2/2020', 'Billings, North Dakota, 6/5/2020', 'Phillips, Montana, 5/11/2020', 'Butte, Idaho, 7/22/2020', 'Denali , Alaska, 5/10/2020', 'Palo Alto, Iowa, 5/4/2020', 'Monroe, Missouri, 5/2/2020', 'Powder River, Montana, 5/18/2020', 'Phillips, Montana, 5/22/2020', 'Rosebud, Montana, 5/2/2020', 'Jackson, South Dakota, 5/14/2020', 'Denali , Alaska, 5/13/2020', 'Trego, Kansas, 5/20/2020', 'Butte, Idaho, 6/19/2020', 'Phillips, Montana, 7/13/2020', 'Avery, North Carolina, 5/17/2020', 'Trego, Kansas, 5/8/2020', 'Phillips, Montana, 6/21/2020', 'Powder River, Montana, 5/8/2020', 'Powder River, Montana, 7/6/2020', 'Monroe, Missouri, 5/1/2020', 'Phillips, Montana, 6/18/2020', 'Fergus, Montana, 5/6/2020', 'Monroe, Missouri, 5/22/2020', 'Denali , Alaska, 6/22/2020', 'Phillips, Montana, 7/21/2020', 'Butte, Idaho, 6/20/2020', 'Butte, Idaho, 5/29/2020', 'Fergus, Montana, 5/28/2020', 'Butte, Idaho, 5/28/2020', 'Rosebud, Montana, 5/11/2020', 'Weston, Wyoming, 5/8/2020', 'Weston, Wyoming, 5/24/2020', 'Denali , Alaska, 5/15/2020', 'Billings, North Dakota, 6/13/2020', 'Weston, Wyoming, 5/10/2020', 'Phillips, Montana, 7/20/2020', 'Butte, Idaho, 7/29/2020', 'Phillips, Montana, 7/18/2020', 'Fergus, Montana, 6/13/2020', 'Butte, Idaho, 5/2/2020', 'Phillips, Montana, 7/7/2020', 'Rosebud, Montana, 5/1/2020', 'Monroe, Missouri, 5/26/2020', 'Butte, Idaho, 6/9/2020', 'Fergus, Montana, 6/10/2020', 'Phillips, Montana, 7/14/2020', 'Trego, Kansas, 5/2/2020', 'Phillips, Montana, 7/26/2020', 'Taylor, Wisconsin, 5/6/2020', 'Monroe, Missouri, 5/9/2020', 'Jackson, South Dakota, 5/15/2020', 'Billings, North Dakota, 5/22/2020', 'Phillips, Montana, 6/3/2020', 'Powder River, Montana, 5/14/2020', 'Jackson, South Dakota, 5/10/2020', 'Palo Alto, Iowa, 5/7/2020', 'Monroe, Missouri, 5/21/2020', 'Weston, Wyoming, 5/11/2020', 'Denali , Alaska, 5/16/2020', 'Rosebud, Montana, 5/18/2020', 'Powder River, Montana, 6/4/2020', 'Taylor, Wisconsin, 5/12/2020', 'Butte, Idaho, 5/9/2020', 'Butte, Idaho, 8/7/2020', 'Phillips, Montana, 5/9/2020', 'Monroe, Missouri, 5/4/2020', 'Weston, Wyoming, 5/16/2020', 'Denali , Alaska, 5/22/2020', 'Trego, Kansas, 5/7/2020', 'Butte, Idaho, 6/22/2020', 'Phillips, Montana, 7/23/2020', 'Billings, North Dakota, 5/10/2020', 'Powder River, Montana, 5/7/2020', 'Butte, Idaho, 5/20/2020', 'Forest, Wisconsin, 5/1/2020', 'Butte, Idaho, 6/8/2020', 'Custer, South Dakota, 5/23/2020', 'Rosebud, Montana, 5/28/2020', 'Rosebud, Montana, 5/27/2020', 'Denali , Alaska, 6/7/2020', 'Powder River, Montana, 7/22/2020', 'Trego, Kansas, 5/21/2020', 'Phillips, Montana, 5/15/2020', 'Billings, North Dakota, 6/1/2020', 'Avery, North Carolina, 5/10/2020', 'Billings, North Dakota, 5/8/2020', 'Avery, North Carolina, 5/2/2020', 'Monroe, Missouri, 5/17/2020', 'Avery, North Carolina, 5/7/2020', 'Custer, South Dakota, 5/20/2020', 'Butte, Idaho, 6/10/2020', 'Trego, Kansas, 5/12/2020', 'Avery, North Carolina, 5/18/2020', 'Billings, North Dakota, 6/7/2020', 'Phillips, Montana, 5/1/2020', 'Taylor, Wisconsin, 5/10/2020', 'Rosebud, Montana, 5/10/2020', 'Powder River, Montana, 6/7/2020', 'Fergus, Montana, 6/4/2020', 'Weston, Wyoming, 5/2/2020', 'Jackson, South Dakota, 5/2/2020', 'Bell, Kentucky, 5/16/2020', 'Billings, North Dakota, 5/21/2020', 'Taylor, Wisconsin, 5/15/2020', 'Fergus, Montana, 5/12/2020', 'Fergus, Montana, 6/16/2020', 'Billings, North Dakota, 5/26/2020', 'Rosebud, Montana, 5/9/2020', 'Butte, Idaho, 6/2/2020', 'Billings, North Dakota, 5/3/2020', 'Weston, Wyoming, 5/26/2020', 'Forest, Wisconsin, 5/3/2020', 'Powder River, Montana, 6/12/2020', 'Fergus, Montana, 5/31/2020', 'Powder River, Montana, 6/14/2020', 'Billings, North Dakota, 5/28/2020', 'Phillips, Montana, 6/14/2020', 'Billings, North Dakota, 5/25/2020', 'Custer, South Dakota, 5/26/2020', 'Butte, Idaho, 6/27/2020', 'Weston, Wyoming, 5/20/2020', 'Taylor, Wisconsin, 5/18/2020', 'Denali , Alaska, 5/14/2020', 'Fergus, Montana, 5/3/2020', 'Powder River, Montana, 7/16/2020', 'Jackson, South Dakota, 5/1/2020', 'Powder River, Montana, 6/16/2020', 'Denali , Alaska, 5/30/2020', 'Billings, North Dakota, 5/2/2020', 'Phillips, Montana, 7/22/2020', 'Fergus, Montana, 5/23/2020', 'Billings, North Dakota, 5/13/2020', 'Jackson, South Dakota, 5/18/2020', 'Fergus, Montana, 5/10/2020', 'Phillips, Montana, 5/30/2020', 'Bell, Kentucky, 5/1/2020', 'Butte, Idaho, 5/10/2020', 'Butte, Idaho, 5/27/2020', 'Powder River, Montana, 5/29/2020', 'Fergus, Montana, 5/11/2020', 'Billings, North Dakota, 5/29/2020', 'Butte, Idaho, 7/14/2020', 'Butte, Idaho, 7/13/2020', 'Phillips, Montana, 5/10/2020', 'Denali , Alaska, 6/4/2020', 'Fergus, Montana, 6/14/2020', 'Powder River, Montana, 5/20/2020', 'Denali , Alaska, 5/5/2020', 'Taylor, Wisconsin, 5/20/2020', 'Fergus, Montana, 5/1/2020', 'Custer, South Dakota, 5/14/2020', 'Butte, Idaho, 5/4/2020', 'Custer, South Dakota, 5/15/2020', 'Powder River, Montana, 5/31/2020', 'Billings, North Dakota, 6/10/2020', 'Weston, Wyoming, 5/22/2020', 'Phillips, Montana, 7/25/2020', 'Powder River, Montana, 7/3/2020', 'Custer, South Dakota, 5/5/2020', 'Butte, Idaho, 7/18/2020', 'Weston, Wyoming, 5/1/2020', 'Monroe, Missouri, 5/18/2020', 'Denali , Alaska, 5/27/2020', 'Taylor, Wisconsin, 5/14/2020', 'Rosebud, Montana, 5/17/2020', 'Powder River, Montana, 6/23/2020', 'Fergus, Montana, 5/16/2020', 'Butte, Idaho, 6/23/2020', 'Billings, North Dakota, 5/18/2020', 'Butte, Idaho, 7/4/2020', 'Phillips, Montana, 5/18/2020', 'Forest, Wisconsin, 5/2/2020', 'Phillips, Montana, 5/12/2020', 'Weston, Wyoming, 5/7/2020', 'Denali , Alaska, 6/15/2020', 'Fergus, Montana, 5/27/2020', 'Phillips, Montana, 6/1/2020', 'Butte, Idaho, 7/9/2020', 'Butte, Idaho, 6/5/2020', 'Bell, Kentucky, 5/3/2020', 'Lake, Minnesota, 5/4/2020', 'Phillips, Montana, 5/4/2020', 'Phillips, Montana, 5/27/2020', 'Butte, Idaho, 8/1/2020', 'Fergus, Montana, 6/7/2020', 'Monroe, Missouri, 5/3/2020', 'Rosebud, Montana, 5/4/2020', 'Taylor, Wisconsin, 5/5/2020', 'Powder River, Montana, 5/2/2020', 'Powder River, Montana, 6/5/2020', 'Powder River, Montana, 5/4/2020', 'Fergus, Montana, 6/3/2020', 'Custer, South Dakota, 5/27/2020', 'Fergus, Montana, 5/20/2020', 'Butte, Idaho, 6/25/2020', 'Custer, South Dakota, 6/2/2020', 'Butte, Idaho, 5/21/2020', 'Forest, Wisconsin, 5/4/2020', 'Weston, Wyoming, 5/14/2020', 'Avery, North Carolina, 5/13/2020', 'Powder River, Montana, 6/10/2020', 'Monroe, Missouri, 5/6/2020', 'Powder River, Montana, 5/16/2020', 'Fergus, Montana, 5/7/2020', 'Monroe, Missouri, 5/20/2020', 'Jackson, South Dakota, 5/21/2020', 'Butte, Idaho, 6/18/2020', 'Fergus, Montana, 6/5/2020', 'Butte, Idaho, 7/15/2020', 'Phillips, Montana, 7/27/2020', 'Phillips, Montana, 6/6/2020', 'Fergus, Montana, 5/17/2020', 'Butte, Idaho, 5/12/2020', 'Fergus, Montana, 5/8/2020', 'Phillips, Montana, 7/9/2020', 'Phillips, Montana, 6/7/2020', 'Butte, Idaho, 7/1/2020', 'Fergus, Montana, 5/13/2020', 'Billings, North Dakota, 6/19/2020', 'Powder River, Montana, 7/15/2020', 'Denali , Alaska, 6/11/2020', 'Butte, Idaho, 6/1/2020', 'Butte, Idaho, 6/4/2020', 'Butte, Idaho, 6/21/2020', 'Mercer, North Dakota, 5/4/2020', 'Butte, Idaho, 8/3/2020', 'Fergus, Montana, 6/17/2020', 'Custer, South Dakota, 5/6/2020', 'Monroe, Missouri, 5/15/2020', 'Butte, Idaho, 5/24/2020', 'Fergus, Montana, 6/8/2020', 'Butte, Idaho, 7/23/2020', 'Phillips, Montana, 5/28/2020', 'Denali , Alaska, 6/20/2020', 'Fergus, Montana, 5/29/2020', 'Monroe, Missouri, 5/25/2020', 'Avery, North Carolina, 5/9/2020', 'Phillips, Montana, 6/25/2020', 'Palo Alto, Iowa, 5/6/2020', 'Powder River, Montana, 7/5/2020', 'Phillips, Montana, 5/6/2020', 'Billings, North Dakota, 5/7/2020', 'Rosebud, Montana, 5/25/2020', 'Taylor, Wisconsin, 5/8/2020', 'Billings, North Dakota, 6/3/2020', 'Weston, Wyoming, 5/25/2020', 'Trego, Kansas, 5/5/2020', 'Phillips, Montana, 6/12/2020', 'Denali , Alaska, 5/21/2020', 'Rosebud, Montana, 5/24/2020', 'Butte, Idaho, 5/16/2020', 'Trego, Kansas, 5/17/2020', 'Jackson, South Dakota, 5/4/2020', 'Denali , Alaska, 6/8/2020', 'Billings, North Dakota, 5/27/2020', 'Denali , Alaska, 6/17/2020', 'Avery, North Carolina, 5/8/2020', 'Phillips, Montana, 6/9/2020', 'Fergus, Montana, 5/21/2020', 'Butte, Idaho, 7/31/2020', 'Denali , Alaska, 5/26/2020', 'Taylor, Wisconsin, 5/9/2020', 'Bell, Kentucky, 5/11/2020', 'Custer, South Dakota, 5/11/2020', 'Denali , Alaska, 6/13/2020', 'Powder River, Montana, 5/21/2020', 'Trego, Kansas, 5/3/2020', 'Phillips, Montana, 6/4/2020', 'Phillips, Montana, 6/16/2020', 'Jackson, South Dakota, 5/20/2020', 'Phillips, Montana, 5/25/2020', 'Jackson, South Dakota, 5/13/2020', 'Avery, North Carolina, 5/12/2020', 'Butte, Idaho, 5/30/2020', 'Lake, Minnesota, 5/1/2020', 'Denali , Alaska, 5/2/2020', 'Denali , Alaska, 5/20/2020', 'Rosebud, Montana, 5/8/2020', 'Phillips, Montana, 5/23/2020', 'Monroe, Missouri, 5/12/2020', 'Trego, Kansas, 5/14/2020', 'Butte, Idaho, 6/29/2020', 'Taylor, Wisconsin, 5/19/2020', 'Custer, South Dakota, 5/19/2020', 'Phillips, Montana, 7/6/2020', 'Denali , Alaska, 6/2/2020', 'Monroe, Missouri, 5/14/2020', 'Phillips, Montana, 6/28/2020', 'Powder River, Montana, 6/20/2020', 'Weston, Wyoming, 5/4/2020', 'Mercer, North Dakota, 5/3/2020', 'Powder River, Montana, 6/15/2020', 'Billings, North Dakota, 6/16/2020', 'Fergus, Montana, 5/4/2020', 'Phillips, Montana, 6/26/2020', 'Butte, Idaho, 8/10/2020', 'Powder River, Montana, 7/19/2020', 'Powder River, Montana, 5/27/2020', 'Denali , Alaska, 6/19/2020', 'Butte, Idaho, 7/3/2020', 'Bell, Kentucky, 5/12/2020', 'Butte, Idaho, 5/14/2020', 'Butte, Idaho, 7/5/2020', 'Jackson, South Dakota, 5/17/2020', 'Powder River, Montana, 5/9/2020', 'Billings, North Dakota, 5/6/2020', 'Monroe, Missouri, 5/16/2020', 'Bell, Kentucky, 5/10/2020', 'Avery, North Carolina, 5/16/2020', 'Phillips, Montana, 5/3/2020', 'Rosebud, Montana, 5/21/2020', 'Phillips, Montana, 7/3/2020', 'Taylor, Wisconsin, 5/4/2020', 'Phillips, Montana, 6/22/2020', 'Billings, North Dakota, 6/8/2020', 'Billings, North Dakota, 6/2/2020', 'Lake, Minnesota, 5/6/2020', 'Avery, North Carolina, 5/4/2020', 'Butte, Idaho, 7/10/2020', 'Custer, South Dakota, 5/18/2020', 'Phillips, Montana, 5/14/2020', 'Monroe, Missouri, 5/11/2020', 'Phillips, Montana, 5/26/2020', 'Billings, North Dakota, 5/15/2020', 'Billings, North Dakota, 5/24/2020', 'Phillips, Montana, 6/5/2020', 'Custer, South Dakota, 5/31/2020', 'Phillips, Montana, 7/1/2020', 'Powder River, Montana, 5/13/2020', 'Phillips, Montana, 6/27/2020', 'Butte, Idaho, 5/23/2020', 'Phillips, Montana, 7/12/2020', 'Jackson, South Dakota, 5/16/2020', 'Denali , Alaska, 5/17/2020', 'Billings, North Dakota, 5/14/2020', 'Denali , Alaska, 5/18/2020', 'Taylor, Wisconsin, 5/3/2020', 'Butte, Idaho, 6/26/2020', 'Butte, Idaho, 5/22/2020', 'Denali , Alaska, 6/14/2020', 'Avery, North Carolina, 5/5/2020', 'Phillips, Montana, 7/15/2020', 'Custer, South Dakota, 5/13/2020', 'Powder River, Montana, 6/17/2020', 'Powder River, Montana, 5/23/2020', 'Billings, North Dakota, 5/17/2020', 'Powder River, Montana, 5/28/2020', 'Powder River, Montana, 6/2/2020', 'Rosebud, Montana, 5/3/2020', 'Phillips, Montana, 5/29/2020', 'Custer, South Dakota, 6/1/2020', 'Butte, Idaho, 7/27/2020', 'Weston, Wyoming, 5/9/2020', 'Custer, South Dakota, 5/22/2020', 'Custer, South Dakota, 6/3/2020', 'Fergus, Montana, 6/15/2020', 'Phillips, Montana, 6/17/2020', 'Custer, South Dakota, 5/29/2020', 'Denali , Alaska, 5/8/2020', 'Trego, Kansas, 5/9/2020', 'Fergus, Montana, 5/14/2020', 'Bell, Kentucky, 5/4/2020', 'Rosebud, Montana, 5/12/2020', 'Billings, North Dakota, 5/16/2020', 'Rosebud, Montana, 5/26/2020', 'Powder River, Montana, 6/13/2020', 'Custer, South Dakota, 5/4/2020', 'Billings, North Dakota, 5/9/2020', 'Rosebud, Montana, 5/7/2020', 'Powder River, Montana, 5/1/2020', 'Fergus, Montana, 6/9/2020', 'Butte, Idaho, 5/18/2020', 'Phillips, Montana, 7/4/2020', 'Billings, North Dakota, 6/4/2020', 'Butte, Idaho, 5/26/2020', 'Powder River, Montana, 6/3/2020', 'Trego, Kansas, 5/18/2020', 'Bell, Kentucky, 5/14/2020', 'Butte, Idaho, 7/28/2020', 'Billings, North Dakota, 5/31/2020', 'Bell, Kentucky, 5/7/2020', 'Bell, Kentucky, 5/2/2020', 'Weston, Wyoming, 5/23/2020', 'Phillips, Montana, 6/15/2020', 'Rosebud, Montana, 5/22/2020', 'Denali , Alaska, 5/9/2020', 'Custer, South Dakota, 5/8/2020', 'Powder River, Montana, 5/22/2020', 'Phillips, Montana, 5/21/2020', 'Denali , Alaska, 6/3/2020', 'Phillips, Montana, 6/11/2020', 'Fergus, Montana, 5/26/2020', 'Rosebud, Montana, 5/5/2020', 'Monroe, Missouri, 5/8/2020', 'Avery, North Carolina, 5/14/2020', 'Jackson, South Dakota, 5/9/2020', 'Butte, Idaho, 7/30/2020', 'Powder River, Montana, 7/17/2020', 'Denali , Alaska, 5/11/2020', 'Billings, North Dakota, 5/4/2020', 'Lake, Minnesota, 5/3/2020', 'Phillips, Montana, 5/19/2020', 'Butte, Idaho, 7/19/2020', 'Butte, Idaho, 5/13/2020', 'Butte, Idaho, 7/24/2020', 'Taylor, Wisconsin, 5/13/2020', 'Butte, Idaho, 6/28/2020', 'Denali , Alaska, 5/28/2020', 'Phillips, Montana, 5/24/2020', 'Fergus, Montana, 5/15/2020', 'Rosebud, Montana, 5/20/2020', 'Billings, North Dakota, 6/6/2020', 'Weston, Wyoming, 5/6/2020', 'Powder River, Montana, 7/4/2020', 'Denali , Alaska, 6/16/2020', 'Jackson, South Dakota, 5/8/2020', 'Trego, Kansas, 5/10/2020', 'Custer, South Dakota, 5/24/2020', 'Butte, Idaho, 6/13/2020', 'Powder River, Montana, 5/26/2020', 'Powder River, Montana, 5/24/2020', 'Phillips, Montana, 6/23/2020', 'Bell, Kentucky, 5/13/2020', 'Rosebud, Montana, 5/29/2020', 'Rosebud, Montana, 5/13/2020', 'Butte, Idaho, 8/5/2020', 'Phillips, Montana, 5/5/2020', 'Phillips, Montana, 6/13/2020', 'Weston, Wyoming, 5/12/2020', 'Avery, North Carolina, 5/1/2020', 'Avery, North Carolina, 5/3/2020', 'Powder River, Montana, 6/18/2020', 'Custer, South Dakota, 5/21/2020', 'Billings, North Dakota, 5/12/2020', 'Butte, Idaho, 8/6/2020', 'Phillips, Montana, 5/7/2020', 'Taylor, Wisconsin, 5/17/2020', 'Fergus, Montana, 5/22/2020', 'Phillips, Montana, 6/8/2020', 'Powder River, Montana, 5/25/2020', 'Butte, Idaho, 6/14/2020', 'Jackson, South Dakota, 5/19/2020', 'Rosebud, Montana, 5/16/2020', 'Palo Alto, Iowa, 5/5/2020', 'Denali , Alaska, 6/12/2020', 'Phillips, Montana, 7/24/2020', 'Butte, Idaho, 8/4/2020', 'Butte, Idaho, 7/25/2020'}\n",
      "Number of rows in AQdata, but not in covidData:  650\n"
     ]
    }
   ],
   "source": [
    "# resetting merge index following dataset changes\n",
    "\n",
    "covidData['mergeID'] =  covidData['county'] + ', ' + covidData['state'] + ', ' + covidData['date']\n",
    "AQData['mergeId'] = AQData['County_Name'] + ', ' + AQData['State_Name'] + ', ' + AQData['Date_Local']\n",
    "\n",
    "\n",
    "## check which merge IDs exist in AQData, but not in covidData\n",
    "covidMergeSet = covidData['mergeID'].to_list()\n",
    "AQMergeSet = AQData['mergeID'].to_list()\n",
    "AQMergeSet = set(AQMergeSet)\n",
    "covidMergeSet = set(covidMergeSet)\n",
    "differenceSet = AQMergeSet - covidMergeSet\n",
    "print('List of mergeIDs in AQData but not in covidData: \\n\\n\\n', differenceSet)\n",
    "print('Number of rows in AQdata, but not in covidData: ', len(differenceSet))"
   ]
  },
  {
   "cell_type": "code",
   "execution_count": 29,
   "metadata": {},
   "outputs": [],
   "source": [
    "#providing new datasets after first round merge cleaning (1RMC)\n",
    "\n",
    "AQData.to_csv('AQData1RMC.CSV')\n",
    "covidData.to_csv('covidData1RMC.csv')"
   ]
  },
  {
   "cell_type": "code",
   "execution_count": 30,
   "metadata": {},
   "outputs": [
    {
     "data": {
      "text/plain": [
       "Counter({'Phillips, Montana': 92,\n",
       "         'Lake, Minnesota': 6,\n",
       "         'Jackson, South Dakota': 23,\n",
       "         'Bell, Kentucky': 17,\n",
       "         'Avery, North Carolina': 18,\n",
       "         'Taylor, Wisconsin': 20,\n",
       "         'Powder River, Montana': 68,\n",
       "         'Trego, Kansas': 21,\n",
       "         'Fergus, Montana': 48,\n",
       "         'Butte, Idaho': 102,\n",
       "         'Monroe, Missouri': 26,\n",
       "         'Rosebud, Montana': 29,\n",
       "         'Denali , Alaska': 55,\n",
       "         'Palo Alto, Iowa': 7,\n",
       "         'Custer, South Dakota': 33,\n",
       "         'Mercer, North Dakota': 4,\n",
       "         'Billings, North Dakota': 50,\n",
       "         'Weston, Wyoming': 24,\n",
       "         'Forest, Wisconsin': 5,\n",
       "         'Yancey, North Carolina': 2})"
      ]
     },
     "execution_count": 30,
     "metadata": {},
     "output_type": "execute_result"
    }
   ],
   "source": [
    "from collections import Counter\n",
    "\n",
    "issueList = []\n",
    "for x in differenceSet:\n",
    "    cityState = \",\".join(x.split(\",\", 2)[:2])\n",
    "    issueList.append(cityState)\n",
    "Counter(issueList)"
   ]
  },
  {
   "cell_type": "markdown",
   "metadata": {},
   "source": [
    "## Research into states with issues \n",
    "* Custer, South Dakota started on 6/4/2020\n",
    "* Rosebud, Montana started on 6/2/2020\n",
    "* Avery, North Carolina started on 5/19/2020\n",
    "* Butte, Idaho started on 8/11/2020\n",
    "* Phillips, Montana started on 8/5/2020\n",
    "* Taylor, Wisconsin started on 5/21/2020\n",
    "* Denali , Alaska started on 6/25/2020 (Denali Borough)\n",
    "* Fergus, Montana started on 6/18/2020\n",
    "* Powder River, Montana started on 7/23/2020\n",
    "* Bell, Kentucky started on 5/18/2021\n",
    "* Billings, North Dakota started on 6/20/2020\n",
    "* Palo alto, Iowa started on 5/8/2020\n",
    "* Jackson, SD started on 5/24/2020\n",
    "* Trego, Kansas started on 5/22/2021\n",
    "* Monroe, Miss started on 5/21/2020\n",
    "* Weston, Wyoming started on 5/27/2020\n",
    "* Mercer, North Dakota started on 5/5/2020\n",
    "* Yancey, NC started on 5/3/2020\n",
    "* Lake, Minnesota started on 5/7/2020\n",
    "* Forest, Wisconsin started on 5/6/2020"
   ]
  },
  {
   "cell_type": "markdown",
   "metadata": {},
   "source": [
    "* These dates will be missing from the dataset, because we cannot with certainty say that there were zero cases in all of these counties prior to the start date. These dates will hold null values in the dataframe. "
   ]
  },
  {
   "cell_type": "markdown",
   "metadata": {},
   "source": [
    "## Merging Data"
   ]
  },
  {
   "cell_type": "code",
   "execution_count": 31,
   "metadata": {},
   "outputs": [
    {
     "data": {
      "text/html": [
       "<div>\n",
       "<style scoped>\n",
       "    .dataframe tbody tr th:only-of-type {\n",
       "        vertical-align: middle;\n",
       "    }\n",
       "\n",
       "    .dataframe tbody tr th {\n",
       "        vertical-align: top;\n",
       "    }\n",
       "\n",
       "    .dataframe thead th {\n",
       "        text-align: right;\n",
       "    }\n",
       "</style>\n",
       "<table border=\"1\" class=\"dataframe\">\n",
       "  <thead>\n",
       "    <tr style=\"text-align: right;\">\n",
       "      <th></th>\n",
       "      <th>Date_Local</th>\n",
       "      <th>State_Name</th>\n",
       "      <th>County_Name</th>\n",
       "      <th>Arithmetic_Mean_ppb</th>\n",
       "      <th>AQI_ozone</th>\n",
       "      <th>Arithmetic_Mean_cleaned</th>\n",
       "      <th>AQI_no2</th>\n",
       "      <th>Arithmetic_Mean</th>\n",
       "      <th>AQI</th>\n",
       "      <th>uniqueID_x</th>\n",
       "      <th>...</th>\n",
       "      <th>date</th>\n",
       "      <th>county</th>\n",
       "      <th>state</th>\n",
       "      <th>fips</th>\n",
       "      <th>cases</th>\n",
       "      <th>deaths</th>\n",
       "      <th>uniqueId</th>\n",
       "      <th>daily cases</th>\n",
       "      <th>daily deaths</th>\n",
       "      <th>uniqueID_y</th>\n",
       "    </tr>\n",
       "  </thead>\n",
       "  <tbody>\n",
       "    <tr>\n",
       "      <th>0</th>\n",
       "      <td>5/1/2020</td>\n",
       "      <td>Alabama</td>\n",
       "      <td>Baldwin</td>\n",
       "      <td>35.000000</td>\n",
       "      <td>50.000000</td>\n",
       "      <td>NaN</td>\n",
       "      <td>NaN</td>\n",
       "      <td>NaN</td>\n",
       "      <td>NaN</td>\n",
       "      <td>Baldwin, Alabama</td>\n",
       "      <td>...</td>\n",
       "      <td>5/1/2020</td>\n",
       "      <td>Baldwin</td>\n",
       "      <td>Alabama</td>\n",
       "      <td>1003.0</td>\n",
       "      <td>175.0</td>\n",
       "      <td>4.0</td>\n",
       "      <td>Baldwin, Alabama</td>\n",
       "      <td>1.0</td>\n",
       "      <td>1.0</td>\n",
       "      <td>NaN</td>\n",
       "    </tr>\n",
       "    <tr>\n",
       "      <th>1</th>\n",
       "      <td>5/1/2020</td>\n",
       "      <td>Alabama</td>\n",
       "      <td>DeKalb</td>\n",
       "      <td>47.000000</td>\n",
       "      <td>58.000000</td>\n",
       "      <td>NaN</td>\n",
       "      <td>NaN</td>\n",
       "      <td>NaN</td>\n",
       "      <td>NaN</td>\n",
       "      <td>DeKalb, Alabama</td>\n",
       "      <td>...</td>\n",
       "      <td>5/1/2020</td>\n",
       "      <td>DeKalb</td>\n",
       "      <td>Alabama</td>\n",
       "      <td>1049.0</td>\n",
       "      <td>76.0</td>\n",
       "      <td>2.0</td>\n",
       "      <td>DeKalb, Alabama</td>\n",
       "      <td>0.0</td>\n",
       "      <td>0.0</td>\n",
       "      <td>NaN</td>\n",
       "    </tr>\n",
       "    <tr>\n",
       "      <th>2</th>\n",
       "      <td>5/1/2020</td>\n",
       "      <td>Alabama</td>\n",
       "      <td>Elmore</td>\n",
       "      <td>28.000000</td>\n",
       "      <td>44.000000</td>\n",
       "      <td>NaN</td>\n",
       "      <td>NaN</td>\n",
       "      <td>NaN</td>\n",
       "      <td>NaN</td>\n",
       "      <td>Elmore, Alabama</td>\n",
       "      <td>...</td>\n",
       "      <td>5/1/2020</td>\n",
       "      <td>Elmore</td>\n",
       "      <td>Alabama</td>\n",
       "      <td>1051.0</td>\n",
       "      <td>88.0</td>\n",
       "      <td>2.0</td>\n",
       "      <td>Elmore, Alabama</td>\n",
       "      <td>2.0</td>\n",
       "      <td>0.0</td>\n",
       "      <td>NaN</td>\n",
       "    </tr>\n",
       "    <tr>\n",
       "      <th>3</th>\n",
       "      <td>5/1/2020</td>\n",
       "      <td>Alabama</td>\n",
       "      <td>Etowah</td>\n",
       "      <td>34.000000</td>\n",
       "      <td>51.000000</td>\n",
       "      <td>NaN</td>\n",
       "      <td>NaN</td>\n",
       "      <td>NaN</td>\n",
       "      <td>NaN</td>\n",
       "      <td>Etowah, Alabama</td>\n",
       "      <td>...</td>\n",
       "      <td>5/1/2020</td>\n",
       "      <td>Etowah</td>\n",
       "      <td>Alabama</td>\n",
       "      <td>1055.0</td>\n",
       "      <td>139.0</td>\n",
       "      <td>10.0</td>\n",
       "      <td>Etowah, Alabama</td>\n",
       "      <td>0.0</td>\n",
       "      <td>1.0</td>\n",
       "      <td>NaN</td>\n",
       "    </tr>\n",
       "    <tr>\n",
       "      <th>4</th>\n",
       "      <td>5/1/2020</td>\n",
       "      <td>Alabama</td>\n",
       "      <td>Jefferson</td>\n",
       "      <td>30.333333</td>\n",
       "      <td>47.666667</td>\n",
       "      <td>15.311553</td>\n",
       "      <td>32.0</td>\n",
       "      <td>11.0125</td>\n",
       "      <td>46.0</td>\n",
       "      <td>Jefferson, Alabama</td>\n",
       "      <td>...</td>\n",
       "      <td>5/1/2020</td>\n",
       "      <td>Jefferson</td>\n",
       "      <td>Alabama</td>\n",
       "      <td>1073.0</td>\n",
       "      <td>929.0</td>\n",
       "      <td>48.0</td>\n",
       "      <td>Jefferson, Alabama</td>\n",
       "      <td>43.0</td>\n",
       "      <td>2.0</td>\n",
       "      <td>NaN</td>\n",
       "    </tr>\n",
       "  </tbody>\n",
       "</table>\n",
       "<p>5 rows × 22 columns</p>\n",
       "</div>"
      ],
      "text/plain": [
       "  Date_Local State_Name County_Name  Arithmetic_Mean_ppb  AQI_ozone  \\\n",
       "0   5/1/2020    Alabama     Baldwin            35.000000  50.000000   \n",
       "1   5/1/2020    Alabama      DeKalb            47.000000  58.000000   \n",
       "2   5/1/2020    Alabama      Elmore            28.000000  44.000000   \n",
       "3   5/1/2020    Alabama      Etowah            34.000000  51.000000   \n",
       "4   5/1/2020    Alabama   Jefferson            30.333333  47.666667   \n",
       "\n",
       "   Arithmetic_Mean_cleaned  AQI_no2  Arithmetic_Mean   AQI  \\\n",
       "0                      NaN      NaN              NaN   NaN   \n",
       "1                      NaN      NaN              NaN   NaN   \n",
       "2                      NaN      NaN              NaN   NaN   \n",
       "3                      NaN      NaN              NaN   NaN   \n",
       "4                15.311553     32.0          11.0125  46.0   \n",
       "\n",
       "           uniqueID_x  ...      date     county    state    fips  cases  \\\n",
       "0    Baldwin, Alabama  ...  5/1/2020    Baldwin  Alabama  1003.0  175.0   \n",
       "1     DeKalb, Alabama  ...  5/1/2020     DeKalb  Alabama  1049.0   76.0   \n",
       "2     Elmore, Alabama  ...  5/1/2020     Elmore  Alabama  1051.0   88.0   \n",
       "3     Etowah, Alabama  ...  5/1/2020     Etowah  Alabama  1055.0  139.0   \n",
       "4  Jefferson, Alabama  ...  5/1/2020  Jefferson  Alabama  1073.0  929.0   \n",
       "\n",
       "   deaths            uniqueId  daily cases daily deaths  uniqueID_y  \n",
       "0     4.0    Baldwin, Alabama          1.0          1.0         NaN  \n",
       "1     2.0     DeKalb, Alabama          0.0          0.0         NaN  \n",
       "2     2.0     Elmore, Alabama          2.0          0.0         NaN  \n",
       "3    10.0     Etowah, Alabama          0.0          1.0         NaN  \n",
       "4    48.0  Jefferson, Alabama         43.0          2.0         NaN  \n",
       "\n",
       "[5 rows x 22 columns]"
      ]
     },
     "execution_count": 31,
     "metadata": {},
     "output_type": "execute_result"
    }
   ],
   "source": [
    "mergedData = pd.merge(AQData, covidData, on=\"mergeID\", how=\"left\")\n",
    "mergedData.head()"
   ]
  },
  {
   "cell_type": "code",
   "execution_count": 32,
   "metadata": {},
   "outputs": [],
   "source": [
    "# making new dataframe with only columns we need\n",
    "\n",
    "filteredMergedData = mergedData[['Date_Local', 'State_Name', 'County_Name', 'Arithmetic_Mean_ppb', 'AQI_ozone', 'Arithmetic_Mean_cleaned', 'AQI_no2', 'Arithmetic_Mean', 'AQI', 'daily cases', 'daily deaths']]"
   ]
  },
  {
   "cell_type": "code",
   "execution_count": 33,
   "metadata": {},
   "outputs": [],
   "source": [
    "filteredMergedData.columns = ['Date', 'State', 'County', 'Arithmetic_Mean_ppb', 'AQI_Ozone', 'Arithmetic_Mean_Cleaned', 'AQI_No2','Arithmetic_Mean','AQI', 'Daily_Cases', 'Daily_Deaths']"
   ]
  },
  {
   "cell_type": "code",
   "execution_count": 34,
   "metadata": {},
   "outputs": [
    {
     "data": {
      "text/html": [
       "<div>\n",
       "<style scoped>\n",
       "    .dataframe tbody tr th:only-of-type {\n",
       "        vertical-align: middle;\n",
       "    }\n",
       "\n",
       "    .dataframe tbody tr th {\n",
       "        vertical-align: top;\n",
       "    }\n",
       "\n",
       "    .dataframe thead th {\n",
       "        text-align: right;\n",
       "    }\n",
       "</style>\n",
       "<table border=\"1\" class=\"dataframe\">\n",
       "  <thead>\n",
       "    <tr style=\"text-align: right;\">\n",
       "      <th></th>\n",
       "      <th>Date</th>\n",
       "      <th>State</th>\n",
       "      <th>County</th>\n",
       "      <th>Arithmetic_Mean_ppb</th>\n",
       "      <th>AQI_Ozone</th>\n",
       "      <th>Arithmetic_Mean_Cleaned</th>\n",
       "      <th>AQI_No2</th>\n",
       "      <th>Arithmetic_Mean</th>\n",
       "      <th>AQI</th>\n",
       "      <th>Daily_Cases</th>\n",
       "      <th>Daily_Deaths</th>\n",
       "    </tr>\n",
       "  </thead>\n",
       "  <tbody>\n",
       "    <tr>\n",
       "      <th>0</th>\n",
       "      <td>5/1/2020</td>\n",
       "      <td>Alabama</td>\n",
       "      <td>Baldwin</td>\n",
       "      <td>35.000000</td>\n",
       "      <td>50.000000</td>\n",
       "      <td>NaN</td>\n",
       "      <td>NaN</td>\n",
       "      <td>NaN</td>\n",
       "      <td>NaN</td>\n",
       "      <td>1.0</td>\n",
       "      <td>1.0</td>\n",
       "    </tr>\n",
       "    <tr>\n",
       "      <th>1</th>\n",
       "      <td>5/1/2020</td>\n",
       "      <td>Alabama</td>\n",
       "      <td>DeKalb</td>\n",
       "      <td>47.000000</td>\n",
       "      <td>58.000000</td>\n",
       "      <td>NaN</td>\n",
       "      <td>NaN</td>\n",
       "      <td>NaN</td>\n",
       "      <td>NaN</td>\n",
       "      <td>0.0</td>\n",
       "      <td>0.0</td>\n",
       "    </tr>\n",
       "    <tr>\n",
       "      <th>2</th>\n",
       "      <td>5/1/2020</td>\n",
       "      <td>Alabama</td>\n",
       "      <td>Elmore</td>\n",
       "      <td>28.000000</td>\n",
       "      <td>44.000000</td>\n",
       "      <td>NaN</td>\n",
       "      <td>NaN</td>\n",
       "      <td>NaN</td>\n",
       "      <td>NaN</td>\n",
       "      <td>2.0</td>\n",
       "      <td>0.0</td>\n",
       "    </tr>\n",
       "    <tr>\n",
       "      <th>3</th>\n",
       "      <td>5/1/2020</td>\n",
       "      <td>Alabama</td>\n",
       "      <td>Etowah</td>\n",
       "      <td>34.000000</td>\n",
       "      <td>51.000000</td>\n",
       "      <td>NaN</td>\n",
       "      <td>NaN</td>\n",
       "      <td>NaN</td>\n",
       "      <td>NaN</td>\n",
       "      <td>0.0</td>\n",
       "      <td>1.0</td>\n",
       "    </tr>\n",
       "    <tr>\n",
       "      <th>4</th>\n",
       "      <td>5/1/2020</td>\n",
       "      <td>Alabama</td>\n",
       "      <td>Jefferson</td>\n",
       "      <td>30.333333</td>\n",
       "      <td>47.666667</td>\n",
       "      <td>15.311553</td>\n",
       "      <td>32.0</td>\n",
       "      <td>11.0125</td>\n",
       "      <td>46.0</td>\n",
       "      <td>43.0</td>\n",
       "      <td>2.0</td>\n",
       "    </tr>\n",
       "  </tbody>\n",
       "</table>\n",
       "</div>"
      ],
      "text/plain": [
       "       Date    State     County  Arithmetic_Mean_ppb  AQI_Ozone  \\\n",
       "0  5/1/2020  Alabama    Baldwin            35.000000  50.000000   \n",
       "1  5/1/2020  Alabama     DeKalb            47.000000  58.000000   \n",
       "2  5/1/2020  Alabama     Elmore            28.000000  44.000000   \n",
       "3  5/1/2020  Alabama     Etowah            34.000000  51.000000   \n",
       "4  5/1/2020  Alabama  Jefferson            30.333333  47.666667   \n",
       "\n",
       "   Arithmetic_Mean_Cleaned  AQI_No2  Arithmetic_Mean   AQI  Daily_Cases  \\\n",
       "0                      NaN      NaN              NaN   NaN          1.0   \n",
       "1                      NaN      NaN              NaN   NaN          0.0   \n",
       "2                      NaN      NaN              NaN   NaN          2.0   \n",
       "3                      NaN      NaN              NaN   NaN          0.0   \n",
       "4                15.311553     32.0          11.0125  46.0         43.0   \n",
       "\n",
       "   Daily_Deaths  \n",
       "0           1.0  \n",
       "1           0.0  \n",
       "2           0.0  \n",
       "3           1.0  \n",
       "4           2.0  "
      ]
     },
     "execution_count": 34,
     "metadata": {},
     "output_type": "execute_result"
    }
   ],
   "source": [
    "filteredMergedData.head()"
   ]
  },
  {
   "cell_type": "code",
   "execution_count": 35,
   "metadata": {},
   "outputs": [
    {
     "name": "stdout",
     "output_type": "stream",
     "text": [
      "Date                        object\n",
      "State                       object\n",
      "County                      object\n",
      "Arithmetic_Mean_ppb        float64\n",
      "AQI_Ozone                  float64\n",
      "Arithmetic_Mean_Cleaned    float64\n",
      "AQI_No2                    float64\n",
      "Arithmetic_Mean            float64\n",
      "AQI                        float64\n",
      "Daily_Cases                float64\n",
      "Daily_Deaths               float64\n",
      "dtype: object\n",
      "Date                       datetime64[ns]\n",
      "State                              object\n",
      "County                             object\n",
      "Arithmetic_Mean_ppb               float64\n",
      "AQI_Ozone                         float64\n",
      "Arithmetic_Mean_Cleaned           float64\n",
      "AQI_No2                           float64\n",
      "Arithmetic_Mean                   float64\n",
      "AQI                               float64\n",
      "Daily_Cases                       float64\n",
      "Daily_Deaths                      float64\n",
      "dtype: object\n"
     ]
    }
   ],
   "source": [
    "filteredMergedData.to_csv('filteredMergedData.csv')\n",
    "print(filteredMergedData.dtypes)\n",
    "#need to change date to datetime data type\n",
    "filteredMergedData['Date']= pd.to_datetime(filteredMergedData['Date'])\n",
    "print(filteredMergedData.dtypes)"
   ]
  },
  {
   "cell_type": "code",
   "execution_count": 36,
   "metadata": {},
   "outputs": [],
   "source": [
    "dailyGroup = filteredMergedData.groupby('Date').mean()"
   ]
  },
  {
   "cell_type": "code",
   "execution_count": 60,
   "metadata": {},
   "outputs": [
    {
     "ename": "AttributeError",
     "evalue": "module 'matplotlib.pyplot' has no attribute 'figsize'",
     "output_type": "error",
     "traceback": [
      "\u001b[1;31m---------------------------------------------------------------------------\u001b[0m",
      "\u001b[1;31mAttributeError\u001b[0m                            Traceback (most recent call last)",
      "\u001b[1;32m<ipython-input-60-317b07e6e006>\u001b[0m in \u001b[0;36m<module>\u001b[1;34m\u001b[0m\n\u001b[0;32m      1\u001b[0m \u001b[1;32mimport\u001b[0m \u001b[0mmatplotlib\u001b[0m\u001b[1;33m.\u001b[0m\u001b[0mpyplot\u001b[0m \u001b[1;32mas\u001b[0m \u001b[0mplt\u001b[0m\u001b[1;33m\u001b[0m\u001b[1;33m\u001b[0m\u001b[0m\n\u001b[1;32m----> 2\u001b[1;33m \u001b[0mplt\u001b[0m\u001b[1;33m.\u001b[0m\u001b[0mfigsize\u001b[0m\u001b[1;33m(\u001b[0m\u001b[1;34m'10x10'\u001b[0m\u001b[1;33m)\u001b[0m\u001b[1;33m\u001b[0m\u001b[1;33m\u001b[0m\u001b[0m\n\u001b[0m",
      "\u001b[1;31mAttributeError\u001b[0m: module 'matplotlib.pyplot' has no attribute 'figsize'"
     ]
    }
   ],
   "source": [
    "import matplotlib.pyplot as plt\n",
    "plt.figsize('10x10')"
   ]
  },
  {
   "cell_type": "code",
   "execution_count": 52,
   "metadata": {},
   "outputs": [
    {
     "data": {
      "image/png": "[encoded data removed]",
      "text/plain": [
       "<Figure size 432x288 with 1 Axes>"
      ]
     },
     "metadata": {
      "needs_background": "light"
     },
     "output_type": "display_data"
    }
   ],
   "source": [
    "plt.plot(dailyGroup['Daily_Cases'], label ='Average Cases')\n",
    "plt.plot(dailyGroup['AQI'], label = 'Average AQI')\n",
    "plt.xticks(rotation = 90)\n",
    "plt.legend()\n",
    "plt.title('Average COVID Cases and Average AQI')\n",
    "plt.savefig('AQI & Covid Cases.png')\n",
    "plt.tight_layout()\n",
    "plt.show()"
   ]
  },
  {
   "cell_type": "code",
   "execution_count": 53,
   "metadata": {},
   "outputs": [
    {
     "data": {
      "image/png": "[encoded data removed]",
      "text/plain": [
       "<Figure size 432x288 with 1 Axes>"
      ]
     },
     "metadata": {
      "needs_background": "light"
     },
     "output_type": "display_data"
    }
   ],
   "source": [
    "plt.plot(dailyGroup['Daily_Cases'], label ='Average Cases')\n",
    "plt.plot(dailyGroup['AQI_No2'], label = 'Average NO2')\n",
    "plt.xticks(rotation = 90)\n",
    "plt.legend()\n",
    "plt.savefig('AQI_No2 & Covid Cases.png')\n",
    "plt.title('Average COVID Cases and Average NO2')\n",
    "plt.tight_layout()\n",
    "plt.show()"
   ]
  },
  {
   "cell_type": "code",
   "execution_count": 54,
   "metadata": {},
   "outputs": [
    {
     "data": {
      "image/png": "[encoded data removed]",
      "text/plain": [
       "<Figure size 432x288 with 1 Axes>"
      ]
     },
     "metadata": {
      "needs_background": "light"
     },
     "output_type": "display_data"
    }
   ],
   "source": [
    "plt.plot(dailyGroup['Daily_Cases'], label ='Average Cases')\n",
    "plt.plot(dailyGroup['AQI_Ozone'], label = 'Average Ozone')\n",
    "plt.xticks(rotation = 90)\n",
    "plt.legend()\n",
    "plt.savefig('AQI_Ozone & Covid Cases.png')\n",
    "plt.title('Average COVID Cases and Average Ozone')\n",
    "plt.tight_layout()\n",
    "plt.show()"
   ]
  },
  {
   "cell_type": "code",
   "execution_count": 55,
   "metadata": {},
   "outputs": [
    {
     "data": {
      "image/png": "[encoded data removed]",
      "text/plain": [
       "<Figure size 432x288 with 1 Axes>"
      ]
     },
     "metadata": {
      "needs_background": "light"
     },
     "output_type": "display_data"
    }
   ],
   "source": [
    "plt.plot(dailyGroup['Daily_Deaths'], label ='Average Deaths')\n",
    "plt.plot(dailyGroup['AQI'], label = 'Average AQI')\n",
    "plt.xticks(rotation = 90)\n",
    "plt.legend()\n",
    "plt.title('Average COVID Deaths and Average AQI')\n",
    "plt.savefig('AQI & Covid Deaths.png')\n",
    "plt.tight_layout()\n",
    "plt.show()"
   ]
  },
  {
   "cell_type": "code",
   "execution_count": 59,
   "metadata": {},
   "outputs": [
    {
     "data": {
      "image/png": "[encoded data removed]",
      "text/plain": [
       "<Figure size 432x288 with 1 Axes>"
      ]
     },
     "metadata": {
      "needs_background": "light"
     },
     "output_type": "display_data"
    }
   ],
   "source": [
    "plt.plot(dailyGroup['Daily_Deaths'], label ='Average Deaths')\n",
    "plt.plot(dailyGroup['AQI_No2'], label = 'Average NO2')\n",
    "plt.xticks(rotation = 90)\n",
    "plt.legend()\n",
    "plt.savefig('AQI_No2 & Covid Deaths.png')\n",
    "plt.title('Average COVID Deaths and Average NO2')\n",
    "plt.tight_layout()\n",
    "plt.gcf().subplots_adjust(bottom=0.15)\n",
    "plt.show()"
   ]
  },
  {
   "cell_type": "code",
   "execution_count": 57,
   "metadata": {},
   "outputs": [
    {
     "data": {
      "image/png": "[encoded data removed]",
      "text/plain": [
       "<Figure size 432x288 with 1 Axes>"
      ]
     },
     "metadata": {
      "needs_background": "light"
     },
     "output_type": "display_data"
    }
   ],
   "source": [
    "plt.plot(dailyGroup['Daily_Deaths'], label ='Average Deaths')\n",
    "plt.plot(dailyGroup['AQI_Ozone'], label = 'Average Ozone')\n",
    "plt.xticks(rotation = 90)\n",
    "plt.legend()\n",
    "plt.savefig('AQI_Ozone & Covid Deaths.png')\n",
    "plt.title('Average COVID Deaths and Average Ozone')\n",
    "plt.tight_layout()\n",
    "plt.show()"
   ]
  },
  {
   "cell_type": "code",
   "execution_count": 58,
   "metadata": {},
   "outputs": [
    {
     "data": {
      "text/html": [
       "<div>\n",
       "<style scoped>\n",
       "    .dataframe tbody tr th:only-of-type {\n",
       "        vertical-align: middle;\n",
       "    }\n",
       "\n",
       "    .dataframe tbody tr th {\n",
       "        vertical-align: top;\n",
       "    }\n",
       "\n",
       "    .dataframe thead th {\n",
       "        text-align: right;\n",
       "    }\n",
       "</style>\n",
       "<table border=\"1\" class=\"dataframe\">\n",
       "  <thead>\n",
       "    <tr style=\"text-align: right;\">\n",
       "      <th></th>\n",
       "      <th>State_Name</th>\n",
       "      <th>County_Name</th>\n",
       "      <th>Arithmetic_Mean_ppb</th>\n",
       "      <th>AQI_ozone</th>\n",
       "      <th>Arithmetic_Mean_cleaned</th>\n",
       "      <th>AQI_no2</th>\n",
       "      <th>Arithmetic_Mean</th>\n",
       "      <th>AQI</th>\n",
       "      <th>uniqueID</th>\n",
       "      <th>mergeID</th>\n",
       "      <th>mergeId</th>\n",
       "    </tr>\n",
       "    <tr>\n",
       "      <th>Date_Local</th>\n",
       "      <th></th>\n",
       "      <th></th>\n",
       "      <th></th>\n",
       "      <th></th>\n",
       "      <th></th>\n",
       "      <th></th>\n",
       "      <th></th>\n",
       "      <th></th>\n",
       "      <th></th>\n",
       "      <th></th>\n",
       "      <th></th>\n",
       "    </tr>\n",
       "  </thead>\n",
       "  <tbody>\n",
       "    <tr>\n",
       "      <th>10/1/2020</th>\n",
       "      <td>43</td>\n",
       "      <td>43</td>\n",
       "      <td>43</td>\n",
       "      <td>43</td>\n",
       "      <td>15</td>\n",
       "      <td>15</td>\n",
       "      <td>21</td>\n",
       "      <td>21</td>\n",
       "      <td>43</td>\n",
       "      <td>43</td>\n",
       "      <td>43</td>\n",
       "    </tr>\n",
       "    <tr>\n",
       "      <th>10/10/2020</th>\n",
       "      <td>36</td>\n",
       "      <td>36</td>\n",
       "      <td>36</td>\n",
       "      <td>36</td>\n",
       "      <td>15</td>\n",
       "      <td>15</td>\n",
       "      <td>19</td>\n",
       "      <td>19</td>\n",
       "      <td>36</td>\n",
       "      <td>36</td>\n",
       "      <td>36</td>\n",
       "    </tr>\n",
       "    <tr>\n",
       "      <th>10/11/2020</th>\n",
       "      <td>36</td>\n",
       "      <td>36</td>\n",
       "      <td>36</td>\n",
       "      <td>36</td>\n",
       "      <td>15</td>\n",
       "      <td>15</td>\n",
       "      <td>19</td>\n",
       "      <td>19</td>\n",
       "      <td>36</td>\n",
       "      <td>36</td>\n",
       "      <td>36</td>\n",
       "    </tr>\n",
       "    <tr>\n",
       "      <th>10/12/2020</th>\n",
       "      <td>36</td>\n",
       "      <td>36</td>\n",
       "      <td>36</td>\n",
       "      <td>36</td>\n",
       "      <td>15</td>\n",
       "      <td>15</td>\n",
       "      <td>19</td>\n",
       "      <td>19</td>\n",
       "      <td>36</td>\n",
       "      <td>36</td>\n",
       "      <td>36</td>\n",
       "    </tr>\n",
       "    <tr>\n",
       "      <th>10/13/2020</th>\n",
       "      <td>35</td>\n",
       "      <td>35</td>\n",
       "      <td>35</td>\n",
       "      <td>35</td>\n",
       "      <td>14</td>\n",
       "      <td>14</td>\n",
       "      <td>18</td>\n",
       "      <td>17</td>\n",
       "      <td>35</td>\n",
       "      <td>35</td>\n",
       "      <td>35</td>\n",
       "    </tr>\n",
       "    <tr>\n",
       "      <th>...</th>\n",
       "      <td>...</td>\n",
       "      <td>...</td>\n",
       "      <td>...</td>\n",
       "      <td>...</td>\n",
       "      <td>...</td>\n",
       "      <td>...</td>\n",
       "      <td>...</td>\n",
       "      <td>...</td>\n",
       "      <td>...</td>\n",
       "      <td>...</td>\n",
       "      <td>...</td>\n",
       "    </tr>\n",
       "    <tr>\n",
       "      <th>9/5/2020</th>\n",
       "      <td>301</td>\n",
       "      <td>301</td>\n",
       "      <td>301</td>\n",
       "      <td>301</td>\n",
       "      <td>70</td>\n",
       "      <td>70</td>\n",
       "      <td>110</td>\n",
       "      <td>110</td>\n",
       "      <td>301</td>\n",
       "      <td>301</td>\n",
       "      <td>301</td>\n",
       "    </tr>\n",
       "    <tr>\n",
       "      <th>9/6/2020</th>\n",
       "      <td>301</td>\n",
       "      <td>301</td>\n",
       "      <td>301</td>\n",
       "      <td>301</td>\n",
       "      <td>69</td>\n",
       "      <td>69</td>\n",
       "      <td>141</td>\n",
       "      <td>141</td>\n",
       "      <td>301</td>\n",
       "      <td>301</td>\n",
       "      <td>301</td>\n",
       "    </tr>\n",
       "    <tr>\n",
       "      <th>9/7/2020</th>\n",
       "      <td>302</td>\n",
       "      <td>302</td>\n",
       "      <td>302</td>\n",
       "      <td>302</td>\n",
       "      <td>68</td>\n",
       "      <td>68</td>\n",
       "      <td>111</td>\n",
       "      <td>111</td>\n",
       "      <td>302</td>\n",
       "      <td>302</td>\n",
       "      <td>302</td>\n",
       "    </tr>\n",
       "    <tr>\n",
       "      <th>9/8/2020</th>\n",
       "      <td>300</td>\n",
       "      <td>300</td>\n",
       "      <td>300</td>\n",
       "      <td>300</td>\n",
       "      <td>68</td>\n",
       "      <td>68</td>\n",
       "      <td>108</td>\n",
       "      <td>108</td>\n",
       "      <td>300</td>\n",
       "      <td>300</td>\n",
       "      <td>300</td>\n",
       "    </tr>\n",
       "    <tr>\n",
       "      <th>9/9/2020</th>\n",
       "      <td>299</td>\n",
       "      <td>299</td>\n",
       "      <td>299</td>\n",
       "      <td>299</td>\n",
       "      <td>68</td>\n",
       "      <td>68</td>\n",
       "      <td>138</td>\n",
       "      <td>136</td>\n",
       "      <td>299</td>\n",
       "      <td>299</td>\n",
       "      <td>299</td>\n",
       "    </tr>\n",
       "  </tbody>\n",
       "</table>\n",
       "<p>184 rows × 11 columns</p>\n",
       "</div>"
      ],
      "text/plain": [
       "            State_Name  County_Name  Arithmetic_Mean_ppb  AQI_ozone  \\\n",
       "Date_Local                                                            \n",
       "10/1/2020           43           43                   43         43   \n",
       "10/10/2020          36           36                   36         36   \n",
       "10/11/2020          36           36                   36         36   \n",
       "10/12/2020          36           36                   36         36   \n",
       "10/13/2020          35           35                   35         35   \n",
       "...                ...          ...                  ...        ...   \n",
       "9/5/2020           301          301                  301        301   \n",
       "9/6/2020           301          301                  301        301   \n",
       "9/7/2020           302          302                  302        302   \n",
       "9/8/2020           300          300                  300        300   \n",
       "9/9/2020           299          299                  299        299   \n",
       "\n",
       "            Arithmetic_Mean_cleaned  AQI_no2  Arithmetic_Mean  AQI  uniqueID  \\\n",
       "Date_Local                                                                     \n",
       "10/1/2020                        15       15               21   21        43   \n",
       "10/10/2020                       15       15               19   19        36   \n",
       "10/11/2020                       15       15               19   19        36   \n",
       "10/12/2020                       15       15               19   19        36   \n",
       "10/13/2020                       14       14               18   17        35   \n",
       "...                             ...      ...              ...  ...       ...   \n",
       "9/5/2020                         70       70              110  110       301   \n",
       "9/6/2020                         69       69              141  141       301   \n",
       "9/7/2020                         68       68              111  111       302   \n",
       "9/8/2020                         68       68              108  108       300   \n",
       "9/9/2020                         68       68              138  136       299   \n",
       "\n",
       "            mergeID  mergeId  \n",
       "Date_Local                    \n",
       "10/1/2020        43       43  \n",
       "10/10/2020       36       36  \n",
       "10/11/2020       36       36  \n",
       "10/12/2020       36       36  \n",
       "10/13/2020       35       35  \n",
       "...             ...      ...  \n",
       "9/5/2020        301      301  \n",
       "9/6/2020        301      301  \n",
       "9/7/2020        302      302  \n",
       "9/8/2020        300      300  \n",
       "9/9/2020        299      299  \n",
       "\n",
       "[184 rows x 11 columns]"
      ]
     },
     "execution_count": 58,
     "metadata": {},
     "output_type": "execute_result"
    }
   ],
   "source": [
    "AQCount = AQData.groupby('Date_Local').count()\n",
    "AQCount"
   ]
  },
  {
   "cell_type": "markdown",
   "metadata": {},
   "source": [
    "## Sample Linear Regression"
   ]
  },
  {
   "cell_type": "code",
   "execution_count": 45,
   "metadata": {},
   "outputs": [
    {
     "data": {
      "text/html": [
       "<table class=\"simpletable\">\n",
       "<caption>OLS Regression Results</caption>\n",
       "<tr>\n",
       "  <th>Dep. Variable:</th>           <td>AQI</td>       <th>  R-squared:         </th>  <td>   0.008</td>  \n",
       "</tr>\n",
       "<tr>\n",
       "  <th>Model:</th>                   <td>OLS</td>       <th>  Adj. R-squared:    </th>  <td>   0.008</td>  \n",
       "</tr>\n",
       "<tr>\n",
       "  <th>Method:</th>             <td>Least Squares</td>  <th>  F-statistic:       </th>  <td>   172.1</td>  \n",
       "</tr>\n",
       "<tr>\n",
       "  <th>Date:</th>             <td>Mon, 26 Apr 2021</td> <th>  Prob (F-statistic):</th>  <td>3.73e-75</td>  \n",
       "</tr>\n",
       "<tr>\n",
       "  <th>Time:</th>                 <td>21:16:23</td>     <th>  Log-Likelihood:    </th> <td>-1.7105e+05</td>\n",
       "</tr>\n",
       "<tr>\n",
       "  <th>No. Observations:</th>      <td> 40261</td>      <th>  AIC:               </th>  <td>3.421e+05</td> \n",
       "</tr>\n",
       "<tr>\n",
       "  <th>Df Residuals:</th>          <td> 40258</td>      <th>  BIC:               </th>  <td>3.421e+05</td> \n",
       "</tr>\n",
       "<tr>\n",
       "  <th>Df Model:</th>              <td>     2</td>      <th>                     </th>      <td> </td>     \n",
       "</tr>\n",
       "<tr>\n",
       "  <th>Covariance Type:</th>      <td>nonrobust</td>    <th>                     </th>      <td> </td>     \n",
       "</tr>\n",
       "</table>\n",
       "<table class=\"simpletable\">\n",
       "<tr>\n",
       "        <td></td>          <th>coef</th>     <th>std err</th>      <th>t</th>      <th>P>|t|</th>  <th>[0.025</th>    <th>0.975]</th>  \n",
       "</tr>\n",
       "<tr>\n",
       "  <th>Intercept</th>    <td>   28.6426</td> <td>    0.090</td> <td>  318.889</td> <td> 0.000</td> <td>   28.467</td> <td>   28.819</td>\n",
       "</tr>\n",
       "<tr>\n",
       "  <th>Daily_Cases</th>  <td>    0.0117</td> <td>    0.001</td> <td>   18.539</td> <td> 0.000</td> <td>    0.010</td> <td>    0.013</td>\n",
       "</tr>\n",
       "<tr>\n",
       "  <th>Daily_Deaths</th> <td>   -0.0748</td> <td>    0.010</td> <td>   -7.469</td> <td> 0.000</td> <td>   -0.094</td> <td>   -0.055</td>\n",
       "</tr>\n",
       "</table>\n",
       "<table class=\"simpletable\">\n",
       "<tr>\n",
       "  <th>Omnibus:</th>       <td>26109.874</td> <th>  Durbin-Watson:     </th>  <td>   0.866</td> \n",
       "</tr>\n",
       "<tr>\n",
       "  <th>Prob(Omnibus):</th>  <td> 0.000</td>   <th>  Jarque-Bera (JB):  </th> <td>683859.655</td>\n",
       "</tr>\n",
       "<tr>\n",
       "  <th>Skew:</th>           <td> 2.715</td>   <th>  Prob(JB):          </th>  <td>    0.00</td> \n",
       "</tr>\n",
       "<tr>\n",
       "  <th>Kurtosis:</th>       <td>22.447</td>   <th>  Cond. No.          </th>  <td>    169.</td> \n",
       "</tr>\n",
       "</table><br/><br/>Notes:<br/>[1] Standard Errors assume that the covariance matrix of the errors is correctly specified."
      ],
      "text/plain": [
       "<class 'statsmodels.iolib.summary.Summary'>\n",
       "\"\"\"\n",
       "                            OLS Regression Results                            \n",
       "==============================================================================\n",
       "Dep. Variable:                    AQI   R-squared:                       0.008\n",
       "Model:                            OLS   Adj. R-squared:                  0.008\n",
       "Method:                 Least Squares   F-statistic:                     172.1\n",
       "Date:                Mon, 26 Apr 2021   Prob (F-statistic):           3.73e-75\n",
       "Time:                        21:16:23   Log-Likelihood:            -1.7105e+05\n",
       "No. Observations:               40261   AIC:                         3.421e+05\n",
       "Df Residuals:                   40258   BIC:                         3.421e+05\n",
       "Df Model:                           2                                         \n",
       "Covariance Type:            nonrobust                                         \n",
       "================================================================================\n",
       "                   coef    std err          t      P>|t|      [0.025      0.975]\n",
       "--------------------------------------------------------------------------------\n",
       "Intercept       28.6426      0.090    318.889      0.000      28.467      28.819\n",
       "Daily_Cases      0.0117      0.001     18.539      0.000       0.010       0.013\n",
       "Daily_Deaths    -0.0748      0.010     -7.469      0.000      -0.094      -0.055\n",
       "==============================================================================\n",
       "Omnibus:                    26109.874   Durbin-Watson:                   0.866\n",
       "Prob(Omnibus):                  0.000   Jarque-Bera (JB):           683859.655\n",
       "Skew:                           2.715   Prob(JB):                         0.00\n",
       "Kurtosis:                      22.447   Cond. No.                         169.\n",
       "==============================================================================\n",
       "\n",
       "Notes:\n",
       "[1] Standard Errors assume that the covariance matrix of the errors is correctly specified.\n",
       "\"\"\""
      ]
     },
     "execution_count": 45,
     "metadata": {},
     "output_type": "execute_result"
    }
   ],
   "source": [
    "# trying to predict AQI by looking at covid cases and deaths\n",
    "AQILR = sm.ols(formula=\"AQI ~ Daily_Cases + Daily_Deaths\", data=filteredMergedData).fit()\n",
    "AQILR.summary()"
   ]
  },
  {
   "cell_type": "markdown",
   "metadata": {},
   "source": [
    "This R-squared is extremely low, showing little-to-no predictability. "
   ]
  },
  {
   "cell_type": "code",
   "execution_count": 46,
   "metadata": {},
   "outputs": [
    {
     "data": {
      "text/html": [
       "<table class=\"simpletable\">\n",
       "<caption>OLS Regression Results</caption>\n",
       "<tr>\n",
       "  <th>Dep. Variable:</th>      <td>Daily_Deaths</td>   <th>  R-squared:         </th> <td>   0.033</td> \n",
       "</tr>\n",
       "<tr>\n",
       "  <th>Model:</th>                   <td>OLS</td>       <th>  Adj. R-squared:    </th> <td>   0.033</td> \n",
       "</tr>\n",
       "<tr>\n",
       "  <th>Method:</th>             <td>Least Squares</td>  <th>  F-statistic:       </th> <td>   200.1</td> \n",
       "</tr>\n",
       "<tr>\n",
       "  <th>Date:</th>             <td>Mon, 26 Apr 2021</td> <th>  Prob (F-statistic):</th> <td>1.28e-127</td>\n",
       "</tr>\n",
       "<tr>\n",
       "  <th>Time:</th>                 <td>21:16:23</td>     <th>  Log-Likelihood:    </th> <td> -71364.</td> \n",
       "</tr>\n",
       "<tr>\n",
       "  <th>No. Observations:</th>      <td> 17727</td>      <th>  AIC:               </th> <td>1.427e+05</td>\n",
       "</tr>\n",
       "<tr>\n",
       "  <th>Df Residuals:</th>          <td> 17723</td>      <th>  BIC:               </th> <td>1.428e+05</td>\n",
       "</tr>\n",
       "<tr>\n",
       "  <th>Df Model:</th>              <td>     3</td>      <th>                     </th>     <td> </td>    \n",
       "</tr>\n",
       "<tr>\n",
       "  <th>Covariance Type:</th>      <td>nonrobust</td>    <th>                     </th>     <td> </td>    \n",
       "</tr>\n",
       "</table>\n",
       "<table class=\"simpletable\">\n",
       "<tr>\n",
       "      <td></td>         <th>coef</th>     <th>std err</th>      <th>t</th>      <th>P>|t|</th>  <th>[0.025</th>    <th>0.975]</th>  \n",
       "</tr>\n",
       "<tr>\n",
       "  <th>Intercept</th> <td>    0.6108</td> <td>    0.297</td> <td>    2.059</td> <td> 0.039</td> <td>    0.029</td> <td>    1.192</td>\n",
       "</tr>\n",
       "<tr>\n",
       "  <th>AQI</th>       <td>   -0.0411</td> <td>    0.006</td> <td>   -6.764</td> <td> 0.000</td> <td>   -0.053</td> <td>   -0.029</td>\n",
       "</tr>\n",
       "<tr>\n",
       "  <th>AQI_No2</th>   <td>    0.3222</td> <td>    0.014</td> <td>   23.599</td> <td> 0.000</td> <td>    0.295</td> <td>    0.349</td>\n",
       "</tr>\n",
       "<tr>\n",
       "  <th>AQI_Ozone</th> <td>    0.0010</td> <td>    0.007</td> <td>    0.149</td> <td> 0.882</td> <td>   -0.012</td> <td>    0.015</td>\n",
       "</tr>\n",
       "</table>\n",
       "<table class=\"simpletable\">\n",
       "<tr>\n",
       "  <th>Omnibus:</th>       <td>42353.575</td> <th>  Durbin-Watson:     </th>   <td>   1.913</td>   \n",
       "</tr>\n",
       "<tr>\n",
       "  <th>Prob(Omnibus):</th>  <td> 0.000</td>   <th>  Jarque-Bera (JB):  </th> <td>589191296.897</td>\n",
       "</tr>\n",
       "<tr>\n",
       "  <th>Skew:</th>           <td>24.432</td>   <th>  Prob(JB):          </th>   <td>    0.00</td>   \n",
       "</tr>\n",
       "<tr>\n",
       "  <th>Kurtosis:</th>       <td>894.795</td>  <th>  Cond. No.          </th>   <td>    165.</td>   \n",
       "</tr>\n",
       "</table><br/><br/>Notes:<br/>[1] Standard Errors assume that the covariance matrix of the errors is correctly specified."
      ],
      "text/plain": [
       "<class 'statsmodels.iolib.summary.Summary'>\n",
       "\"\"\"\n",
       "                            OLS Regression Results                            \n",
       "==============================================================================\n",
       "Dep. Variable:           Daily_Deaths   R-squared:                       0.033\n",
       "Model:                            OLS   Adj. R-squared:                  0.033\n",
       "Method:                 Least Squares   F-statistic:                     200.1\n",
       "Date:                Mon, 26 Apr 2021   Prob (F-statistic):          1.28e-127\n",
       "Time:                        21:16:23   Log-Likelihood:                -71364.\n",
       "No. Observations:               17727   AIC:                         1.427e+05\n",
       "Df Residuals:                   17723   BIC:                         1.428e+05\n",
       "Df Model:                           3                                         \n",
       "Covariance Type:            nonrobust                                         \n",
       "==============================================================================\n",
       "                 coef    std err          t      P>|t|      [0.025      0.975]\n",
       "------------------------------------------------------------------------------\n",
       "Intercept      0.6108      0.297      2.059      0.039       0.029       1.192\n",
       "AQI           -0.0411      0.006     -6.764      0.000      -0.053      -0.029\n",
       "AQI_No2        0.3222      0.014     23.599      0.000       0.295       0.349\n",
       "AQI_Ozone      0.0010      0.007      0.149      0.882      -0.012       0.015\n",
       "==============================================================================\n",
       "Omnibus:                    42353.575   Durbin-Watson:                   1.913\n",
       "Prob(Omnibus):                  0.000   Jarque-Bera (JB):        589191296.897\n",
       "Skew:                          24.432   Prob(JB):                         0.00\n",
       "Kurtosis:                     894.795   Cond. No.                         165.\n",
       "==============================================================================\n",
       "\n",
       "Notes:\n",
       "[1] Standard Errors assume that the covariance matrix of the errors is correctly specified.\n",
       "\"\"\""
      ]
     },
     "execution_count": 46,
     "metadata": {},
     "output_type": "execute_result"
    }
   ],
   "source": [
    "# trying to predict daily deaths by looking at all AQI indicators \n",
    "AQILR = sm.ols(formula=\"Daily_Deaths ~ AQI + AQI_No2 + AQI_Ozone\", data=filteredMergedData).fit()\n",
    "AQILR.summary()"
   ]
  },
  {
   "cell_type": "markdown",
   "metadata": {},
   "source": [
    "This R-squared is extremely low, showing little-to-no predictability. "
   ]
  },
  {
   "cell_type": "markdown",
   "metadata": {},
   "source": [
    "## Datasets by Measurement\n",
    "If we only want data points with a certain AQI measure present"
   ]
  },
  {
   "cell_type": "code",
   "execution_count": 47,
   "metadata": {},
   "outputs": [
    {
     "name": "stdout",
     "output_type": "stream",
     "text": [
      "Date                          0\n",
      "State                         0\n",
      "County                        0\n",
      "Arithmetic_Mean_ppb           0\n",
      "AQI_Ozone                     0\n",
      "Arithmetic_Mean_Cleaned       0\n",
      "AQI_No2                       0\n",
      "Arithmetic_Mean            4827\n",
      "AQI                        4992\n",
      "Daily_Cases                 296\n",
      "Daily_Deaths                296\n",
      "dtype: int64\n"
     ]
    }
   ],
   "source": [
    "#No2\n",
    "\n",
    "no2Data = filteredMergedData[filteredMergedData['AQI_No2'].notnull()]\n",
    "print(no2Data.isnull().sum())\n",
    "no2Data.to_csv('No2+COVID_Data.csv')"
   ]
  },
  {
   "cell_type": "code",
   "execution_count": 48,
   "metadata": {},
   "outputs": [
    {
     "name": "stdout",
     "output_type": "stream",
     "text": [
      "Date                           0\n",
      "State                          0\n",
      "County                         0\n",
      "Arithmetic_Mean_ppb            0\n",
      "AQI_Ozone                      0\n",
      "Arithmetic_Mean_Cleaned    59912\n",
      "AQI_No2                    59912\n",
      "Arithmetic_Mean            41744\n",
      "AQI                        42241\n",
      "Daily_Cases                  650\n",
      "Daily_Deaths                 650\n",
      "dtype: int64\n"
     ]
    }
   ],
   "source": [
    "#Ozone\n",
    "\n",
    "ozoneData = filteredMergedData[filteredMergedData['AQI_Ozone'].notnull()]\n",
    "print(ozoneData.isnull().sum())\n",
    "ozoneData.to_csv('Ozone+COVID_Data.csv')"
   ]
  },
  {
   "cell_type": "code",
   "execution_count": 49,
   "metadata": {},
   "outputs": [
    {
     "name": "stdout",
     "output_type": "stream",
     "text": [
      "Date                           0\n",
      "State                          0\n",
      "County                         0\n",
      "Arithmetic_Mean_ppb            0\n",
      "AQI_Ozone                      0\n",
      "Arithmetic_Mean_Cleaned    22663\n",
      "AQI_No2                    22663\n",
      "Arithmetic_Mean                0\n",
      "AQI                            0\n",
      "Daily_Cases                  386\n",
      "Daily_Deaths                 386\n",
      "dtype: int64\n"
     ]
    }
   ],
   "source": [
    "#AQI\n",
    "\n",
    "AQIData = filteredMergedData[filteredMergedData['AQI'].notnull()]\n",
    "print(AQIData.isnull().sum())\n",
    "AQIData.to_csv('AQI+COVID_Data.csv')"
   ]
  },
  {
   "cell_type": "code",
   "execution_count": null,
   "metadata": {},
   "outputs": [],
   "source": []
  },
  {
   "cell_type": "code",
   "execution_count": null,
   "metadata": {},
   "outputs": [],
   "source": []
  },
  {
   "cell_type": "code",
   "execution_count": null,
   "metadata": {},
   "outputs": [],
   "source": []
  }
 ],
 "metadata": {
  "kernelspec": {
   "display_name": "Python 3",
   "language": "python",
   "name": "python3"
  },
  "language_info": {
   "codemirror_mode": {
    "name": "ipython",
    "version": 3
   },
   "file_extension": ".py",
   "mimetype": "text/x-python",
   "name": "python",
   "nbconvert_exporter": "python",
   "pygments_lexer": "ipython3",
   "version": "3.8.5"
  }
 },
 "nbformat": 4,
 "nbformat_minor": 4
}
