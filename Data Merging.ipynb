{
 "cells": [
  {
   "cell_type": "markdown",
   "metadata": {},
   "source": [
    "# Data Merging "
   ]
  },
  {
   "cell_type": "markdown",
   "metadata": {},
   "source": [
    "## Reading in Datasets"
   ]
  },
  {
   "cell_type": "markdown",
   "metadata": {},
   "source": [
    "* Read the datasets in and add a merge column, which is comprised of date, county, and state. Headers printed to ensure correct loading and modification of data. Columns were renamed in excel to a python-friendly name (i.e. _ instead of spaces) "
   ]
  },
  {
   "cell_type": "code",
   "execution_count": 1,
   "metadata": {},
   "outputs": [],
   "source": [
    "import pandas as pd\n",
    "import csv"
   ]
  },
  {
   "cell_type": "code",
   "execution_count": 2,
   "metadata": {},
   "outputs": [],
   "source": [
    "\n",
    "AQData = pd.read_csv('AQData.csv')\n",
    "AQData = AQData.drop(['Unnamed: 0'], axis=1)\n",
    "covidData = pd.read_csv('cleanedCovidData.csv')\n",
    "covidData = covidData.drop(['Unnamed: 0'], axis=1)"
   ]
  },
  {
   "cell_type": "code",
   "execution_count": 3,
   "metadata": {},
   "outputs": [
    {
     "data": {
      "text/html": [
       "<div>\n",
       "<style scoped>\n",
       "    .dataframe tbody tr th:only-of-type {\n",
       "        vertical-align: middle;\n",
       "    }\n",
       "\n",
       "    .dataframe tbody tr th {\n",
       "        vertical-align: top;\n",
       "    }\n",
       "\n",
       "    .dataframe thead th {\n",
       "        text-align: right;\n",
       "    }\n",
       "</style>\n",
       "<table border=\"1\" class=\"dataframe\">\n",
       "  <thead>\n",
       "    <tr style=\"text-align: right;\">\n",
       "      <th></th>\n",
       "      <th>Date_Local</th>\n",
       "      <th>State_Name</th>\n",
       "      <th>County_Name</th>\n",
       "      <th>Arithmetic_Mean_ppb</th>\n",
       "      <th>AQI_ozone</th>\n",
       "      <th>Arithmetic_Mean_cleaned</th>\n",
       "      <th>AQI_no2</th>\n",
       "      <th>Arithmetic_Mean</th>\n",
       "      <th>AQI</th>\n",
       "      <th>uniqueID</th>\n",
       "    </tr>\n",
       "  </thead>\n",
       "  <tbody>\n",
       "    <tr>\n",
       "      <th>0</th>\n",
       "      <td>5/1/2020</td>\n",
       "      <td>Alabama</td>\n",
       "      <td>Baldwin</td>\n",
       "      <td>35.000000</td>\n",
       "      <td>50.000000</td>\n",
       "      <td>NaN</td>\n",
       "      <td>NaN</td>\n",
       "      <td>NaN</td>\n",
       "      <td>NaN</td>\n",
       "      <td>Baldwin, Alabama</td>\n",
       "    </tr>\n",
       "    <tr>\n",
       "      <th>1</th>\n",
       "      <td>5/1/2020</td>\n",
       "      <td>Alabama</td>\n",
       "      <td>DeKalb</td>\n",
       "      <td>47.000000</td>\n",
       "      <td>58.000000</td>\n",
       "      <td>NaN</td>\n",
       "      <td>NaN</td>\n",
       "      <td>NaN</td>\n",
       "      <td>NaN</td>\n",
       "      <td>DeKalb, Alabama</td>\n",
       "    </tr>\n",
       "    <tr>\n",
       "      <th>2</th>\n",
       "      <td>5/1/2020</td>\n",
       "      <td>Alabama</td>\n",
       "      <td>Elmore</td>\n",
       "      <td>28.000000</td>\n",
       "      <td>44.000000</td>\n",
       "      <td>NaN</td>\n",
       "      <td>NaN</td>\n",
       "      <td>NaN</td>\n",
       "      <td>NaN</td>\n",
       "      <td>Elmore, Alabama</td>\n",
       "    </tr>\n",
       "    <tr>\n",
       "      <th>3</th>\n",
       "      <td>5/1/2020</td>\n",
       "      <td>Alabama</td>\n",
       "      <td>Etowah</td>\n",
       "      <td>34.000000</td>\n",
       "      <td>51.000000</td>\n",
       "      <td>NaN</td>\n",
       "      <td>NaN</td>\n",
       "      <td>NaN</td>\n",
       "      <td>NaN</td>\n",
       "      <td>Etowah, Alabama</td>\n",
       "    </tr>\n",
       "    <tr>\n",
       "      <th>4</th>\n",
       "      <td>5/1/2020</td>\n",
       "      <td>Alabama</td>\n",
       "      <td>Jefferson</td>\n",
       "      <td>30.333333</td>\n",
       "      <td>47.666667</td>\n",
       "      <td>15.311553</td>\n",
       "      <td>32.0</td>\n",
       "      <td>11.0125</td>\n",
       "      <td>46.0</td>\n",
       "      <td>Jefferson, Alabama</td>\n",
       "    </tr>\n",
       "  </tbody>\n",
       "</table>\n",
       "</div>"
      ],
      "text/plain": [
       "  Date_Local State_Name County_Name  Arithmetic_Mean_ppb  AQI_ozone  \\\n",
       "0   5/1/2020    Alabama     Baldwin            35.000000  50.000000   \n",
       "1   5/1/2020    Alabama      DeKalb            47.000000  58.000000   \n",
       "2   5/1/2020    Alabama      Elmore            28.000000  44.000000   \n",
       "3   5/1/2020    Alabama      Etowah            34.000000  51.000000   \n",
       "4   5/1/2020    Alabama   Jefferson            30.333333  47.666667   \n",
       "\n",
       "   Arithmetic_Mean_cleaned  AQI_no2  Arithmetic_Mean   AQI            uniqueID  \n",
       "0                      NaN      NaN              NaN   NaN    Baldwin, Alabama  \n",
       "1                      NaN      NaN              NaN   NaN     DeKalb, Alabama  \n",
       "2                      NaN      NaN              NaN   NaN     Elmore, Alabama  \n",
       "3                      NaN      NaN              NaN   NaN     Etowah, Alabama  \n",
       "4                15.311553     32.0          11.0125  46.0  Jefferson, Alabama  "
      ]
     },
     "execution_count": 3,
     "metadata": {},
     "output_type": "execute_result"
    }
   ],
   "source": [
    "AQData.head()"
   ]
  },
  {
   "cell_type": "code",
   "execution_count": 4,
   "metadata": {},
   "outputs": [
    {
     "data": {
      "text/html": [
       "<div>\n",
       "<style scoped>\n",
       "    .dataframe tbody tr th:only-of-type {\n",
       "        vertical-align: middle;\n",
       "    }\n",
       "\n",
       "    .dataframe tbody tr th {\n",
       "        vertical-align: top;\n",
       "    }\n",
       "\n",
       "    .dataframe thead th {\n",
       "        text-align: right;\n",
       "    }\n",
       "</style>\n",
       "<table border=\"1\" class=\"dataframe\">\n",
       "  <thead>\n",
       "    <tr style=\"text-align: right;\">\n",
       "      <th></th>\n",
       "      <th>date</th>\n",
       "      <th>county</th>\n",
       "      <th>state</th>\n",
       "      <th>fips</th>\n",
       "      <th>cases</th>\n",
       "      <th>deaths</th>\n",
       "      <th>uniqueId</th>\n",
       "      <th>daily cases</th>\n",
       "      <th>daily deaths</th>\n",
       "    </tr>\n",
       "  </thead>\n",
       "  <tbody>\n",
       "    <tr>\n",
       "      <th>0</th>\n",
       "      <td>5/1/2020</td>\n",
       "      <td>Snohomish</td>\n",
       "      <td>Washington</td>\n",
       "      <td>53061</td>\n",
       "      <td>2466</td>\n",
       "      <td>108</td>\n",
       "      <td>Snohomish, Washington</td>\n",
       "      <td>20</td>\n",
       "      <td>0</td>\n",
       "    </tr>\n",
       "    <tr>\n",
       "      <th>1</th>\n",
       "      <td>5/2/2020</td>\n",
       "      <td>Snohomish</td>\n",
       "      <td>Washington</td>\n",
       "      <td>53061</td>\n",
       "      <td>2492</td>\n",
       "      <td>108</td>\n",
       "      <td>Snohomish, Washington</td>\n",
       "      <td>26</td>\n",
       "      <td>0</td>\n",
       "    </tr>\n",
       "    <tr>\n",
       "      <th>2</th>\n",
       "      <td>5/3/2020</td>\n",
       "      <td>Snohomish</td>\n",
       "      <td>Washington</td>\n",
       "      <td>53061</td>\n",
       "      <td>2737</td>\n",
       "      <td>108</td>\n",
       "      <td>Snohomish, Washington</td>\n",
       "      <td>245</td>\n",
       "      <td>0</td>\n",
       "    </tr>\n",
       "    <tr>\n",
       "      <th>3</th>\n",
       "      <td>5/4/2020</td>\n",
       "      <td>Snohomish</td>\n",
       "      <td>Washington</td>\n",
       "      <td>53061</td>\n",
       "      <td>2784</td>\n",
       "      <td>110</td>\n",
       "      <td>Snohomish, Washington</td>\n",
       "      <td>47</td>\n",
       "      <td>2</td>\n",
       "    </tr>\n",
       "    <tr>\n",
       "      <th>4</th>\n",
       "      <td>5/5/2020</td>\n",
       "      <td>Snohomish</td>\n",
       "      <td>Washington</td>\n",
       "      <td>53061</td>\n",
       "      <td>2807</td>\n",
       "      <td>110</td>\n",
       "      <td>Snohomish, Washington</td>\n",
       "      <td>23</td>\n",
       "      <td>0</td>\n",
       "    </tr>\n",
       "  </tbody>\n",
       "</table>\n",
       "</div>"
      ],
      "text/plain": [
       "       date     county       state   fips  cases  deaths  \\\n",
       "0  5/1/2020  Snohomish  Washington  53061   2466     108   \n",
       "1  5/2/2020  Snohomish  Washington  53061   2492     108   \n",
       "2  5/3/2020  Snohomish  Washington  53061   2737     108   \n",
       "3  5/4/2020  Snohomish  Washington  53061   2784     110   \n",
       "4  5/5/2020  Snohomish  Washington  53061   2807     110   \n",
       "\n",
       "                uniqueId  daily cases  daily deaths  \n",
       "0  Snohomish, Washington           20             0  \n",
       "1  Snohomish, Washington           26             0  \n",
       "2  Snohomish, Washington          245             0  \n",
       "3  Snohomish, Washington           47             2  \n",
       "4  Snohomish, Washington           23             0  "
      ]
     },
     "execution_count": 4,
     "metadata": {},
     "output_type": "execute_result"
    }
   ],
   "source": [
    "covidData.head()"
   ]
  },
  {
   "cell_type": "code",
   "execution_count": 5,
   "metadata": {},
   "outputs": [],
   "source": [
    "AQData['mergeID'] = AQData['County_Name'] + ', ' + AQData['State_Name'] + ', ' + AQData['Date_Local']\n",
    "covidData['mergeID'] = covidData['county'] + ', ' + covidData['state'] + ', ' + covidData['date']"
   ]
  },
  {
   "cell_type": "code",
   "execution_count": 6,
   "metadata": {},
   "outputs": [
    {
     "data": {
      "text/html": [
       "<div>\n",
       "<style scoped>\n",
       "    .dataframe tbody tr th:only-of-type {\n",
       "        vertical-align: middle;\n",
       "    }\n",
       "\n",
       "    .dataframe tbody tr th {\n",
       "        vertical-align: top;\n",
       "    }\n",
       "\n",
       "    .dataframe thead th {\n",
       "        text-align: right;\n",
       "    }\n",
       "</style>\n",
       "<table border=\"1\" class=\"dataframe\">\n",
       "  <thead>\n",
       "    <tr style=\"text-align: right;\">\n",
       "      <th></th>\n",
       "      <th>Date_Local</th>\n",
       "      <th>State_Name</th>\n",
       "      <th>County_Name</th>\n",
       "      <th>Arithmetic_Mean_ppb</th>\n",
       "      <th>AQI_ozone</th>\n",
       "      <th>Arithmetic_Mean_cleaned</th>\n",
       "      <th>AQI_no2</th>\n",
       "      <th>Arithmetic_Mean</th>\n",
       "      <th>AQI</th>\n",
       "      <th>uniqueID</th>\n",
       "      <th>mergeID</th>\n",
       "    </tr>\n",
       "  </thead>\n",
       "  <tbody>\n",
       "    <tr>\n",
       "      <th>0</th>\n",
       "      <td>5/1/2020</td>\n",
       "      <td>Alabama</td>\n",
       "      <td>Baldwin</td>\n",
       "      <td>35.000000</td>\n",
       "      <td>50.000000</td>\n",
       "      <td>NaN</td>\n",
       "      <td>NaN</td>\n",
       "      <td>NaN</td>\n",
       "      <td>NaN</td>\n",
       "      <td>Baldwin, Alabama</td>\n",
       "      <td>Baldwin, Alabama, 5/1/2020</td>\n",
       "    </tr>\n",
       "    <tr>\n",
       "      <th>1</th>\n",
       "      <td>5/1/2020</td>\n",
       "      <td>Alabama</td>\n",
       "      <td>DeKalb</td>\n",
       "      <td>47.000000</td>\n",
       "      <td>58.000000</td>\n",
       "      <td>NaN</td>\n",
       "      <td>NaN</td>\n",
       "      <td>NaN</td>\n",
       "      <td>NaN</td>\n",
       "      <td>DeKalb, Alabama</td>\n",
       "      <td>DeKalb, Alabama, 5/1/2020</td>\n",
       "    </tr>\n",
       "    <tr>\n",
       "      <th>2</th>\n",
       "      <td>5/1/2020</td>\n",
       "      <td>Alabama</td>\n",
       "      <td>Elmore</td>\n",
       "      <td>28.000000</td>\n",
       "      <td>44.000000</td>\n",
       "      <td>NaN</td>\n",
       "      <td>NaN</td>\n",
       "      <td>NaN</td>\n",
       "      <td>NaN</td>\n",
       "      <td>Elmore, Alabama</td>\n",
       "      <td>Elmore, Alabama, 5/1/2020</td>\n",
       "    </tr>\n",
       "    <tr>\n",
       "      <th>3</th>\n",
       "      <td>5/1/2020</td>\n",
       "      <td>Alabama</td>\n",
       "      <td>Etowah</td>\n",
       "      <td>34.000000</td>\n",
       "      <td>51.000000</td>\n",
       "      <td>NaN</td>\n",
       "      <td>NaN</td>\n",
       "      <td>NaN</td>\n",
       "      <td>NaN</td>\n",
       "      <td>Etowah, Alabama</td>\n",
       "      <td>Etowah, Alabama, 5/1/2020</td>\n",
       "    </tr>\n",
       "    <tr>\n",
       "      <th>4</th>\n",
       "      <td>5/1/2020</td>\n",
       "      <td>Alabama</td>\n",
       "      <td>Jefferson</td>\n",
       "      <td>30.333333</td>\n",
       "      <td>47.666667</td>\n",
       "      <td>15.311553</td>\n",
       "      <td>32.0</td>\n",
       "      <td>11.0125</td>\n",
       "      <td>46.0</td>\n",
       "      <td>Jefferson, Alabama</td>\n",
       "      <td>Jefferson, Alabama, 5/1/2020</td>\n",
       "    </tr>\n",
       "  </tbody>\n",
       "</table>\n",
       "</div>"
      ],
      "text/plain": [
       "  Date_Local State_Name County_Name  Arithmetic_Mean_ppb  AQI_ozone  \\\n",
       "0   5/1/2020    Alabama     Baldwin            35.000000  50.000000   \n",
       "1   5/1/2020    Alabama      DeKalb            47.000000  58.000000   \n",
       "2   5/1/2020    Alabama      Elmore            28.000000  44.000000   \n",
       "3   5/1/2020    Alabama      Etowah            34.000000  51.000000   \n",
       "4   5/1/2020    Alabama   Jefferson            30.333333  47.666667   \n",
       "\n",
       "   Arithmetic_Mean_cleaned  AQI_no2  Arithmetic_Mean   AQI  \\\n",
       "0                      NaN      NaN              NaN   NaN   \n",
       "1                      NaN      NaN              NaN   NaN   \n",
       "2                      NaN      NaN              NaN   NaN   \n",
       "3                      NaN      NaN              NaN   NaN   \n",
       "4                15.311553     32.0          11.0125  46.0   \n",
       "\n",
       "             uniqueID                       mergeID  \n",
       "0    Baldwin, Alabama    Baldwin, Alabama, 5/1/2020  \n",
       "1     DeKalb, Alabama     DeKalb, Alabama, 5/1/2020  \n",
       "2     Elmore, Alabama     Elmore, Alabama, 5/1/2020  \n",
       "3     Etowah, Alabama     Etowah, Alabama, 5/1/2020  \n",
       "4  Jefferson, Alabama  Jefferson, Alabama, 5/1/2020  "
      ]
     },
     "execution_count": 6,
     "metadata": {},
     "output_type": "execute_result"
    }
   ],
   "source": [
    "AQData.head()"
   ]
  },
  {
   "cell_type": "code",
   "execution_count": 7,
   "metadata": {},
   "outputs": [
    {
     "data": {
      "text/html": [
       "<div>\n",
       "<style scoped>\n",
       "    .dataframe tbody tr th:only-of-type {\n",
       "        vertical-align: middle;\n",
       "    }\n",
       "\n",
       "    .dataframe tbody tr th {\n",
       "        vertical-align: top;\n",
       "    }\n",
       "\n",
       "    .dataframe thead th {\n",
       "        text-align: right;\n",
       "    }\n",
       "</style>\n",
       "<table border=\"1\" class=\"dataframe\">\n",
       "  <thead>\n",
       "    <tr style=\"text-align: right;\">\n",
       "      <th></th>\n",
       "      <th>date</th>\n",
       "      <th>county</th>\n",
       "      <th>state</th>\n",
       "      <th>fips</th>\n",
       "      <th>cases</th>\n",
       "      <th>deaths</th>\n",
       "      <th>uniqueId</th>\n",
       "      <th>daily cases</th>\n",
       "      <th>daily deaths</th>\n",
       "      <th>mergeID</th>\n",
       "    </tr>\n",
       "  </thead>\n",
       "  <tbody>\n",
       "    <tr>\n",
       "      <th>0</th>\n",
       "      <td>5/1/2020</td>\n",
       "      <td>Snohomish</td>\n",
       "      <td>Washington</td>\n",
       "      <td>53061</td>\n",
       "      <td>2466</td>\n",
       "      <td>108</td>\n",
       "      <td>Snohomish, Washington</td>\n",
       "      <td>20</td>\n",
       "      <td>0</td>\n",
       "      <td>Snohomish, Washington, 5/1/2020</td>\n",
       "    </tr>\n",
       "    <tr>\n",
       "      <th>1</th>\n",
       "      <td>5/2/2020</td>\n",
       "      <td>Snohomish</td>\n",
       "      <td>Washington</td>\n",
       "      <td>53061</td>\n",
       "      <td>2492</td>\n",
       "      <td>108</td>\n",
       "      <td>Snohomish, Washington</td>\n",
       "      <td>26</td>\n",
       "      <td>0</td>\n",
       "      <td>Snohomish, Washington, 5/2/2020</td>\n",
       "    </tr>\n",
       "    <tr>\n",
       "      <th>2</th>\n",
       "      <td>5/3/2020</td>\n",
       "      <td>Snohomish</td>\n",
       "      <td>Washington</td>\n",
       "      <td>53061</td>\n",
       "      <td>2737</td>\n",
       "      <td>108</td>\n",
       "      <td>Snohomish, Washington</td>\n",
       "      <td>245</td>\n",
       "      <td>0</td>\n",
       "      <td>Snohomish, Washington, 5/3/2020</td>\n",
       "    </tr>\n",
       "    <tr>\n",
       "      <th>3</th>\n",
       "      <td>5/4/2020</td>\n",
       "      <td>Snohomish</td>\n",
       "      <td>Washington</td>\n",
       "      <td>53061</td>\n",
       "      <td>2784</td>\n",
       "      <td>110</td>\n",
       "      <td>Snohomish, Washington</td>\n",
       "      <td>47</td>\n",
       "      <td>2</td>\n",
       "      <td>Snohomish, Washington, 5/4/2020</td>\n",
       "    </tr>\n",
       "    <tr>\n",
       "      <th>4</th>\n",
       "      <td>5/5/2020</td>\n",
       "      <td>Snohomish</td>\n",
       "      <td>Washington</td>\n",
       "      <td>53061</td>\n",
       "      <td>2807</td>\n",
       "      <td>110</td>\n",
       "      <td>Snohomish, Washington</td>\n",
       "      <td>23</td>\n",
       "      <td>0</td>\n",
       "      <td>Snohomish, Washington, 5/5/2020</td>\n",
       "    </tr>\n",
       "  </tbody>\n",
       "</table>\n",
       "</div>"
      ],
      "text/plain": [
       "       date     county       state   fips  cases  deaths  \\\n",
       "0  5/1/2020  Snohomish  Washington  53061   2466     108   \n",
       "1  5/2/2020  Snohomish  Washington  53061   2492     108   \n",
       "2  5/3/2020  Snohomish  Washington  53061   2737     108   \n",
       "3  5/4/2020  Snohomish  Washington  53061   2784     110   \n",
       "4  5/5/2020  Snohomish  Washington  53061   2807     110   \n",
       "\n",
       "                uniqueId  daily cases  daily deaths  \\\n",
       "0  Snohomish, Washington           20             0   \n",
       "1  Snohomish, Washington           26             0   \n",
       "2  Snohomish, Washington          245             0   \n",
       "3  Snohomish, Washington           47             2   \n",
       "4  Snohomish, Washington           23             0   \n",
       "\n",
       "                           mergeID  \n",
       "0  Snohomish, Washington, 5/1/2020  \n",
       "1  Snohomish, Washington, 5/2/2020  \n",
       "2  Snohomish, Washington, 5/3/2020  \n",
       "3  Snohomish, Washington, 5/4/2020  \n",
       "4  Snohomish, Washington, 5/5/2020  "
      ]
     },
     "execution_count": 7,
     "metadata": {},
     "output_type": "execute_result"
    }
   ],
   "source": [
    "covidData.head()"
   ]
  },
  {
   "cell_type": "markdown",
   "metadata": {},
   "source": [
    "## Comparing Counties Present in Datasets "
   ]
  },
  {
   "cell_type": "markdown",
   "metadata": {},
   "source": [
    "* This below code tells us which counties are present in the AQData but not in the covidData (because covidData is the more comprehensive dataset). We convert the counties in both dataframes to a set, that may be subtracted easily. "
   ]
  },
  {
   "cell_type": "code",
   "execution_count": 8,
   "metadata": {},
   "outputs": [],
   "source": [
    "covidMergeSet = covidData['county'].to_list()\n",
    "AQMergeSet = AQData['County_Name'].to_list()"
   ]
  },
  {
   "cell_type": "code",
   "execution_count": 9,
   "metadata": {},
   "outputs": [],
   "source": [
    "AQMergeSet = set(AQMergeSet)\n",
    "covidMergeSet = set(covidMergeSet)"
   ]
  },
  {
   "cell_type": "code",
   "execution_count": 10,
   "metadata": {},
   "outputs": [],
   "source": [
    "differenceSet = AQMergeSet - covidMergeSet"
   ]
  },
  {
   "cell_type": "code",
   "execution_count": 11,
   "metadata": {},
   "outputs": [
    {
     "name": "stdout",
     "output_type": "stream",
     "text": [
      "List of counties in AQData but not in covidData: \n",
      "\n",
      "\n",
      " {'Hampton City', 'Saint Charles', 'Suffolk City', 'Sainte Genevieve', 'Saint Clair', 'Saint Louis', 'Bronx', 'Queens', 'Fairbanks North Star ', 'Baltimore (City)', 'New York', 'Denali ', 'St. Louis City'}\n"
     ]
    }
   ],
   "source": [
    "print('List of counties in AQData but not in covidData: \\n\\n\\n', differenceSet)"
   ]
  },
  {
   "cell_type": "markdown",
   "metadata": {},
   "source": [
    "## Cleaning up Discrepant Values"
   ]
  },
  {
   "cell_type": "code",
   "execution_count": 12,
   "metadata": {},
   "outputs": [],
   "source": [
    "# Sainte Genevieve (AQData county) is listed as Ste. Genevieve in covidData, this code changes that. The code changes\n",
    "#both the county name and uniqueID columns\n",
    "\n",
    "covidData.loc[covidData.county == \"Ste. Genevieve\", \"uniqueID\"] = \"Sainte Genevieve, Missouri\"\n",
    "covidData.loc[covidData.county == \"Ste. Genevieve\", \"county\"] = \"Sainte Genevieve\""
   ]
  },
  {
   "cell_type": "code",
   "execution_count": 13,
   "metadata": {},
   "outputs": [],
   "source": [
    "#Hampton City (AQData county) is a city in Washington county, New York. There is no data for Washington, New York. \n",
    "#We will change this county name to Washington, New York.  \n",
    "\n",
    "AQData.loc[AQData.County_Name == 'Hampton City', 'uniqueID'] = 'Washington, New York'\n",
    "AQData.loc[AQData.County_Name == 'Hampton City', 'County_Name'] = 'Washington'"
   ]
  },
  {
   "cell_type": "code",
   "execution_count": 14,
   "metadata": {},
   "outputs": [],
   "source": [
    "### this is to ignore an error we get on the next line of code\n",
    "pd.options.mode.chained_assignment = None  # default='warn'"
   ]
  },
  {
   "cell_type": "code",
   "execution_count": 15,
   "metadata": {},
   "outputs": [],
   "source": [
    "# New York has several burrows listed (AQData county), but only New York City, New York is listed on the covidData. \n",
    "# We will clone New York (have the same data four times), and change the county names to Bronx, Queens,\n",
    "#Richmond (equivalent to Staten Island), and New York.\n",
    "#This would allow it to merge with the AQData. \n",
    "\n",
    "bronxData = covidData[covidData['county'] == 'New York City']\n",
    "queensData = covidData[covidData['county'] == 'New York City']\n",
    "richmondNYData = covidData[covidData['county'] == 'New York City']\n",
    "\n",
    "bronxData['uniqueID'] = 'Bronx, New York'\n",
    "bronxData['county'] = 'Bronx'\n",
    "\n",
    "queensData['uniqueID'] = 'Queens, New York'\n",
    "queensData['county'] = 'Queens'\n",
    "\n",
    "richmondNYData['uniqueID'] = 'Richmond, New York'\n",
    "richmondNYData['county'] = 'Richmond'\n",
    "\n",
    "covidData.loc[covidData.county == 'New York City', 'county'] = 'New York'\n",
    "\n",
    "appendList = [covidData, bronxData, queensData, richmondNYData]\n",
    "covidData = pd.concat(appendList)"
   ]
  },
  {
   "cell_type": "code",
   "execution_count": 16,
   "metadata": {},
   "outputs": [],
   "source": [
    "# Baltimore City (AQData county) is a city within baltimore county, which we already have data for. For this reason,\n",
    "#data from baltimore city will be dropped \n",
    "AQData = AQData[AQData['County_Name'] != 'Baltimore (City)']"
   ]
  },
  {
   "cell_type": "code",
   "execution_count": 17,
   "metadata": {},
   "outputs": [],
   "source": [
    "#Fairbanks North Star Borough  (covidData) was listed as Fairbanks North Star in AQdata. We will change AQData to match\n",
    "AQData.loc[AQData.County_Name == 'Fairbanks North Star ', 'uniqueID'] = 'Fairbanks North Star Borough, Alaska'\n",
    "AQData.loc[AQData.County_Name == 'Fairbanks North Star ', 'County_Name'] = 'Fairbanks North Star Borough'\n"
   ]
  },
  {
   "cell_type": "code",
   "execution_count": 18,
   "metadata": {},
   "outputs": [],
   "source": [
    "#Changes St. Charles (covidData) to Saint Charles to match AQData\n",
    "covidData.loc[covidData.county == \"St. Charles\", \"uniqueID\"] = \"Saint Charles, Missouri\"\n",
    "covidData.loc[covidData.county == \"St. Charles\", \"county\"] = \"Saint Charles\""
   ]
  },
  {
   "cell_type": "code",
   "execution_count": 19,
   "metadata": {},
   "outputs": [],
   "source": [
    "# In covidData, St. Louis needs to be 'Saint Louis'. There is also duplicated\n",
    "#regions here, as St. Louis City and St. Louis County are the same area, so we will drop St Louis City from AQdata. \n",
    "\n",
    "covidData.loc[covidData.county == \"St. Louis\", \"uniqueID\"] = \"Saint Louis, Missouri\"\n",
    "covidData.loc[covidData.county == \"St. Louis\", \"county\"] = \"Saint Louis\"\n",
    "AQData = AQData[AQData['County_Name'] != 'St. Louis City']"
   ]
  },
  {
   "cell_type": "code",
   "execution_count": 20,
   "metadata": {},
   "outputs": [],
   "source": [
    "# Suffolk city (covidData) changed to Suffolk City to match with AQData\n",
    "covidData.loc[(covidData['county'] == \"Suffolk city\"), \"uniqueID\"] = \"Suffolk City, Virginia\"\n",
    "covidData.loc[(covidData['county'] == \"Suffolk city\"), \"county\"] = \"Suffolk City\""
   ]
  },
  {
   "cell_type": "code",
   "execution_count": 21,
   "metadata": {},
   "outputs": [],
   "source": [
    "# St. Clair (covidData) changed to Saint Claire to match with AQData\n",
    "covidData.loc[(covidData['county'] == 'St. Clair') & (covidData['state'] == 'Illinois'), \"uniqueID\"] = \"Saint Clair, Illinois\"\n",
    "covidData.loc[(covidData['county'] == 'St. Clair') & (covidData['state'] == 'Illinois'), \"county\"] = \"Saint Clair\""
   ]
  },
  {
   "cell_type": "code",
   "execution_count": 22,
   "metadata": {},
   "outputs": [],
   "source": [
    "# Denali Borough changed to Denali to match with AQData\n",
    "covidData.loc[covidData.county == \"Denali Borough\", \"uniqueID\"] = \"Denali, Alaska\"\n",
    "covidData.loc[covidData.county == \"Denali Borough\", \"county\"] = \"Denali \""
   ]
  },
  {
   "cell_type": "code",
   "execution_count": 23,
   "metadata": {},
   "outputs": [],
   "source": [
    "# Fairbanks North Star Borough changed to Fairbanks North Star to match with AQData\n",
    "covidData.loc[covidData.county == \"Fairbanks North Star Borough\", \"uniqueID\"] = \"Fairbanks North Star, Alaska\"\n",
    "covidData.loc[covidData.county == \"Fairbanks North Star Borough\", \"county\"] = \"Fairbanks North Star \""
   ]
  },
  {
   "cell_type": "code",
   "execution_count": 24,
   "metadata": {},
   "outputs": [],
   "source": [
    "# Charles City (covidData) changed to Charles to match with AQData\n",
    "covidData.loc[covidData.county == \"Charles City\", \"uniqueID\"] = \"Charles, Virginia\"\n",
    "covidData.loc[covidData.county == \"Charles City\", \"county\"] = \"Charles\""
   ]
  },
  {
   "cell_type": "code",
   "execution_count": 25,
   "metadata": {},
   "outputs": [
    {
     "name": "stdout",
     "output_type": "stream",
     "text": [
      "List of counties in AQData but not in covidData: \n",
      "\n",
      "\n",
      " {'Fairbanks North Star Borough'}\n"
     ]
    }
   ],
   "source": [
    "### checking success of cleaning\n",
    "covidMergeSet = covidData['county'].to_list()\n",
    "AQMergeSet = AQData['County_Name'].to_list()\n",
    "AQMergeSet = set(AQMergeSet)\n",
    "covidMergeSet = set(covidMergeSet)\n",
    "differenceSet = AQMergeSet - covidMergeSet\n",
    "print('List of counties in AQData but not in covidData: \\n\\n\\n', differenceSet)"
   ]
  },
  {
   "cell_type": "markdown",
   "metadata": {},
   "source": [
    "* This shows us that all of our counties in the AQdata can also be found in the covidData dataset. This means our merge should be successful. "
   ]
  },
  {
   "cell_type": "markdown",
   "metadata": {},
   "source": [
    "## Comparing mergeIDs Present in Datasets"
   ]
  },
  {
   "cell_type": "code",
   "execution_count": 26,
   "metadata": {},
   "outputs": [
    {
     "name": "stdout",
     "output_type": "stream",
     "text": [
      "List of mergeIDs in AQData but not in covidData: \n",
      "\n",
      "\n",
      " {'Custer, South Dakota, 5/20/2020', 'Hampton City, Virginia, 6/13/2020', 'Custer, South Dakota, 5/13/2020', 'Custer, South Dakota, 5/30/2020', 'Rosebud, Montana, 5/13/2020', 'Hampton City, Virginia, 6/21/2020', 'Avery, North Carolina, 5/2/2020', 'Custer, South Dakota, 5/16/2020', 'Butte, Idaho, 5/17/2020', 'Butte, Idaho, 8/8/2020', 'Butte, Idaho, 6/3/2020', 'Rosebud, Montana, 5/9/2020', 'Hampton City, Virginia, 6/4/2020', 'Phillips, Montana, 6/15/2020', 'Taylor, Wisconsin, 5/15/2020', 'Phillips, Montana, 5/8/2020', 'Denali , Alaska, 5/29/2020', 'Fergus, Montana, 5/17/2020', 'Powder River, Montana, 6/8/2020', 'Bell, Kentucky, 5/14/2020', 'Hampton City, Virginia, 6/22/2020', 'Fergus, Montana, 5/8/2020', 'Phillips, Montana, 5/6/2020', 'Phillips, Montana, 5/14/2020', 'Butte, Idaho, 5/21/2020', 'Butte, Idaho, 5/19/2020', 'Bell, Kentucky, 5/1/2020', 'Butte, Idaho, 5/30/2020', 'Phillips, Montana, 5/21/2020', 'Billings, North Dakota, 6/19/2020', 'Custer, South Dakota, 5/27/2020', 'Taylor, Wisconsin, 5/11/2020', 'Butte, Idaho, 6/12/2020', 'Phillips, Montana, 6/9/2020', 'Powder River, Montana, 5/22/2020', 'Billings, North Dakota, 5/20/2020', 'Palo Alto, Iowa, 5/6/2020', 'Jackson, South Dakota, 5/18/2020', 'Denali , Alaska, 5/13/2020', 'Powder River, Montana, 5/21/2020', 'Taylor, Wisconsin, 5/19/2020', 'Phillips, Montana, 6/8/2020', 'Fergus, Montana, 5/5/2020', 'Trego, Kansas, 5/3/2020', 'Monroe, Missouri, 5/9/2020', 'Avery, North Carolina, 5/4/2020', 'Fergus, Montana, 5/27/2020', 'Butte, Idaho, 6/5/2020', 'Phillips, Montana, 7/25/2020', 'Avery, North Carolina, 5/9/2020', 'Denali , Alaska, 6/3/2020', 'Denali , Alaska, 5/28/2020', 'Butte, Idaho, 8/10/2020', 'Phillips, Montana, 7/19/2020', 'Billings, North Dakota, 6/9/2020', 'Custer, South Dakota, 6/1/2020', 'Powder River, Montana, 5/11/2020', 'Hampton City, Virginia, 5/29/2020', 'Phillips, Montana, 5/7/2020', 'Jackson, South Dakota, 5/16/2020', 'Bell, Kentucky, 5/17/2020', 'Jackson, South Dakota, 5/14/2020', 'Billings, North Dakota, 5/24/2020', 'Phillips, Montana, 5/10/2020', 'Taylor, Wisconsin, 5/9/2020', 'Butte, Idaho, 6/17/2020', 'Denali , Alaska, 5/26/2020', 'Fergus, Montana, 6/9/2020', 'Bell, Kentucky, 5/10/2020', 'Hampton City, Virginia, 6/1/2020', 'Denali , Alaska, 6/5/2020', 'Fergus, Montana, 6/14/2020', 'Powder River, Montana, 7/6/2020', 'Monroe, Missouri, 5/13/2020', 'Powder River, Montana, 7/14/2020', 'Weston, Wyoming, 5/24/2020', 'Powder River, Montana, 5/13/2020', 'Palo Alto, Iowa, 5/7/2020', 'Powder River, Montana, 7/22/2020', 'Denali , Alaska, 5/5/2020', 'Powder River, Montana, 5/29/2020', 'Phillips, Montana, 5/3/2020', 'Hampton City, Virginia, 5/22/2020', 'Phillips, Montana, 6/30/2020', 'Powder River, Montana, 5/17/2020', 'Fergus, Montana, 6/4/2020', 'Billings, North Dakota, 5/27/2020', 'Taylor, Wisconsin, 5/2/2020', 'Phillips, Montana, 6/14/2020', 'Powder River, Montana, 6/24/2020', 'Mercer, North Dakota, 5/2/2020', 'Trego, Kansas, 5/18/2020', 'Powder River, Montana, 6/18/2020', 'Trego, Kansas, 5/1/2020', 'Monroe, Missouri, 5/24/2020', 'Butte, Idaho, 5/25/2020', 'Butte, Idaho, 7/18/2020', 'Butte, Idaho, 7/22/2020', 'Jackson, South Dakota, 5/13/2020', 'Weston, Wyoming, 5/11/2020', 'Butte, Idaho, 6/15/2020', 'Fergus, Montana, 5/23/2020', 'Trego, Kansas, 5/21/2020', 'Hampton City, Virginia, 6/18/2020', 'Butte, Idaho, 7/24/2020', 'Denali , Alaska, 5/18/2020', 'Phillips, Montana, 6/12/2020', 'Denali , Alaska, 5/3/2020', 'Butte, Idaho, 7/6/2020', 'Avery, North Carolina, 5/8/2020', 'Denali , Alaska, 5/21/2020', 'Rosebud, Montana, 5/11/2020', 'Taylor, Wisconsin, 5/12/2020', 'Taylor, Wisconsin, 5/5/2020', 'Denali , Alaska, 5/2/2020', 'Phillips, Montana, 6/10/2020', 'Phillips, Montana, 5/30/2020', 'Phillips, Montana, 5/2/2020', 'Custer, South Dakota, 5/22/2020', 'Monroe, Missouri, 5/15/2020', 'Monroe, Missouri, 5/17/2020', 'Rosebud, Montana, 5/19/2020', 'Monroe, Missouri, 5/18/2020', 'Hampton City, Virginia, 6/19/2020', 'Avery, North Carolina, 5/11/2020', 'Custer, South Dakota, 5/6/2020', 'Hampton City, Virginia, 6/25/2020', 'Bell, Kentucky, 5/2/2020', 'Bell, Kentucky, 5/7/2020', 'Phillips, Montana, 7/5/2020', 'Butte, Idaho, 7/27/2020', 'Phillips, Montana, 7/16/2020', 'Billings, North Dakota, 5/7/2020', 'Hampton City, Virginia, 5/14/2020', 'Butte, Idaho, 6/8/2020', 'Billings, North Dakota, 5/29/2020', 'Fergus, Montana, 5/6/2020', 'Jackson, South Dakota, 5/7/2020', 'Hampton City, Virginia, 6/17/2020', 'Butte, Idaho, 6/22/2020', 'Custer, South Dakota, 5/11/2020', 'Custer, South Dakota, 5/8/2020', 'Yancey, North Carolina, 5/1/2020', 'Phillips, Montana, 7/21/2020', 'Denali , Alaska, 6/21/2020', 'Fergus, Montana, 5/4/2020', 'Jackson, South Dakota, 5/22/2020', 'Lake, Minnesota, 5/4/2020', 'Hampton City, Virginia, 6/15/2020', 'Butte, Idaho, 7/31/2020', 'Palo Alto, Iowa, 5/1/2020', 'Fergus, Montana, 6/7/2020', 'Phillips, Montana, 5/29/2020', 'Powder River, Montana, 6/15/2020', 'Powder River, Montana, 7/7/2020', 'Butte, Idaho, 6/14/2020', 'Monroe, Missouri, 5/3/2020', 'Phillips, Montana, 7/22/2020', 'Trego, Kansas, 5/15/2020', 'Billings, North Dakota, 5/11/2020', 'Jackson, South Dakota, 5/9/2020', 'Monroe, Missouri, 5/11/2020', 'Rosebud, Montana, 5/28/2020', 'Trego, Kansas, 5/20/2020', 'Phillips, Montana, 7/7/2020', 'Hampton City, Virginia, 5/13/2020', 'Phillips, Montana, 7/26/2020', 'Powder River, Montana, 7/2/2020', 'Monroe, Missouri, 5/5/2020', 'Billings, North Dakota, 5/12/2020', 'Jackson, South Dakota, 5/1/2020', 'Custer, South Dakota, 5/9/2020', 'Denali , Alaska, 6/23/2020', 'Hampton City, Virginia, 5/1/2020', 'Custer, South Dakota, 5/25/2020', 'Hampton City, Virginia, 6/24/2020', 'Billings, North Dakota, 6/18/2020', 'Powder River, Montana, 6/9/2020', 'Hampton City, Virginia, 6/27/2020', 'Butte, Idaho, 5/2/2020', 'Monroe, Missouri, 5/12/2020', 'Weston, Wyoming, 5/4/2020', 'Palo Alto, Iowa, 5/4/2020', 'Taylor, Wisconsin, 5/6/2020', 'Billings, North Dakota, 5/10/2020', 'Butte, Idaho, 6/10/2020', 'Butte, Idaho, 7/21/2020', 'Butte, Idaho, 5/24/2020', 'Billings, North Dakota, 5/21/2020', 'Phillips, Montana, 6/3/2020', 'Jackson, South Dakota, 5/10/2020', 'Palo Alto, Iowa, 5/2/2020', 'Custer, South Dakota, 5/28/2020', 'Fergus, Montana, 6/13/2020', 'Lake, Minnesota, 5/1/2020', 'Trego, Kansas, 5/7/2020', 'Hampton City, Virginia, 5/6/2020', 'Custer, South Dakota, 5/1/2020', 'Taylor, Wisconsin, 5/14/2020', 'Denali , Alaska, 5/12/2020', 'Phillips, Montana, 6/11/2020', 'Weston, Wyoming, 5/12/2020', 'Phillips, Montana, 7/4/2020', 'Lake, Minnesota, 5/3/2020', 'Hampton City, Virginia, 5/15/2020', 'Bell, Kentucky, 5/5/2020', 'Fergus, Montana, 5/14/2020', 'Billings, North Dakota, 6/17/2020', 'Butte, Idaho, 5/10/2020', 'Custer, South Dakota, 5/17/2020', 'Forest, Wisconsin, 5/3/2020', 'Jackson, South Dakota, 5/4/2020', 'Denali , Alaska, 5/8/2020', 'Fergus, Montana, 6/12/2020', 'Hampton City, Virginia, 6/16/2020', 'Fergus, Montana, 6/15/2020', 'Denali , Alaska, 5/31/2020', 'Fergus, Montana, 5/22/2020', 'Phillips, Montana, 6/4/2020', 'Butte, Idaho, 6/21/2020', 'Denali , Alaska, 6/24/2020', 'Butte, Idaho, 5/11/2020', 'Denali , Alaska, 5/24/2020', 'Phillips, Montana, 7/6/2020', 'Butte, Idaho, 7/14/2020', 'Bell, Kentucky, 5/11/2020', 'Monroe, Missouri, 5/7/2020', 'Rosebud, Montana, 5/5/2020', 'Phillips, Montana, 7/20/2020', 'Butte, Idaho, 7/5/2020', 'Powder River, Montana, 7/3/2020', 'Powder River, Montana, 5/2/2020', 'Custer, South Dakota, 6/3/2020', 'Monroe, Missouri, 5/14/2020', 'Denali , Alaska, 5/25/2020', 'Denali , Alaska, 5/9/2020', 'Billings, North Dakota, 5/18/2020', 'Phillips, Montana, 5/19/2020', 'Powder River, Montana, 6/2/2020', 'Hampton City, Virginia, 5/5/2020', 'Avery, North Carolina, 5/12/2020', 'Hampton City, Virginia, 6/20/2020', 'Powder River, Montana, 5/3/2020', 'Hampton City, Virginia, 6/23/2020', 'Phillips, Montana, 7/2/2020', 'Custer, South Dakota, 6/2/2020', 'Phillips, Montana, 7/29/2020', 'Fergus, Montana, 5/19/2020', 'Hampton City, Virginia, 5/7/2020', 'Butte, Idaho, 8/7/2020', 'Bell, Kentucky, 5/15/2020', 'Rosebud, Montana, 5/26/2020', 'Fergus, Montana, 6/11/2020', 'Weston, Wyoming, 5/9/2020', 'Weston, Wyoming, 5/22/2020', 'Powder River, Montana, 6/21/2020', 'Powder River, Montana, 5/30/2020', 'Fergus, Montana, 6/1/2020', 'Rosebud, Montana, 5/18/2020', 'Powder River, Montana, 6/14/2020', 'Jackson, South Dakota, 5/11/2020', 'Powder River, Montana, 7/15/2020', 'Fergus, Montana, 5/28/2020', 'Phillips, Montana, 5/15/2020', 'Fergus, Montana, 5/20/2020', 'Butte, Idaho, 7/8/2020', 'Hampton City, Virginia, 5/17/2020', 'Avery, North Carolina, 5/7/2020', 'Billings, North Dakota, 6/13/2020', 'Phillips, Montana, 5/1/2020', 'Powder River, Montana, 5/25/2020', 'Jackson, South Dakota, 5/3/2020', 'Denali , Alaska, 6/15/2020', 'Phillips, Montana, 6/22/2020', 'Denali , Alaska, 6/7/2020', 'Jackson, South Dakota, 5/19/2020', 'Fergus, Montana, 5/9/2020', 'Butte, Idaho, 8/5/2020', 'Butte, Idaho, 8/1/2020', 'Denali , Alaska, 6/2/2020', 'Butte, Idaho, 7/30/2020', 'Fergus, Montana, 5/12/2020', 'Powder River, Montana, 5/31/2020', 'Phillips, Montana, 5/17/2020', 'Denali , Alaska, 5/11/2020', 'Phillips, Montana, 6/17/2020', 'Rosebud, Montana, 5/27/2020', 'Phillips, Montana, 6/27/2020', 'Phillips, Montana, 5/24/2020', 'Phillips, Montana, 7/31/2020', 'Fergus, Montana, 6/6/2020', 'Butte, Idaho, 6/29/2020', 'Weston, Wyoming, 5/15/2020', 'Butte, Idaho, 6/16/2020', 'Billings, North Dakota, 5/26/2020', 'Avery, North Carolina, 5/17/2020', 'Hampton City, Virginia, 5/18/2020', 'Jackson, South Dakota, 5/5/2020', 'Powder River, Montana, 5/10/2020', 'Avery, North Carolina, 5/3/2020', 'Fergus, Montana, 5/21/2020', 'Rosebud, Montana, 5/29/2020', 'Weston, Wyoming, 5/8/2020', 'Hampton City, Virginia, 6/5/2020', 'Phillips, Montana, 6/24/2020', 'Custer, South Dakota, 5/2/2020', 'Powder River, Montana, 5/9/2020', 'Hampton City, Virginia, 6/30/2020', 'Billings, North Dakota, 5/19/2020', 'Hampton City, Virginia, 6/7/2020', 'Hampton City, Virginia, 5/10/2020', 'Hampton City, Virginia, 5/4/2020', 'Monroe, Missouri, 5/22/2020', 'Rosebud, Montana, 5/23/2020', 'Rosebud, Montana, 5/12/2020', 'Billings, North Dakota, 5/22/2020', 'Powder River, Montana, 6/4/2020', 'Fergus, Montana, 5/13/2020', 'Butte, Idaho, 6/13/2020', 'Fergus, Montana, 5/31/2020', 'Butte, Idaho, 5/27/2020', 'Weston, Wyoming, 5/7/2020', 'Powder River, Montana, 7/21/2020', 'Phillips, Montana, 7/23/2020', 'Powder River, Montana, 7/5/2020', 'Avery, North Carolina, 5/1/2020', 'Fergus, Montana, 5/16/2020', 'Trego, Kansas, 5/17/2020', 'Taylor, Wisconsin, 5/18/2020', 'Rosebud, Montana, 5/3/2020', 'Butte, Idaho, 7/17/2020', 'Denali , Alaska, 6/4/2020', 'Butte, Idaho, 8/3/2020', 'Bell, Kentucky, 5/4/2020', 'Weston, Wyoming, 5/10/2020', 'Monroe, Missouri, 5/21/2020', 'Custer, South Dakota, 5/12/2020', 'Billings, North Dakota, 6/2/2020', 'Rosebud, Montana, 5/21/2020', 'Butte, Idaho, 8/2/2020', 'Powder River, Montana, 7/16/2020', 'Phillips, Montana, 7/14/2020', 'Fergus, Montana, 5/11/2020', 'Butte, Idaho, 5/15/2020', 'Denali , Alaska, 5/30/2020', 'Powder River, Montana, 5/12/2020', 'Hampton City, Virginia, 5/3/2020', 'Palo Alto, Iowa, 5/5/2020', 'Butte, Idaho, 6/28/2020', 'Avery, North Carolina, 5/13/2020', 'Weston, Wyoming, 5/20/2020', 'Powder River, Montana, 6/20/2020', 'Jackson, South Dakota, 5/6/2020', 'Weston, Wyoming, 5/2/2020', 'Powder River, Montana, 6/22/2020', 'Phillips, Montana, 5/20/2020', 'Butte, Idaho, 5/8/2020', 'Rosebud, Montana, 5/25/2020', 'Butte, Idaho, 6/30/2020', 'Phillips, Montana, 6/29/2020', 'Rosebud, Montana, 5/8/2020', 'Denali , Alaska, 5/27/2020', 'Custer, South Dakota, 5/7/2020', 'Taylor, Wisconsin, 5/8/2020', 'Powder River, Montana, 7/17/2020', 'Weston, Wyoming, 5/19/2020', 'Denali , Alaska, 6/17/2020', 'Custer, South Dakota, 5/15/2020', 'Powder River, Montana, 5/1/2020', 'Taylor, Wisconsin, 5/13/2020', 'Taylor, Wisconsin, 5/16/2020', 'Butte, Idaho, 5/1/2020', 'Butte, Idaho, 5/7/2020', 'Billings, North Dakota, 6/11/2020', 'Bell, Kentucky, 5/6/2020', 'Phillips, Montana, 7/27/2020', 'Avery, North Carolina, 5/6/2020', 'Powder River, Montana, 5/19/2020', 'Hampton City, Virginia, 6/2/2020', 'Fergus, Montana, 5/30/2020', 'Denali , Alaska, 5/19/2020', 'Mercer, North Dakota, 5/3/2020', 'Butte, Idaho, 7/25/2020', 'Powder River, Montana, 5/14/2020', 'Powder River, Montana, 6/10/2020', 'Hampton City, Virginia, 5/20/2020', 'Denali , Alaska, 5/7/2020', 'Rosebud, Montana, 5/10/2020', 'Trego, Kansas, 5/14/2020', 'Phillips, Montana, 6/7/2020', 'Fergus, Montana, 5/25/2020', 'Hampton City, Virginia, 6/12/2020', 'Powder River, Montana, 6/13/2020', 'Fergus, Montana, 5/24/2020', 'Butte, Idaho, 6/7/2020', 'Fergus, Montana, 6/2/2020', 'Denali , Alaska, 6/8/2020', 'Butte, Idaho, 5/13/2020', 'Butte, Idaho, 5/12/2020', 'Fergus, Montana, 5/1/2020', 'Taylor, Wisconsin, 5/10/2020', 'Billings, North Dakota, 5/13/2020', 'Custer, South Dakota, 5/4/2020', 'Butte, Idaho, 5/20/2020', 'Bell, Kentucky, 5/9/2020', 'Trego, Kansas, 5/4/2020', 'Phillips, Montana, 6/25/2020', 'Trego, Kansas, 5/5/2020', 'Phillips, Montana, 5/12/2020', 'Billings, North Dakota, 6/12/2020', 'Phillips, Montana, 6/13/2020', 'Phillips, Montana, 5/31/2020', 'Billings, North Dakota, 5/16/2020', 'Fergus, Montana, 6/3/2020', 'Phillips, Montana, 5/5/2020', 'Phillips, Montana, 5/9/2020', 'Phillips, Montana, 7/10/2020', 'Butte, Idaho, 8/9/2020', 'Monroe, Missouri, 5/25/2020', 'Phillips, Montana, 5/18/2020', 'Phillips, Montana, 5/4/2020', 'Butte, Idaho, 7/10/2020', 'Fergus, Montana, 6/16/2020', 'Taylor, Wisconsin, 5/1/2020', 'Butte, Idaho, 6/4/2020', 'Custer, South Dakota, 5/31/2020', 'Powder River, Montana, 6/19/2020', 'Butte, Idaho, 7/12/2020', 'Phillips, Montana, 7/28/2020', 'Phillips, Montana, 6/18/2020', 'Hampton City, Virginia, 6/10/2020', 'Butte, Idaho, 5/18/2020', 'Butte, Idaho, 5/29/2020', 'Custer, South Dakota, 5/19/2020', 'Phillips, Montana, 7/11/2020', 'Hampton City, Virginia, 6/26/2020', 'Phillips, Montana, 6/2/2020', 'Butte, Idaho, 7/11/2020', 'Butte, Idaho, 7/15/2020', 'Hampton City, Virginia, 5/23/2020', 'Billings, North Dakota, 5/1/2020', 'Taylor, Wisconsin, 5/3/2020', 'Phillips, Montana, 6/20/2020', 'Butte, Idaho, 6/2/2020', 'Phillips, Montana, 5/23/2020', 'Avery, North Carolina, 5/5/2020', 'Trego, Kansas, 5/6/2020', 'Avery, North Carolina, 5/10/2020', 'Monroe, Missouri, 5/23/2020', 'Powder River, Montana, 6/3/2020', 'Phillips, Montana, 6/21/2020', 'Butte, Idaho, 5/26/2020', 'Butte, Idaho, 5/9/2020', 'Avery, North Carolina, 5/14/2020', 'Hampton City, Virginia, 6/28/2020', 'Weston, Wyoming, 5/14/2020', 'Phillips, Montana, 5/13/2020', 'Butte, Idaho, 7/20/2020', 'Phillips, Montana, 7/8/2020', 'Jackson, South Dakota, 5/15/2020', 'Butte, Idaho, 6/25/2020', 'Hampton City, Virginia, 5/26/2020', 'Billings, North Dakota, 5/4/2020', 'Butte, Idaho, 5/5/2020', 'Jackson, South Dakota, 5/20/2020', 'Billings, North Dakota, 5/15/2020', 'Butte, Idaho, 5/3/2020', 'Butte, Idaho, 6/27/2020', 'Phillips, Montana, 6/16/2020', 'Phillips, Montana, 5/26/2020', 'Hampton City, Virginia, 5/25/2020', 'Fergus, Montana, 5/29/2020', 'Butte, Idaho, 7/9/2020', 'Butte, Idaho, 6/18/2020', 'Billings, North Dakota, 5/23/2020', 'Denali , Alaska, 6/9/2020', 'Avery, North Carolina, 5/16/2020', 'Jackson, South Dakota, 5/12/2020', 'Butte, Idaho, 7/16/2020', 'Phillips, Montana, 6/28/2020', 'Monroe, Missouri, 5/26/2020', 'Bell, Kentucky, 5/12/2020', 'Trego, Kansas, 5/9/2020', 'Billings, North Dakota, 5/2/2020', 'Bell, Kentucky, 5/16/2020', 'Billings, North Dakota, 5/28/2020', 'Phillips, Montana, 6/5/2020', 'Palo Alto, Iowa, 5/3/2020', 'Butte, Idaho, 5/28/2020', 'Denali , Alaska, 5/17/2020', 'Jackson, South Dakota, 5/8/2020', 'Rosebud, Montana, 5/2/2020', 'Butte, Idaho, 7/29/2020', 'Billings, North Dakota, 5/30/2020', 'Lake, Minnesota, 5/2/2020', 'Forest, Wisconsin, 5/2/2020', 'Rosebud, Montana, 5/24/2020', 'Trego, Kansas, 5/10/2020', 'Powder River, Montana, 5/24/2020', 'Jackson, South Dakota, 5/23/2020', 'Custer, South Dakota, 5/18/2020', 'Billings, North Dakota, 5/3/2020', 'Powder River, Montana, 5/28/2020', 'Fergus, Montana, 5/7/2020', 'Denali , Alaska, 6/10/2020', 'Weston, Wyoming, 5/21/2020', 'Powder River, Montana, 6/11/2020', 'Rosebud, Montana, 5/14/2020', 'Powder River, Montana, 5/18/2020', 'Billings, North Dakota, 6/1/2020', 'Denali , Alaska, 5/23/2020', 'Hampton City, Virginia, 5/12/2020', 'Hampton City, Virginia, 6/8/2020', 'Phillips, Montana, 6/23/2020', 'Custer, South Dakota, 5/29/2020', 'Phillips, Montana, 5/22/2020', 'Billings, North Dakota, 6/15/2020', 'Fergus, Montana, 6/5/2020', 'Hampton City, Virginia, 5/24/2020', 'Billings, North Dakota, 5/9/2020', 'Fergus, Montana, 6/10/2020', 'Billings, North Dakota, 5/17/2020', 'Powder River, Montana, 5/7/2020', 'Denali , Alaska, 5/10/2020', 'Avery, North Carolina, 5/18/2020', 'Powder River, Montana, 5/6/2020', 'Hampton City, Virginia, 5/31/2020', 'Denali , Alaska, 6/1/2020', 'Rosebud, Montana, 5/20/2020', 'Bell, Kentucky, 5/3/2020', 'Butte, Idaho, 5/14/2020', 'Butte, Idaho, 8/4/2020', 'Hampton City, Virginia, 5/11/2020', 'Butte, Idaho, 7/2/2020', 'Rosebud, Montana, 5/16/2020', 'Hampton City, Virginia, 5/2/2020', 'Butte, Idaho, 6/6/2020', 'Butte, Idaho, 6/24/2020', 'Rosebud, Montana, 5/22/2020', 'Hampton City, Virginia, 5/16/2020', 'Hampton City, Virginia, 5/8/2020', 'Butte, Idaho, 7/4/2020', 'Powder River, Montana, 7/4/2020', 'Denali , Alaska, 6/22/2020', 'Fergus, Montana, 5/10/2020', 'Rosebud, Montana, 5/6/2020', 'Butte, Idaho, 7/26/2020', 'Phillips, Montana, 6/6/2020', 'Custer, South Dakota, 5/14/2020', 'Denali , Alaska, 6/18/2020', 'Fergus, Montana, 6/17/2020', 'Butte, Idaho, 7/19/2020', 'Bell, Kentucky, 5/13/2020', 'Butte, Idaho, 5/31/2020', 'Trego, Kansas, 5/13/2020', 'Powder River, Montana, 6/17/2020', 'Powder River, Montana, 6/23/2020', 'Forest, Wisconsin, 5/5/2020', 'Weston, Wyoming, 5/5/2020', 'Phillips, Montana, 6/1/2020', 'Custer, South Dakota, 5/10/2020', 'Powder River, Montana, 6/5/2020', 'Monroe, Missouri, 5/1/2020', 'Custer, South Dakota, 5/26/2020', 'Denali , Alaska, 6/11/2020', 'Trego, Kansas, 5/12/2020', 'Monroe, Missouri, 5/4/2020', 'Phillips, Montana, 5/11/2020', 'Taylor, Wisconsin, 5/20/2020', 'Fergus, Montana, 5/18/2020', 'Butte, Idaho, 6/26/2020', 'Taylor, Wisconsin, 5/17/2020', 'Butte, Idaho, 6/1/2020', 'Avery, North Carolina, 5/15/2020', 'Custer, South Dakota, 5/24/2020', 'Hampton City, Virginia, 6/3/2020', 'Powder River, Montana, 7/19/2020', 'Butte, Idaho, 5/23/2020', 'Lake, Minnesota, 5/5/2020', 'Fergus, Montana, 5/2/2020', 'Monroe, Missouri, 5/8/2020', 'Phillips, Montana, 7/18/2020', 'Butte, Idaho, 6/11/2020', 'Billings, North Dakota, 5/5/2020', 'Butte, Idaho, 7/1/2020', 'Billings, North Dakota, 5/8/2020', 'Denali , Alaska, 5/16/2020', 'Butte, Idaho, 5/16/2020', 'Hampton City, Virginia, 6/9/2020', 'Butte, Idaho, 6/9/2020', 'Denali , Alaska, 5/6/2020', 'Taylor, Wisconsin, 5/7/2020', 'Billings, North Dakota, 6/16/2020', 'Butte, Idaho, 6/20/2020', 'Hampton City, Virginia, 5/21/2020', 'Butte, Idaho, 7/13/2020', 'Hampton City, Virginia, 6/6/2020', 'Fergus, Montana, 5/3/2020', 'Fergus, Montana, 6/8/2020', 'Phillips, Montana, 5/27/2020', 'Powder River, Montana, 5/23/2020', 'Lake, Minnesota, 5/6/2020', 'Mercer, North Dakota, 5/1/2020', 'Billings, North Dakota, 6/4/2020', 'Denali , Alaska, 6/20/2020', 'Denali , Alaska, 5/14/2020', 'Monroe, Missouri, 5/19/2020', 'Monroe, Missouri, 5/16/2020', 'Phillips, Montana, 5/16/2020', 'Butte, Idaho, 5/22/2020', 'Bell, Kentucky, 5/8/2020', 'Denali , Alaska, 5/20/2020', 'Jackson, South Dakota, 5/17/2020', 'Phillips, Montana, 5/28/2020', 'Denali , Alaska, 6/6/2020', 'Powder River, Montana, 7/20/2020', 'Powder River, Montana, 5/15/2020', 'Weston, Wyoming, 5/26/2020', 'Taylor, Wisconsin, 5/4/2020', 'Rosebud, Montana, 5/4/2020', 'Phillips, Montana, 7/1/2020', 'Forest, Wisconsin, 5/4/2020', 'Denali , Alaska, 5/4/2020', 'Butte, Idaho, 7/28/2020', 'Phillips, Montana, 7/15/2020', 'Trego, Kansas, 5/19/2020', 'Denali , Alaska, 5/15/2020', 'Trego, Kansas, 5/11/2020', 'Custer, South Dakota, 5/23/2020', 'Phillips, Montana, 7/24/2020', 'Monroe, Missouri, 5/6/2020', 'Rosebud, Montana, 5/7/2020', 'Trego, Kansas, 5/8/2020', 'Phillips, Montana, 7/3/2020', 'Butte, Idaho, 6/23/2020', 'Trego, Kansas, 5/2/2020', 'Trego, Kansas, 5/16/2020', 'Denali , Alaska, 6/13/2020', 'Rosebud, Montana, 5/17/2020', 'Billings, North Dakota, 6/5/2020', 'Phillips, Montana, 6/19/2020', 'Weston, Wyoming, 5/16/2020', 'Powder River, Montana, 5/20/2020', 'Hampton City, Virginia, 5/9/2020', 'Powder River, Montana, 5/26/2020', 'Denali , Alaska, 6/12/2020', 'Butte, Idaho, 5/4/2020', 'Billings, North Dakota, 5/14/2020', 'Hampton City, Virginia, 5/30/2020', 'Phillips, Montana, 6/26/2020', 'Yancey, North Carolina, 5/2/2020', 'Butte, Idaho, 6/19/2020', 'Mercer, North Dakota, 5/4/2020', 'Denali , Alaska, 6/16/2020', 'Butte, Idaho, 7/23/2020', 'Billings, North Dakota, 6/8/2020', 'Monroe, Missouri, 5/10/2020', 'Butte, Idaho, 8/6/2020', 'Billings, North Dakota, 6/10/2020', 'Billings, North Dakota, 5/6/2020', 'Weston, Wyoming, 5/25/2020', 'Denali , Alaska, 6/19/2020', 'Phillips, Montana, 5/25/2020', 'Powder River, Montana, 6/16/2020', 'Weston, Wyoming, 5/1/2020', 'Fergus, Montana, 5/15/2020', 'Hampton City, Virginia, 6/29/2020', 'Jackson, South Dakota, 5/2/2020', 'Custer, South Dakota, 5/5/2020', 'Butte, Idaho, 7/3/2020', 'Billings, North Dakota, 6/3/2020', 'Billings, North Dakota, 6/14/2020', 'Powder River, Montana, 6/1/2020', 'Phillips, Montana, 7/9/2020', 'Phillips, Montana, 7/17/2020', 'Hampton City, Virginia, 6/14/2020', 'Hampton City, Virginia, 5/27/2020', 'Monroe, Missouri, 5/2/2020', 'Powder River, Montana, 6/12/2020', 'Billings, North Dakota, 5/31/2020', 'Weston, Wyoming, 5/6/2020', 'Hampton City, Virginia, 6/11/2020', 'Powder River, Montana, 5/8/2020', 'Denali , Alaska, 6/14/2020', 'Hampton City, Virginia, 5/28/2020', 'Billings, North Dakota, 6/6/2020', 'Powder River, Montana, 5/16/2020', 'Hampton City, Virginia, 5/19/2020', 'Weston, Wyoming, 5/23/2020', 'Monroe, Missouri, 5/20/2020', 'Phillips, Montana, 7/30/2020', 'Denali , Alaska, 5/1/2020', 'Rosebud, Montana, 5/1/2020', 'Rosebud, Montana, 5/15/2020', 'Billings, North Dakota, 6/7/2020', 'Powder River, Montana, 5/27/2020', 'Fergus, Montana, 5/26/2020', 'Weston, Wyoming, 5/13/2020', 'Forest, Wisconsin, 5/1/2020', 'Phillips, Montana, 7/12/2020', 'Billings, North Dakota, 5/25/2020', 'Butte, Idaho, 5/6/2020', 'Butte, Idaho, 7/7/2020', 'Powder River, Montana, 7/18/2020', 'Denali , Alaska, 5/22/2020', 'Jackson, South Dakota, 5/21/2020', 'Powder River, Montana, 5/4/2020', 'Powder River, Montana, 6/7/2020', 'Weston, Wyoming, 5/3/2020', 'Custer, South Dakota, 5/21/2020', 'Phillips, Montana, 7/13/2020'}\n",
      "Number of rows in AQdata, but not in covidData:  711\n"
     ]
    }
   ],
   "source": [
    "# resetting merge index following dataset changes\n",
    "\n",
    "covidData['mergeID'] =  covidData['county'] + ', ' + covidData['state'] + ', ' + covidData['date']\n",
    "AQData['mergeId'] = AQData['County_Name'] + ', ' + AQData['State_Name'] + ', ' + AQData['Date_Local']\n",
    "\n",
    "\n",
    "## check which merge IDs exist in AQData, but not in covidData\n",
    "covidMergeSet = covidData['mergeID'].to_list()\n",
    "AQMergeSet = AQData['mergeID'].to_list()\n",
    "AQMergeSet = set(AQMergeSet)\n",
    "covidMergeSet = set(covidMergeSet)\n",
    "differenceSet = AQMergeSet - covidMergeSet\n",
    "print('List of mergeIDs in AQData but not in covidData: \\n\\n\\n', differenceSet)\n",
    "print('Number of rows in AQdata, but not in covidData: ', len(differenceSet))"
   ]
  },
  {
   "cell_type": "code",
   "execution_count": 27,
   "metadata": {},
   "outputs": [],
   "source": [
    "#providing new datasets after first round merge cleaning (1RMC)\n",
    "\n",
    "AQData.to_csv('AQData1RMC.CSV')\n",
    "covidData.to_csv('covidData1RMC.csv')"
   ]
  },
  {
   "cell_type": "code",
   "execution_count": 28,
   "metadata": {},
   "outputs": [
    {
     "data": {
      "text/plain": [
       "Counter({'Custer, South Dakota': 33,\n",
       "         'Hampton City, Virginia': 61,\n",
       "         'Rosebud, Montana': 29,\n",
       "         'Avery, North Carolina': 18,\n",
       "         'Butte, Idaho': 102,\n",
       "         'Phillips, Montana': 92,\n",
       "         'Taylor, Wisconsin': 20,\n",
       "         'Denali , Alaska': 55,\n",
       "         'Fergus, Montana': 48,\n",
       "         'Powder River, Montana': 68,\n",
       "         'Bell, Kentucky': 17,\n",
       "         'Billings, North Dakota': 50,\n",
       "         'Palo Alto, Iowa': 7,\n",
       "         'Jackson, South Dakota': 23,\n",
       "         'Trego, Kansas': 21,\n",
       "         'Monroe, Missouri': 26,\n",
       "         'Weston, Wyoming': 24,\n",
       "         'Mercer, North Dakota': 4,\n",
       "         'Yancey, North Carolina': 2,\n",
       "         'Lake, Minnesota': 6,\n",
       "         'Forest, Wisconsin': 5})"
      ]
     },
     "execution_count": 28,
     "metadata": {},
     "output_type": "execute_result"
    }
   ],
   "source": [
    "from collections import Counter\n",
    "\n",
    "issueList = []\n",
    "for x in differenceSet:\n",
    "    cityState = \",\".join(x.split(\",\", 2)[:2])\n",
    "    issueList.append(cityState)\n",
    "Counter(issueList)"
   ]
  },
  {
   "cell_type": "markdown",
   "metadata": {},
   "source": [
    "## Research into states with issues \n",
    "* Custer, South Dakota-\n",
    "* Hampton City, Virginia-\n",
    "* Rosebud, Montana-\n",
    "* Avery, North Carolina-\n",
    "* Butte, Idaho-\n",
    "* Phillips, Montana-\n",
    "* Taylor, Wisconsin-\n",
    "* Denali , Alaska-\n",
    "* Fergus, Montana-\n",
    "* Powder River, Montana-\n",
    "* Bell, Kentucky-\n",
    "* Billings, North Dakota-\n",
    "* Palo Alto, Iowa-\n",
    "* Jackson, South Dakota-\n",
    "* Trego, Kansas-\n",
    "* Monroe, Missouri-\n",
    "* Weston, Wyoming-\n",
    "* Mercer, North Dakota-\n",
    "* Yancey, North Carolina-\n",
    "* Lake, Minnesota-\n",
    "* Forest, Wisconsin-"
   ]
  }
 ],
 "metadata": {
  "kernelspec": {
   "display_name": "Python 3",
   "language": "python",
   "name": "python3"
  },
  "language_info": {
   "codemirror_mode": {
    "name": "ipython",
    "version": 3
   },
   "file_extension": ".py",
   "mimetype": "text/x-python",
   "name": "python",
   "nbconvert_exporter": "python",
   "pygments_lexer": "ipython3",
   "version": "3.8.5"
  }
 },
 "nbformat": 4,
 "nbformat_minor": 4
}
