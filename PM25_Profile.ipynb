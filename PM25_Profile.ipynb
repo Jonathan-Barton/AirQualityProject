{
 "cells": [
  {
   "cell_type": "code",
   "execution_count": 1,
   "id": "active-gazette",
   "metadata": {},
   "outputs": [],
   "source": [
    "import pandas as pd\n",
    "import scipy as sc\n",
    "from scipy.stats import norm\n",
    "import seaborn as sns\n",
    "\n",
    "import matplotlib.pyplot as plt\n",
    "%matplotlib inline\n",
    "plt.rcParams['figure.figsize'] = (20, 6)\n",
    "plt.style.use('ggplot')"
   ]
  },
  {
   "cell_type": "code",
   "execution_count": 2,
   "id": "progressive-spread",
   "metadata": {},
   "outputs": [
    {
     "name": "stdout",
     "output_type": "stream",
     "text": [
      "<class 'pandas.core.frame.DataFrame'>\n",
      "DatetimeIndex: 337061 entries, 2020-01-01 to 2020-06-26\n",
      "Data columns (total 28 columns):\n",
      " #   Column               Non-Null Count   Dtype  \n",
      "---  ------               --------------   -----  \n",
      " 0   State Code           337061 non-null  int64  \n",
      " 1   County Code          337061 non-null  int64  \n",
      " 2   Site Num             337061 non-null  int64  \n",
      " 3   Parameter Code       337061 non-null  int64  \n",
      " 4   POC                  337061 non-null  int64  \n",
      " 5   Latitude             337061 non-null  float64\n",
      " 6   Longitude            337061 non-null  float64\n",
      " 7   Datum                337061 non-null  object \n",
      " 8   Parameter Name       337061 non-null  object \n",
      " 9   Sample Duration      337061 non-null  object \n",
      " 10  Pollutant Standard   188273 non-null  object \n",
      " 11  Units of Measure     337061 non-null  object \n",
      " 12  Event Type           337061 non-null  object \n",
      " 13  Observation Count    337061 non-null  int64  \n",
      " 14  Observation Percent  337061 non-null  float64\n",
      " 15  Arithmetic Mean      337061 non-null  float64\n",
      " 16  1st Max Value        337061 non-null  float64\n",
      " 17  1st Max Hour         337061 non-null  int64  \n",
      " 18  AQI                  188273 non-null  float64\n",
      " 19  Method Code          191222 non-null  float64\n",
      " 20  Method Name          337061 non-null  object \n",
      " 21  Local Site Name      315688 non-null  object \n",
      " 22  Address              337061 non-null  object \n",
      " 23  State Name           337061 non-null  object \n",
      " 24  County Name          337061 non-null  object \n",
      " 25  City Name            337061 non-null  object \n",
      " 26  CBSA Name            309986 non-null  object \n",
      " 27  Date of Last Change  337061 non-null  object \n",
      "dtypes: float64(7), int64(7), object(14)\n",
      "memory usage: 74.6+ MB\n"
     ]
    }
   ],
   "source": [
    "pm25 = pd.read_csv(\n",
    "    'daily_88101_2020.csv', \n",
    "    index_col='Date Local',\n",
    "    parse_dates=[\"Date Local\"],\n",
    ")\n",
    "\n",
    "#Derive new PPM Arithmetic Mean\n",
    "\n",
    "#sumnozone['Arithmetic Mean PPB'] = ''\n",
    "#sumnozone['Arithmetic Mean PPB'] = sumnozone['Arithmetic Mean'].apply(lambda x : int(x*1000))\n",
    "\n",
    "pm25.info()"
   ]
  },
  {
   "cell_type": "code",
   "execution_count": 3,
   "id": "similar-oriental",
   "metadata": {},
   "outputs": [
    {
     "data": {
      "text/html": [
       "<div>\n",
       "<style scoped>\n",
       "    .dataframe tbody tr th:only-of-type {\n",
       "        vertical-align: middle;\n",
       "    }\n",
       "\n",
       "    .dataframe tbody tr th {\n",
       "        vertical-align: top;\n",
       "    }\n",
       "\n",
       "    .dataframe thead th {\n",
       "        text-align: right;\n",
       "    }\n",
       "</style>\n",
       "<table border=\"1\" class=\"dataframe\">\n",
       "  <thead>\n",
       "    <tr style=\"text-align: right;\">\n",
       "      <th></th>\n",
       "      <th>n</th>\n",
       "      <th>Percentage</th>\n",
       "    </tr>\n",
       "  </thead>\n",
       "  <tbody>\n",
       "    <tr>\n",
       "      <th>State Code</th>\n",
       "      <td>0</td>\n",
       "      <td>0.0</td>\n",
       "    </tr>\n",
       "    <tr>\n",
       "      <th>City Name</th>\n",
       "      <td>0</td>\n",
       "      <td>0.0</td>\n",
       "    </tr>\n",
       "    <tr>\n",
       "      <th>County Name</th>\n",
       "      <td>0</td>\n",
       "      <td>0.0</td>\n",
       "    </tr>\n",
       "    <tr>\n",
       "      <th>State Name</th>\n",
       "      <td>0</td>\n",
       "      <td>0.0</td>\n",
       "    </tr>\n",
       "    <tr>\n",
       "      <th>Address</th>\n",
       "      <td>0</td>\n",
       "      <td>0.0</td>\n",
       "    </tr>\n",
       "    <tr>\n",
       "      <th>Method Name</th>\n",
       "      <td>0</td>\n",
       "      <td>0.0</td>\n",
       "    </tr>\n",
       "    <tr>\n",
       "      <th>1st Max Hour</th>\n",
       "      <td>0</td>\n",
       "      <td>0.0</td>\n",
       "    </tr>\n",
       "    <tr>\n",
       "      <th>1st Max Value</th>\n",
       "      <td>0</td>\n",
       "      <td>0.0</td>\n",
       "    </tr>\n",
       "    <tr>\n",
       "      <th>Arithmetic Mean</th>\n",
       "      <td>0</td>\n",
       "      <td>0.0</td>\n",
       "    </tr>\n",
       "    <tr>\n",
       "      <th>Observation Percent</th>\n",
       "      <td>0</td>\n",
       "      <td>0.0</td>\n",
       "    </tr>\n",
       "    <tr>\n",
       "      <th>Event Type</th>\n",
       "      <td>0</td>\n",
       "      <td>0.0</td>\n",
       "    </tr>\n",
       "    <tr>\n",
       "      <th>Observation Count</th>\n",
       "      <td>0</td>\n",
       "      <td>0.0</td>\n",
       "    </tr>\n",
       "    <tr>\n",
       "      <th>Sample Duration</th>\n",
       "      <td>0</td>\n",
       "      <td>0.0</td>\n",
       "    </tr>\n",
       "    <tr>\n",
       "      <th>Parameter Name</th>\n",
       "      <td>0</td>\n",
       "      <td>0.0</td>\n",
       "    </tr>\n",
       "    <tr>\n",
       "      <th>Datum</th>\n",
       "      <td>0</td>\n",
       "      <td>0.0</td>\n",
       "    </tr>\n",
       "    <tr>\n",
       "      <th>Longitude</th>\n",
       "      <td>0</td>\n",
       "      <td>0.0</td>\n",
       "    </tr>\n",
       "    <tr>\n",
       "      <th>Latitude</th>\n",
       "      <td>0</td>\n",
       "      <td>0.0</td>\n",
       "    </tr>\n",
       "    <tr>\n",
       "      <th>POC</th>\n",
       "      <td>0</td>\n",
       "      <td>0.0</td>\n",
       "    </tr>\n",
       "    <tr>\n",
       "      <th>Parameter Code</th>\n",
       "      <td>0</td>\n",
       "      <td>0.0</td>\n",
       "    </tr>\n",
       "    <tr>\n",
       "      <th>Site Num</th>\n",
       "      <td>0</td>\n",
       "      <td>0.0</td>\n",
       "    </tr>\n",
       "    <tr>\n",
       "      <th>County Code</th>\n",
       "      <td>0</td>\n",
       "      <td>0.0</td>\n",
       "    </tr>\n",
       "    <tr>\n",
       "      <th>Units of Measure</th>\n",
       "      <td>0</td>\n",
       "      <td>0.0</td>\n",
       "    </tr>\n",
       "    <tr>\n",
       "      <th>Date of Last Change</th>\n",
       "      <td>0</td>\n",
       "      <td>0.0</td>\n",
       "    </tr>\n",
       "    <tr>\n",
       "      <th>Local Site Name</th>\n",
       "      <td>21373</td>\n",
       "      <td>6.3</td>\n",
       "    </tr>\n",
       "    <tr>\n",
       "      <th>CBSA Name</th>\n",
       "      <td>27075</td>\n",
       "      <td>8.0</td>\n",
       "    </tr>\n",
       "    <tr>\n",
       "      <th>Method Code</th>\n",
       "      <td>145839</td>\n",
       "      <td>43.3</td>\n",
       "    </tr>\n",
       "    <tr>\n",
       "      <th>Pollutant Standard</th>\n",
       "      <td>148788</td>\n",
       "      <td>44.1</td>\n",
       "    </tr>\n",
       "    <tr>\n",
       "      <th>AQI</th>\n",
       "      <td>148788</td>\n",
       "      <td>44.1</td>\n",
       "    </tr>\n",
       "  </tbody>\n",
       "</table>\n",
       "</div>"
      ],
      "text/plain": [
       "                          n  Percentage\n",
       "State Code                0         0.0\n",
       "City Name                 0         0.0\n",
       "County Name               0         0.0\n",
       "State Name                0         0.0\n",
       "Address                   0         0.0\n",
       "Method Name               0         0.0\n",
       "1st Max Hour              0         0.0\n",
       "1st Max Value             0         0.0\n",
       "Arithmetic Mean           0         0.0\n",
       "Observation Percent       0         0.0\n",
       "Event Type                0         0.0\n",
       "Observation Count         0         0.0\n",
       "Sample Duration           0         0.0\n",
       "Parameter Name            0         0.0\n",
       "Datum                     0         0.0\n",
       "Longitude                 0         0.0\n",
       "Latitude                  0         0.0\n",
       "POC                       0         0.0\n",
       "Parameter Code            0         0.0\n",
       "Site Num                  0         0.0\n",
       "County Code               0         0.0\n",
       "Units of Measure          0         0.0\n",
       "Date of Last Change       0         0.0\n",
       "Local Site Name       21373         6.3\n",
       "CBSA Name             27075         8.0\n",
       "Method Code          145839        43.3\n",
       "Pollutant Standard   148788        44.1\n",
       "AQI                  148788        44.1"
      ]
     },
     "execution_count": 3,
     "metadata": {},
     "output_type": "execute_result"
    }
   ],
   "source": [
    "#Locate/Count Missing Values/NaN\n",
    "pm25.isnull().sum()\n",
    "missing_count = pm25.isnull().sum()\n",
    "val_count = pm25.isnull().count()\n",
    "missing_percent = round(missing_count / val_count * 100, 1)\n",
    "miss_df = pd.DataFrame({'n': missing_count, 'Percentage': missing_percent})\n",
    "miss_df.sort_values('Percentage')"
   ]
  },
  {
   "cell_type": "code",
   "execution_count": 4,
   "id": "affected-capacity",
   "metadata": {},
   "outputs": [],
   "source": [
    "#subset\n",
    "pm25 = pm25[[\"Arithmetic Mean\",\"State Name\", \"County Name\",\"AQI\",\"County Code\"]]"
   ]
  },
  {
   "cell_type": "code",
   "execution_count": 5,
   "id": "behavioral-action",
   "metadata": {},
   "outputs": [
    {
     "name": "stdout",
     "output_type": "stream",
     "text": [
      "count    112064.000000\n",
      "mean          8.433210\n",
      "std           9.265585\n",
      "min          -4.913043\n",
      "25%           4.900000\n",
      "50%           7.000000\n",
      "75%           9.796875\n",
      "max         576.600000\n",
      "Name: Arithmetic Mean, dtype: float64\n"
     ]
    }
   ],
   "source": [
    "datemask = pm25.loc['2020-06-01':'2020-12-31']\n",
    "print(datemask['Arithmetic Mean'].describe())  # min=0 no negative value, but the largest number is 0.12 ppm"
   ]
  },
  {
   "cell_type": "code",
   "execution_count": 6,
   "id": "distant-holocaust",
   "metadata": {},
   "outputs": [
    {
     "name": "stderr",
     "output_type": "stream",
     "text": [
      "<ipython-input-6-91b172dbd0b7>:3: UserWarning: To output multiple subplots, the figure containing the passed axes is being cleared\n",
      "  pm25.hist(ax = ax, bins = 100)\n"
     ]
    },
    {
     "data": {
      "text/plain": [
       "array([[<AxesSubplot:title={'center':'Arithmetic Mean'}>,\n",
       "        <AxesSubplot:title={'center':'AQI'}>],\n",
       "       [<AxesSubplot:title={'center':'County Code'}>, <AxesSubplot:>]],\n",
       "      dtype=object)"
      ]
     },
     "execution_count": 6,
     "metadata": {},
     "output_type": "execute_result"
    },
    {
     "data": {
      "image/png": "[encoded data removed]",
      "text/plain": [
       "<Figure size 1080x1440 with 4 Axes>"
      ]
     },
     "metadata": {},
     "output_type": "display_data"
    }
   ],
   "source": [
    "fig = plt.figure(figsize = (15,20))\n",
    "ax = fig.gca()\n",
    "pm25.hist(ax = ax, bins = 100)"
   ]
  },
  {
   "cell_type": "code",
   "execution_count": 7,
   "id": "narrow-drill",
   "metadata": {},
   "outputs": [
    {
     "name": "stdout",
     "output_type": "stream",
     "text": [
      "AxesSubplot(0.125,0.125;0.775x0.755)\n",
      "count    337061.000000\n",
      "mean          7.187375\n",
      "std           6.445406\n",
      "min          -4.913043\n",
      "25%           4.100000\n",
      "50%           6.200000\n",
      "75%           8.900000\n",
      "max         576.600000\n",
      "Name: Arithmetic Mean, dtype: float64\n"
     ]
    },
    {
     "data": {
      "image/png": "[encoded data removed]",
      "text/plain": [
       "<Figure size 1440x432 with 1 Axes>"
      ]
     },
     "metadata": {},
     "output_type": "display_data"
    }
   ],
   "source": [
    "print(pm25['Arithmetic Mean'].plot(kind='hist'))\n",
    "print(pm25['Arithmetic Mean'].describe())"
   ]
  },
  {
   "cell_type": "code",
   "execution_count": 8,
   "id": "computational-aside",
   "metadata": {},
   "outputs": [
    {
     "ename": "NameError",
     "evalue": "name 'df' is not defined",
     "output_type": "error",
     "traceback": [
      "\u001b[1;31m---------------------------------------------------------------------------\u001b[0m",
      "\u001b[1;31mNameError\u001b[0m                                 Traceback (most recent call last)",
      "\u001b[1;32m<ipython-input-8-a88aa2bf448a>\u001b[0m in \u001b[0;36m<module>\u001b[1;34m\u001b[0m\n\u001b[0;32m      1\u001b[0m \u001b[1;31m#PBoxplots\u001b[0m\u001b[1;33m\u001b[0m\u001b[1;33m\u001b[0m\u001b[1;33m\u001b[0m\u001b[0m\n\u001b[0;32m      2\u001b[0m \u001b[0mfeats\u001b[0m \u001b[1;33m=\u001b[0m \u001b[1;33m[\u001b[0m\u001b[1;34m'Arithmetic Mean'\u001b[0m\u001b[1;33m,\u001b[0m \u001b[1;34m'AQI'\u001b[0m\u001b[1;33m]\u001b[0m\u001b[1;33m\u001b[0m\u001b[1;33m\u001b[0m\u001b[0m\n\u001b[1;32m----> 3\u001b[1;33m \u001b[0mplotnum\u001b[0m \u001b[1;33m=\u001b[0m \u001b[0mdf\u001b[0m\u001b[1;33m[\u001b[0m\u001b[0mfeats\u001b[0m\u001b[1;33m]\u001b[0m\u001b[1;33m\u001b[0m\u001b[1;33m\u001b[0m\u001b[0m\n\u001b[0m\u001b[0;32m      4\u001b[0m \u001b[0max\u001b[0m \u001b[1;33m=\u001b[0m \u001b[0msns\u001b[0m\u001b[1;33m.\u001b[0m\u001b[0mboxplot\u001b[0m\u001b[1;33m(\u001b[0m\u001b[0mdata\u001b[0m\u001b[1;33m=\u001b[0m\u001b[0mplotnum\u001b[0m\u001b[1;33m,\u001b[0m \u001b[0morient\u001b[0m\u001b[1;33m=\u001b[0m\u001b[1;34m\"h\"\u001b[0m\u001b[1;33m,\u001b[0m\u001b[0mfliersize\u001b[0m \u001b[1;33m=\u001b[0m \u001b[1;36m3.5\u001b[0m\u001b[1;33m,\u001b[0m \u001b[0mpalette\u001b[0m\u001b[1;33m=\u001b[0m\u001b[1;34m\"BrBG\"\u001b[0m\u001b[1;33m)\u001b[0m\u001b[1;33m\u001b[0m\u001b[1;33m\u001b[0m\u001b[0m\n\u001b[0;32m      5\u001b[0m \u001b[0mplt\u001b[0m\u001b[1;33m.\u001b[0m\u001b[0mshow\u001b[0m\u001b[1;33m(\u001b[0m\u001b[1;33m)\u001b[0m\u001b[1;33m\u001b[0m\u001b[1;33m\u001b[0m\u001b[0m\n",
      "\u001b[1;31mNameError\u001b[0m: name 'df' is not defined"
     ]
    }
   ],
   "source": [
    "#PBoxplots\n",
    "feats = ['Arithmetic Mean', 'AQI']\n",
    "plotnum = df[feats]\n",
    "ax = sns.boxplot(data=plotnum, orient=\"h\",fliersize = 3.5, palette=\"BrBG\")\n",
    "plt.show()\n",
    "\n",
    "#PM25 has values till up to 576, values from 300-500 are considered Hazardous. These are possible values according to\n",
    "#https://blissair.com/what-is-pm-2-5.htm#:~:text=On%20a%20very%20clear%20and%20non-hazy%20day%2C%20the,when%20evaluating%20the%20health%20impact%20of%20fine%20particles%3F\n"
   ]
  },
  {
   "cell_type": "markdown",
   "id": "adjusted-constant",
   "metadata": {},
   "source": [
    "## Imputation"
   ]
  },
  {
   "cell_type": "code",
   "execution_count": null,
   "id": "bacterial-synthesis",
   "metadata": {},
   "outputs": [],
   "source": [
    "#Impute negative values in Arithmetic Mean with 0 \n",
    "\n",
    "pm25['Arithmetic Mean'] = pm25['Arithmetic Mean'].apply(lambda x : x if x > 0 else 0)\n",
    "\n",
    "#We could also impute outliers with medians of means\n",
    "\n",
    "#AQI\n",
    "print('AQI Median',pm25['AQI'].quantile(0.50)) \n",
    "print('AQI last quartile', pm25['AQI'].quantile(0.95)) \n",
    "print('AQI Describe \\n ',pm25['AQI'].describe()) \n",
    "#df['BMI'] = np.where(pm25['BMI'] > 58, 26, df['BMI'])\n",
    "\n",
    "print('\\n')\n",
    "\n",
    "#Arithmetic Mean PM2.5\n",
    "print(\"PM2.5 Descriptives\")\n",
    "print(pm25['Arithmetic Mean'].quantile(0.50)) \n",
    "print(pm25['Arithmetic Mean'].quantile(0.95))"
   ]
  },
  {
   "cell_type": "code",
   "execution_count": null,
   "id": "fewer-british",
   "metadata": {},
   "outputs": [],
   "source": [
    "#Boxplot Again\n",
    "feats = ['Arithmetic Mean', 'AQI']\n",
    "plotnum = df[feats]\n",
    "ax = sns.boxplot(data=plotnum, orient=\"h\",fliersize = 3.5, palette=\"BrBG\")\n",
    "plt.show()"
   ]
  },
  {
   "cell_type": "code",
   "execution_count": null,
   "id": "disabled-framework",
   "metadata": {},
   "outputs": [],
   "source": [
    "counties = datemask[\"County Name\"].nunique()\n",
    "print(counties)  #total 605 counties, more than counties in NO2 \n",
    "states = datemask['State Name'].nunique()\n",
    "print(states)  #DC and Virgin Islands are not states, so total 50 states (all)\n",
    "\n",
    "state = datemask[\"State Name\"].value_counts().plot(kind='bar')\n",
    "state.set_xticks(range(states))\n",
    "state.set_xticklabels(datemask['State Name'].unique(), rotation=45)\n",
    "state.legend([\"Records Numbers per States\"])\n",
    "print()\n"
   ]
  },
  {
   "cell_type": "markdown",
   "id": "geological-snake",
   "metadata": {},
   "source": [
    "## Remove Non-States"
   ]
  },
  {
   "cell_type": "code",
   "execution_count": null,
   "id": "accurate-oliver",
   "metadata": {},
   "outputs": [],
   "source": [
    "datemask = datemask[~(datemask[\"State Name\"]== 'District Of Columbia')]\n",
    "datemask = datemask[~(datemask[\"State Name\"]== 'Virgin Islands')]"
   ]
  },
  {
   "cell_type": "code",
   "execution_count": null,
   "id": "dimensional-surfing",
   "metadata": {},
   "outputs": [],
   "source": [
    "counties = datemask[\"County Name\"].nunique()\n",
    "print(counties)  #total 605 counties, more than counties in NO2 \n",
    "states = datemask['State Name'].nunique()\n",
    "print(states)  #DC and Virgin Islands are not states, so total 50 states (all)"
   ]
  },
  {
   "cell_type": "code",
   "execution_count": null,
   "id": "accredited-gabriel",
   "metadata": {},
   "outputs": [],
   "source": [
    "#Profile Names Again\n",
    "counties = datemask[\"County Name\"].nunique()\n",
    "print(counties)  #total 605 counties, more than counties in NO2 \n",
    "states = datemask['State Name'].nunique()\n",
    "print(states)  #DC and Virgin Islands are not states, so total 50 states (all)\n",
    "\n",
    "state = datemask[\"State Name\"].value_counts().plot(kind='bar')\n",
    "state.set_xticks(range(states))\n",
    "state.set_xticklabels(datemask['State Name'].unique(), rotation=45)\n",
    "state.legend([\"Records Numbers per States\"])\n",
    "print()\n"
   ]
  },
  {
   "cell_type": "code",
   "execution_count": null,
   "id": "pacific-lying",
   "metadata": {},
   "outputs": [],
   "source": [
    "uniqcoun = datemask.groupby('State Name')['County Name'].nunique().sort_values()\n",
    "print(uniqcoun)"
   ]
  },
  {
   "cell_type": "code",
   "execution_count": null,
   "id": "unlikely-understanding",
   "metadata": {},
   "outputs": [],
   "source": [
    "allstate = datemask.groupby('State Name')\n",
    "stateozone_ppb = allstate['Arithmetic Mean'].mean()\n",
    "stateaqi = allstate['AQI'].mean()\n",
    "\n",
    "ax = pd.concat([stateozone_ppb, stateaqi], axis=1).plot(kind='bar')\n",
    "ax.set_xticks(range(len(allstate)))\n",
    "ax.set_xticklabels(allstate.groups.keys(), rotation=90)\n",
    "ax.legend([\"State Mean PM2.5\", \"State Mean AQI Value\"])\n",
    "print()"
   ]
  },
  {
   "cell_type": "code",
   "execution_count": null,
   "id": "banner-proportion",
   "metadata": {},
   "outputs": [],
   "source": [
    "#datemask.value_counts(subset=['State Name', 'County Name'], sort=True)\n",
    "datemask.groupby(by='State Name').agg('nunique')"
   ]
  },
  {
   "cell_type": "code",
   "execution_count": null,
   "id": "acute-calvin",
   "metadata": {},
   "outputs": [],
   "source": [
    "datemask.sort_values(by=['State Name', 'County Name', 'City Name', 'CBSA Name'], inplace=True)\n",
    "datemask.groupby('State Name').count()\n",
    "\n",
    "datemask.groupby(['State Name', 'County Name']).size().reset_index(name='counts') ,"
   ]
  },
  {
   "cell_type": "code",
   "execution_count": null,
   "id": "laughing-square",
   "metadata": {},
   "outputs": [],
   "source": []
  },
  {
   "cell_type": "code",
   "execution_count": null,
   "id": "fifth-sunrise",
   "metadata": {},
   "outputs": [],
   "source": [
    "#Drop counties based on county record count?\n",
    "#Also drop state if State has data for less than 3 counties then drop the state?\n",
    "datemask.to_csv('clean_pm25.csv', index_label= False)"
   ]
  }
 ],
 "metadata": {
  "kernelspec": {
   "display_name": "Python 3",
   "language": "python",
   "name": "python3"
  },
  "language_info": {
   "codemirror_mode": {
    "name": "ipython",
    "version": 3
   },
   "file_extension": ".py",
   "mimetype": "text/x-python",
   "name": "python",
   "nbconvert_exporter": "python",
   "pygments_lexer": "ipython3",
   "version": "3.8.3"
  }
 },
 "nbformat": 4,
 "nbformat_minor": 5
}
